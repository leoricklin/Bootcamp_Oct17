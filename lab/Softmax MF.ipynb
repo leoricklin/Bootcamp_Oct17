{
 "cells": [
  {
   "cell_type": "code",
   "execution_count": 1,
   "metadata": {
    "collapsed": true
   },
   "outputs": [],
   "source": [
    "### motivation of this notebook: predict rating is a classification problem. \n",
    "### By using mean sqared error, and output a single number, we treat it as a regression problem.\n",
    "### This method for a classification problem is not natural.\n",
    "### This notebook uses softmax and cross entropy to learn the probability of 5 rating class."
   ]
  },
  {
   "cell_type": "code",
   "execution_count": 2,
   "metadata": {
    "collapsed": true
   },
   "outputs": [],
   "source": [
    "import tensorflow as tf\n",
    "import numpy as np\n",
    "import pandas as pd\n",
    "import matplotlib.pyplot as plt\n",
    "%matplotlib inline"
   ]
  },
  {
   "cell_type": "markdown",
   "metadata": {},
   "source": [
    "## load data"
   ]
  },
  {
   "cell_type": "code",
   "execution_count": 3,
   "metadata": {
    "collapsed": true
   },
   "outputs": [],
   "source": [
    "def load_data():\n",
    "    age_desc = { 1: \"Under 18\", 18: \"18-24\", 25: \"25-34\", 35: \"35-44\", 45: \"45-49\", 50: \"50-55\", 56: \"56+\" }\n",
    "    occupation_desc = {\n",
    "        0: \"other or not specified\", 1: \"academic/educator\", 2: \"artist\", 3: \"clerical/admin\", \n",
    "        4: \"college/grad student\", 5: \"customer service\", 6: \"doctor/health care\", \n",
    "        7: \"executive/managerial\", 8: \"farmer\", 9: \"homemaker\", 10: \"K-12 student\", 11: \"lawyer\",\n",
    "        12: \"programmer\", 13: \"retired\", 14: \"sales/marketing\", 15: \"scientist\", 16: \"self-employed\",\n",
    "        17: \"technician/engineer\", 18: \"tradesman/craftsman\", 19: \"unemployed\", 20: \"writer\" }\n",
    "    rating_data = pd.read_csv(\n",
    "        \"ml-1m/ratings.dat\",\n",
    "        sep=\"::\",\n",
    "        engine=\"python\",\n",
    "        encoding=\"latin-1\",\n",
    "        names=['userid', 'movieid', 'rating', 'timestamp'])\n",
    "    user_data = pd.read_csv(\n",
    "        \"ml-1m/users.dat\", \n",
    "        sep='::', \n",
    "        engine='python', \n",
    "        encoding='latin-1',\n",
    "        names=['userid', 'gender', 'age', 'occupation', 'zipcode']\n",
    "    )\n",
    "    user_data['age_desc'] = user_data['age'].apply(lambda x: age_desc[x])\n",
    "    user_data['occ_desc'] = user_data['occupation'].apply(lambda x: occupation_desc[x])\n",
    "    movie_data = pd.read_csv(\n",
    "        \"ml-1m/movies.dat\",\n",
    "        sep='::', \n",
    "        engine='python', \n",
    "        encoding='latin-1',\n",
    "        names=['movieid', 'title', 'genre']\n",
    "    )\n",
    "    dataset = pd.merge(pd.merge(rating_data, movie_data, how=\"left\", on=\"movieid\"), user_data, how=\"left\", on=\"userid\")\n",
    "    adj_col = dataset['movieid']\n",
    "    adj_col_uni = adj_col.sort_values().unique()\n",
    "    adj_df = pd.DataFrame(adj_col_uni).reset_index().rename(columns = {0:'movieid','index':'adj_movieid'})\n",
    "    dataset = pd.merge(adj_df,dataset,how=\"right\", on=\"movieid\")\n",
    "    dataset['adj_userid'] = dataset['userid'] - 1\n",
    "    return dataset\n",
    "\n",
    "def train_valid_split(dataset):\n",
    "    dataset = dataset.sample(frac=1, replace=False)\n",
    "    n_split = int(len(dataset)*.7)\n",
    "    trainset = dataset[:n_split]\n",
    "    validset = dataset[n_split:]\n",
    "    return trainset, validset"
   ]
  },
  {
   "cell_type": "code",
   "execution_count": 4,
   "metadata": {
    "collapsed": true
   },
   "outputs": [],
   "source": [
    "dataset = load_data()\n",
    "trainset, validset = train_valid_split(dataset)"
   ]
  },
  {
   "cell_type": "markdown",
   "metadata": {},
   "source": [
    "## create model"
   ]
  },
  {
   "cell_type": "code",
   "execution_count": 5,
   "metadata": {
    "collapsed": true
   },
   "outputs": [],
   "source": [
    "### Because we want to have a output of a vector with 5 values. We make movie embedding a tensor of [num_movies, dim, 5]\n",
    "### This approach increases our parameter by 5 times. \n",
    "### In order to not introduce too much new parameter, we do the change on movie, since we have less movies than users in our dataset.\n",
    "### The meaning of our embedding has changed from learning user features and movie features \n",
    "### to user features and movie rating features. "
   ]
  },
  {
   "cell_type": "code",
   "execution_count": 6,
   "metadata": {
    "collapsed": true
   },
   "outputs": [],
   "source": [
    "def create_embeddings(num_users, num_movies, dim):\n",
    "    user_embeddings = tf.get_variable(\n",
    "        \"theta\",\n",
    "        shape = [num_users, dim, 1],\n",
    "        dtype = tf.float32,\n",
    "        initializer = tf.truncated_normal_initializer(mean=0, stddev=.05)\n",
    "    )\n",
    "    movie_embeddings = tf.get_variable(\n",
    "        \"phi\",\n",
    "        shape = [num_movies, dim, 5],      \n",
    "        dtype = tf.float32,\n",
    "        initializer = tf.truncated_normal_initializer(mean=0, stddev=.05)\n",
    "    )\n",
    "    return user_embeddings, movie_embeddings\n",
    "\n",
    "def create_dataset(user_ids, movie_ids, ratings):\n",
    "    user_id_var = tf.get_variable(\"userid\", initializer=user_ids, trainable=False)\n",
    "    movie_id_var = tf.get_variable(\"movieid\", initializer=movie_ids, trainable=False)\n",
    "    ratings_var = tf.get_variable(\"ratings\", initializer=np.asarray(ratings - 1, dtype=np.int32), trainable=False)\n",
    "    return user_id_var, movie_id_var, ratings_var\n",
    "\n",
    "def lookup_embeddings(user_embeddings, movie_embeddings, user_ids, movie_ids): \n",
    "    selected_user_embeddings = tf.gather(user_embeddings, user_ids)\n",
    "    selected_movie_embeddings = tf.gather(movie_embeddings, movie_ids)\n",
    "    return selected_user_embeddings, selected_movie_embeddings\n",
    "\n",
    "def predict_logits(user_embeddings, movie_embeddings, user_ids, movie_ids):\n",
    "    sel_usr_embs, sel_mov_embs = lookup_embeddings(user_embeddings, movie_embeddings, user_ids, movie_ids)\n",
    "    selected_predictions = tf.reduce_sum(sel_usr_embs * sel_mov_embs, axis = 1)\n",
    "    return selected_predictions\n",
    "\n",
    "def predict_from_logits(logits):\n",
    "    predictions = tf.nn.softmax(logits)\n",
    "    return predictions\n",
    "\n",
    "def predict(selected_user_embeddings, selected_movie_embeddings):\n",
    "    logits = predict_logits(selected_user_embeddings, selected_movie_embeddings)\n",
    "    predictions = predict_from_logits(logits)\n",
    "    return predictions\n",
    "\n",
    "def cross_entropy_loss(logits, ratings):\n",
    "    loss = tf.reduce_mean(tf.nn.sparse_softmax_cross_entropy_with_logits(labels=ratings, logits=logits))\n",
    "    return loss"
   ]
  },
  {
   "cell_type": "markdown",
   "metadata": {},
   "source": [
    "## hyperparameter"
   ]
  },
  {
   "cell_type": "code",
   "execution_count": 7,
   "metadata": {
    "collapsed": true
   },
   "outputs": [],
   "source": [
    "emb_dim = 8\n",
    "learning_rate = 2500\n",
    "epochs = 50\n",
    "lam = 0.02"
   ]
  },
  {
   "cell_type": "code",
   "execution_count": 8,
   "metadata": {},
   "outputs": [
    {
     "name": "stdout",
     "output_type": "stream",
     "text": [
      "1th epoch: 1.609409 (train loss), 1.609460 (valid loss)\n",
      "2th epoch: 1.609321 (train loss), 1.609460 (valid loss)\n",
      "3th epoch: 1.609227 (train loss), 1.609452 (valid loss)\n",
      "4th epoch: 1.609120 (train loss), 1.609432 (valid loss)\n",
      "5th epoch: 1.608992 (train loss), 1.609375 (valid loss)\n",
      "6th epoch: 1.608795 (train loss), 1.609243 (valid loss)\n",
      "7th epoch: 1.608450 (train loss), 1.608918 (valid loss)\n",
      "8th epoch: 1.607774 (train loss), 1.608118 (valid loss)\n",
      "9th epoch: 1.606309 (train loss), 1.606162 (valid loss)\n",
      "10th epoch: 1.602997 (train loss), 1.601476 (valid loss)\n",
      "11th epoch: 1.595358 (train loss), 1.590655 (valid loss)\n",
      "12th epoch: 1.578566 (train loss), 1.567971 (valid loss)\n",
      "13th epoch: 1.546379 (train loss), 1.529217 (valid loss)\n",
      "14th epoch: 1.499424 (train loss), 1.481590 (valid loss)\n",
      "15th epoch: 1.451017 (train loss), 1.438807 (valid loss)\n",
      "16th epoch: 1.411262 (train loss), 1.405913 (valid loss)\n",
      "17th epoch: 1.381051 (train loss), 1.381666 (valid loss)\n",
      "18th epoch: 1.358532 (train loss), 1.363726 (valid loss)\n",
      "19th epoch: 1.341389 (train loss), 1.350100 (valid loss)\n",
      "20th epoch: 1.327889 (train loss), 1.339385 (valid loss)\n",
      "21th epoch: 1.316784 (train loss), 1.330584 (valid loss)\n",
      "22th epoch: 1.307184 (train loss), 1.323082 (valid loss)\n",
      "23th epoch: 1.298467 (train loss), 1.316454 (valid loss)\n",
      "24th epoch: 1.290367 (train loss), 1.310964 (valid loss)\n",
      "25th epoch: 1.282882 (train loss), 1.306833 (valid loss)\n",
      "26th epoch: 1.276855 (train loss), 1.300955 (valid loss)\n",
      "27th epoch: 1.268515 (train loss), 1.301177 (valid loss)\n",
      "28th epoch: 1.266901 (train loss), 1.295710 (valid loss)\n",
      "29th epoch: 1.258112 (train loss), 1.291381 (valid loss)\n",
      "30th epoch: 1.251571 (train loss), 1.282365 (valid loss)\n",
      "31th epoch: 1.239391 (train loss), 1.283288 (valid loss)\n",
      "32th epoch: 1.237538 (train loss), 1.278061 (valid loss)\n",
      "33th epoch: 1.229092 (train loss), 1.276008 (valid loss)\n",
      "34th epoch: 1.223691 (train loss), 1.268475 (valid loss)\n",
      "35th epoch: 1.212908 (train loss), 1.267561 (valid loss)\n",
      "36th epoch: 1.208586 (train loss), 1.263775 (valid loss)\n",
      "37th epoch: 1.201040 (train loss), 1.262004 (valid loss)\n",
      "38th epoch: 1.195689 (train loss), 1.258542 (valid loss)\n",
      "39th epoch: 1.188380 (train loss), 1.257983 (valid loss)\n",
      "40th epoch: 1.184147 (train loss), 1.255350 (valid loss)\n",
      "41th epoch: 1.177643 (train loss), 1.254825 (valid loss)\n",
      "42th epoch: 1.173421 (train loss), 1.252582 (valid loss)\n",
      "43th epoch: 1.167359 (train loss), 1.252522 (valid loss)\n",
      "44th epoch: 1.163662 (train loss), 1.250711 (valid loss)\n",
      "45th epoch: 1.158120 (train loss), 1.250924 (valid loss)\n",
      "46th epoch: 1.154813 (train loss), 1.249488 (valid loss)\n",
      "47th epoch: 1.149816 (train loss), 1.249962 (valid loss)\n",
      "48th epoch: 1.146917 (train loss), 1.248842 (valid loss)\n",
      "49th epoch: 1.142412 (train loss), 1.249499 (valid loss)\n",
      "50th epoch: 1.139871 (train loss), 1.248636 (valid loss)\n"
     ]
    }
   ],
   "source": [
    "with tf.Graph().as_default():\n",
    "    tf.set_random_seed(123)\n",
    "    with tf.variable_scope(\"embeddings\"):\n",
    "        usr_embs, mov_embs = create_embeddings(dataset.adj_userid.max()+1, dataset.adj_movieid.max()+1, emb_dim)\n",
    "    with tf.variable_scope(\"train_set\"):\n",
    "        train_data = trainset[[\"adj_userid\", \"adj_movieid\", \"rating\"]].values.T\n",
    "        train_usr_ids, train_mov_ids, train_ratings = create_dataset(*train_data)\n",
    "    with tf.variable_scope(\"valid_set\"):\n",
    "        valid_data = validset[[\"adj_userid\", \"adj_movieid\", \"rating\"]].values.T\n",
    "        valid_usr_ids, valid_mov_ids, valid_ratings = create_dataset(*valid_data)\n",
    "    with tf.variable_scope(\"training\"):\n",
    "        train_logits = predict_logits(usr_embs, mov_embs, train_usr_ids, train_mov_ids)\n",
    "        train_preds = predict_from_logits(train_logits)\n",
    "        train_loss = cross_entropy_loss(train_logits, train_ratings)\n",
    "        optimizer = tf.train.GradientDescentOptimizer(learning_rate=learning_rate)\n",
    "        train_usr_embs = optimizer.minimize(train_loss, var_list=[usr_embs])\n",
    "        train_mov_embs = optimizer.minimize(train_loss, var_list=[mov_embs])\n",
    "    with tf.variable_scope(\"validation\"):\n",
    "        valid_logits = predict_logits(usr_embs, mov_embs, valid_usr_ids, valid_mov_ids)\n",
    "        valid_loss = cross_entropy_loss(valid_logits, valid_ratings)\n",
    "        valid_preds = predict_from_logits(valid_logits)\n",
    "    with tf.Session() as sess:\n",
    "        train_loss_hist, valid_loss_hist = [], []\n",
    "        sess.run(tf.global_variables_initializer())\n",
    "        for i in range(epochs):\n",
    "            sess.run(train_usr_embs)\n",
    "            current_train_loss = sess.run([train_loss, train_mov_embs])[0]\n",
    "            current_valid_loss = sess.run(valid_loss)\n",
    "            train_loss_hist.append(current_train_loss)\n",
    "            valid_loss_hist.append(current_valid_loss)\n",
    "            print(\"%ith epoch: %f (train loss), %f (valid loss)\"%(i+1, current_train_loss, current_valid_loss))\n",
    "        final_user_embeddings, final_movie_embeddings = sess.run([usr_embs, mov_embs])\n",
    "        final_valid_predictions = sess.run(valid_preds)"
   ]
  },
  {
   "cell_type": "code",
   "execution_count": 10,
   "metadata": {},
   "outputs": [
    {
     "data": {
      "image/png": "[encoded data removed]",
      "text/plain": [
       "<matplotlib.figure.Figure at 0x11e17a908>"
      ]
     },
     "metadata": {},
     "output_type": "display_data"
    }
   ],
   "source": [
    "plt.figure(figsize=(12,10))\n",
    "plt.plot(train_loss_hist, color=\"red\", label=\"train loss\")\n",
    "plt.plot(valid_loss_hist, color=\"blue\", label=\"valid loss\")\n",
    "plt.xlabel(\"epoch\")\n",
    "plt.ylabel(\"loss\")\n",
    "plt.legend()\n",
    "plt.show()"
   ]
  },
  {
   "cell_type": "markdown",
   "metadata": {},
   "source": [
    "### Measures"
   ]
  },
  {
   "cell_type": "code",
   "execution_count": 31,
   "metadata": {},
   "outputs": [],
   "source": [
    "results = validset[[\"gender\", \"userid\",\"movieid\",\"age_desc\",\"occ_desc\", \"title\", \"genre\", \"rating\"]].copy()\n",
    "results[\"prediction\"] = final_valid_predictions.argmax(axis=1)+1\n",
    "def compute_recall(prediction_col, target_col):\n",
    "    recall=[]\n",
    "    for i in range(5):\n",
    "        rating_df = results[results[target_col]==i+1]\n",
    "        num_true_rating = len(rating_df)+0.0\n",
    "        current_recall = (len(rating_df[rating_df[prediction_col]==i+1]))/num_true_rating\n",
    "        recall.append(current_recall)\n",
    "    return recall\n",
    "\n",
    "def compute_precision(prediction_col, target_col): \n",
    "    precision=[]\n",
    "    for i in range(5):\n",
    "        pred_df = results[results[prediction_col]==i+1]\n",
    "        pred_rating = float(len(pred_df))\n",
    "        current_precision = (len(pred_df[pred_df[target_col]==i+1]))/pred_rating\n",
    "        precision.append(current_precision)\n",
    "    return precision    \n",
    "\n",
    "def compute_mae(prediction_col, target_col):\n",
    "    return np.mean(np.abs(results[prediction_col]-results[target_col]))\n",
    "\n",
    "def compute_rmse(prediction_col, target_col):\n",
    "    return np.sqrt(1/len(results)*np.sum((results[prediction_col]- results[target_col])**2))"
   ]
  },
  {
   "cell_type": "code",
   "execution_count": 32,
   "metadata": {},
   "outputs": [
    {
     "name": "stdout",
     "output_type": "stream",
     "text": [
      "Recall for 1 star rating is 0.234453\n",
      "Recall for 2 star rating is 0.156541\n",
      "Recall for 3 star rating is 0.400064\n",
      "Recall for 4 star rating is 0.595235\n",
      "Recall for 5 star rating is 0.463036\n",
      "Precision for 1 star rating is 0.490064\n",
      "Precision for 2 star rating is 0.336381\n",
      "Precision for 3 star rating is 0.408358\n",
      "Precision for 4 star rating is 0.444788\n",
      "Precision for 5 star rating is 0.524674\n",
      "MAE of this model is 0.697697\n",
      "RMSE of this model is 1.024547\n"
     ]
    }
   ],
   "source": [
    "for r in range (5):\n",
    "    print ('Recall for %r star rating is %f' % (r+1, compute_recall('prediction', 'rating')[r]))\n",
    "for s in range(5):\n",
    "    print (\"Precision for %s star rating is %f\" %(s+1, compute_precision('prediction', 'rating')[s]))\n",
    "    \n",
    "print (\"MAE of this model is %f\" %(compute_mae('prediction', 'rating')))\n",
    "print (\"RMSE of this model is %f\" %(compute_rmse('prediction', 'rating')))"
   ]
  },
  {
   "cell_type": "code",
   "execution_count": 67,
   "metadata": {
    "collapsed": true
   },
   "outputs": [],
   "source": [
    "### softmax doesn't capture the order!!! But is order important in our case????"
   ]
  }
 ],
 "metadata": {
  "kernelspec": {
   "display_name": "Python 3",
   "language": "python",
   "name": "python3"
  },
  "language_info": {
   "codemirror_mode": {
    "name": "ipython",
    "version": 3
   },
   "file_extension": ".py",
   "mimetype": "text/x-python",
   "name": "python",
   "nbconvert_exporter": "python",
   "pygments_lexer": "ipython3",
   "version": "3.6.1"
  }
 },
 "nbformat": 4,
 "nbformat_minor": 2
}
