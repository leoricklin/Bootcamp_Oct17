{
 "cells": [
  {
   "cell_type": "markdown",
   "metadata": {},
   "source": [
    "In this notebook, we will demonstrate how to use the tensorflow low level API to build a deep learning model to predict movie rating from scratch.\n",
    "\n",
    "Our dataset: movielens 1m dataset.\n",
    "Our parameters: movie embeddings, user embeddings, weights and bias in DNN.\n",
    "Our Model: \n",
    "\n",
    "1. 4 layer neural network, with activation function: relu, relu, relu, softmax.\n",
    "2. Input layer is the element wise prodcut of the user embedding and the movie embedding.\n",
    "3. Cost function: a combination of cross entropy and mean squared error.\n",
    "4. User embedding and movie embedding will be initialized with the results from matrix factorization model.\n",
    "5. First 50 epochs only update weights and bias in DNN, from 51th epoch train model end-to-end."
   ]
  },
  {
   "cell_type": "code",
   "execution_count": 2,
   "metadata": {
    "collapsed": true
   },
   "outputs": [],
   "source": [
    "import tensorflow as tf\n",
    "import pandas as pd\n",
    "import matplotlib.pyplot as plt\n",
    "import numpy as np\n",
    "%matplotlib inline"
   ]
  },
  {
   "cell_type": "markdown",
   "metadata": {},
   "source": [
    "### download movie data and create model directory"
   ]
  },
  {
   "cell_type": "code",
   "execution_count": 3,
   "metadata": {},
   "outputs": [
    {
     "name": "stdout",
     "output_type": "stream",
     "text": [
      "mkdir: cannot create directory ‘mf_model’: File exists\n",
      "mkdir: cannot create directory ‘cache’: File exists\n"
     ]
    }
   ],
   "source": [
    "# download movie data and make directory for the model\n",
    "\n",
    "#! wget -q http://files.grouplens.org/datasets/movielens/ml-1m.zip\n",
    "#! unzip ml-1m.zip\n",
    "! mkdir mf_model\n",
    "!mkdir cache"
   ]
  },
  {
   "cell_type": "markdown",
   "metadata": {},
   "source": [
    "### data processing"
   ]
  },
  {
   "cell_type": "markdown",
   "metadata": {},
   "source": [
    "step 1: load data to pandas dataframes, merge the dataframes to one table."
   ]
  },
  {
   "cell_type": "code",
   "execution_count": 4,
   "metadata": {
    "collapsed": true
   },
   "outputs": [],
   "source": [
    "age_desc = {\n",
    "    1: \"Under 18\", 18: \"18-24\", 25: \"25-34\", 35: \"35-44\", 45: \"45-49\", 50: \"50-55\", 56: \"56+\"\n",
    "}\n",
    "occupation_desc = { \n",
    "    0: \"other or not specified\", 1: \"academic/educator\", 2: \"artist\", 3: \"clerical/admin\",\n",
    "    4: \"college/grad student\", 5: \"customer service\", 6: \"doctor/health care\",\n",
    "    7: \"executive/managerial\", 8: \"farmer\", 9: \"homemaker\", 10: \"K-12 student\", 11: \"lawyer\",\n",
    "    12: \"programmer\", 13: \"retired\", 14: \"sales/marketing\", 15: \"scientist\", 16: \"self-employed\",\n",
    "    17: \"technician/engineer\", 18: \"tradesman/craftsman\", 19: \"unemployed\", 20: \"writer\"\n",
    "}\n",
    "rating_data = pd.read_csv(\n",
    "    \"ml-1m/ratings.dat\",\n",
    "    sep=\"::\",\n",
    "    engine=\"python\",\n",
    "    encoding=\"latin-1\",\n",
    "    names=['userid', 'movieid', 'rating', 'timestamp'])\n",
    "\n",
    "user_data = pd.read_csv(\n",
    "    \"ml-1m/users.dat\", \n",
    "    sep='::', \n",
    "    engine='python', \n",
    "    encoding='latin-1',\n",
    "    names=['userid', 'gender', 'age', 'occupation', 'zipcode']\n",
    ")\n",
    "user_data['age_desc'] = user_data['age'].apply(lambda x: age_desc[x])\n",
    "user_data['occ_desc'] = user_data['occupation'].apply(lambda x: occupation_desc[x])\n",
    "\n",
    "movie_data = pd.read_csv(\n",
    "    \"ml-1m/movies.dat\",\n",
    "    sep='::', \n",
    "    engine='python', \n",
    "    encoding='latin-1',\n",
    "    names=['movieid', 'title', 'genre']\n",
    ")\n",
    "\n",
    "dataset = pd.merge(pd.merge(rating_data, movie_data, how=\"left\", on=\"movieid\"), user_data, how=\"left\", on=\"userid\")"
   ]
  },
  {
   "cell_type": "markdown",
   "metadata": {},
   "source": [
    "Step 2: preprocess the movie id and user id"
   ]
  },
  {
   "cell_type": "code",
   "execution_count": 5,
   "metadata": {
    "collapsed": true
   },
   "outputs": [],
   "source": [
    "def check_cols(df, cols):\n",
    "    \"\"\"\n",
    "    checks if there are gaps of index, and if the index starts from 0\n",
    "    \n",
    "    Arguments:\n",
    "    df -- dataframe of the dataset\n",
    "    cols -- dataframe columns that needs to be checked, in our case user id and movie id\n",
    "    \n",
    "    Returns:\n",
    "    a list of tuple [('COLUMN_NAME', boolean)], if True, the column needs to be fixed, if False, the column is ok.\n",
    "    \"\"\"\n",
    "    return [(col, False) if len(dataset[col].unique())-1 == dataset[col].max() else (col, True) for col in cols]\n",
    "\n",
    "def remove_gaps(df, col):\n",
    "    \"\"\"\n",
    "    preprocess the index of user id and movie id to start from 0 and reduce the gap of index\n",
    "    \n",
    "    Arguments:\n",
    "    df -- dataframe of the dataset\n",
    "    col -- dataframe columns that needs to be adjusted, in our case both user id and movie id\n",
    "    \n",
    "    Returns:\n",
    "    a dataframe with adjusted columns.\n",
    "    \"\"\"\n",
    "    adj_col_uni = df[col].sort_values().unique()\n",
    "    adj_df = pd.DataFrame(adj_col_uni).reset_index().rename(columns = {0: col, 'index': \"adj_%s\"%(col,)})\n",
    "    return pd.merge(adj_df, df, how=\"right\", on=col)"
   ]
  },
  {
   "cell_type": "code",
   "execution_count": 6,
   "metadata": {},
   "outputs": [
    {
     "name": "stdout",
     "output_type": "stream",
     "text": [
      "before fix:\n",
      "userid needs fix!\n",
      "movieid needs fix!\n",
      "\n",
      "after fix\n",
      "adj_userid ok.\n",
      "adj_movieid ok.\n"
     ]
    }
   ],
   "source": [
    "index_cols = [\"userid\", \"movieid\"]\n",
    "cols_check = check_cols(dataset, index_cols)\n",
    "print_check = lambda check: print(*[\"%s needs fix!\"%(c,) if f else \"%s ok.\"%(c,) for c, f in check], sep=\"\\n\")\n",
    "print(\"before fix:\")\n",
    "print_check(cols_check)\n",
    "for col, needs_fix in cols_check:\n",
    "    if needs_fix:\n",
    "        dataset = remove_gaps(dataset, col)\n",
    "\n",
    "print(\"\\nafter fix\")\n",
    "print_check(check_cols(dataset, [\"adj_userid\", \"adj_movieid\"]))"
   ]
  },
  {
   "cell_type": "markdown",
   "metadata": {},
   "source": [
    "step 3: shuffle data and split the data to train and validation set."
   ]
  },
  {
   "cell_type": "code",
   "execution_count": 7,
   "metadata": {
    "collapsed": true
   },
   "outputs": [],
   "source": [
    "dataset = dataset.sample(frac=1, replace=False)\n",
    "n_split = int(len(dataset)*.7)\n",
    "trainset = dataset[:n_split]\n",
    "validset = dataset[n_split:]"
   ]
  },
  {
   "cell_type": "markdown",
   "metadata": {},
   "source": [
    "### Build Matrix Factorization Model "
   ]
  },
  {
   "cell_type": "code",
   "execution_count": 8,
   "metadata": {
    "collapsed": true
   },
   "outputs": [],
   "source": [
    "def initialize_embeddings(num_users, num_movies, dim):\n",
    "    \"\"\"\n",
    "    initializes embeddings. User_embedding and movie_embedding are the user features and movie features \n",
    "    that needs to be learned by the matrix factorization model.\n",
    "    \n",
    "    Arguments:\n",
    "    num_users -- number of users\n",
    "    num_movies -- number of movies\n",
    "    dim -- dimension of learned user and movie features, it's a hyper-parameter\n",
    "    \n",
    "    Returns:\n",
    "    user_embeddings -- a matrix of shape [number of users, dim]\n",
    "    movie_embeddings -- a matrix of shape [number of movies, dim]\n",
    "    \"\"\"   \n",
    "    user_embeddings = tf.get_variable(\n",
    "        \"theta\",\n",
    "        initializer=tf.truncated_normal_initializer(mean=0, stddev=.05),\n",
    "        shape=[num_users, dim],\n",
    "        dtype=tf.float32\n",
    "    )\n",
    "    movie_embeddings = tf.get_variable(\n",
    "        \"phi\",\n",
    "        initializer=tf.truncated_normal_initializer(mean=0, stddev=.05),\n",
    "        shape=[num_movies, dim],\n",
    "        dtype=tf.float32\n",
    "    )\n",
    "    return (user_embeddings, movie_embeddings)\n",
    "\n",
    "def create_dataset(user_ids, movie_ids, ratings):\n",
    "    \"\"\"\n",
    "    load user id, movie id and rating values. Turn pandas array to tensors.\n",
    "    \n",
    "    Arguments:\n",
    "    user_ids -- user index\n",
    "    movie_ids -- movies index\n",
    "    ratings -- true rating value\n",
    "    \n",
    "    Returns:\n",
    "    user_id_var -- a tensor of shape [number of training examples, 1]\n",
    "    movie_id_var -- a tensor of shape [number of training examples, 1]\n",
    "    ratings_var -- a tensor of shape [number of training examples, 1]\n",
    "    \"\"\"\n",
    "    user_id_var = tf.get_variable(\"userid\", initializer=user_ids, trainable=False)\n",
    "    movie_id_var = tf.get_variable(\"movieid\", initializer=movie_ids, trainable=False)\n",
    "    ratings_var = tf.get_variable(\"ratings\", initializer=np.asarray(ratings, dtype=np.int32), trainable=False)\n",
    "    return (user_id_var, movie_id_var, ratings_var)\n",
    "\n",
    "def lookup_embeddings(user_embeddings, movie_embeddings, user_ids, movie_ids):\n",
    "    \"\"\"\n",
    "    map the embedding to user id and movie id in trainset and validset in order to calculate the prediction for each example.\n",
    "    We use tf.gather function for this. Tf.gather gathers slices from params according to indices.\n",
    "    \n",
    "    Arguments:\n",
    "    user_embeddings -- shape [number of users, dim]\n",
    "    movie_embeddings -- shape [number of movie, dim]\n",
    "    user_ids -- user id tensor, loaded user id from dataset\n",
    "    movie_ids -- movie id tensor, loaded movie id from dataset\n",
    "    \n",
    "    Returns:\n",
    "    selected_user_embeddings -- a tensor of shape [number of training examples, dim]\n",
    "    selected_movie_embeddings -- a tensor of shape [number of training examples, dim]\n",
    "    \"\"\"  \n",
    "    selected_user_embeddings = tf.gather(user_embeddings, user_ids)\n",
    "    selected_movie_embeddings = tf.gather(movie_embeddings, movie_ids)\n",
    "    return (selected_user_embeddings, selected_movie_embeddings)\n",
    "\n",
    "def predict(selected_user_embeddings, selected_movie_embeddings):\n",
    "    \"\"\"\n",
    "    calculates prediction. This is the dot product of user embedding and movie embedding. \n",
    "    For each training example, this returns a single number. Alternatively, using \n",
    "    tf.reduce_sum(tf.multiply(selected_user_embeddings,selected_movie_embeddings), axis=1)\n",
    "\n",
    "    Arguments:\n",
    "    selected_user_embeddings -- user embedding value for each training example\n",
    "    selected_movie_embeddings -- movies embedding value for each training example\n",
    "    \n",
    "    Returns:\n",
    "    selected_predictions -- a tensor of shape [number of training examples, 1]\n",
    "    \"\"\" \n",
    "    selected_predictions = tf.reduce_sum(\n",
    "        selected_user_embeddings * selected_movie_embeddings,\n",
    "        axis = 1\n",
    "    )\n",
    "    return selected_predictions\n",
    "\n",
    "def mean_squared_difference(predictions, ratings):\n",
    "    \"\"\"\n",
    "    calculates cost.\n",
    "    \n",
    "    Arguments:\n",
    "    predictions -- predicted ratings.\n",
    "    ratings -- true ratings.\n",
    "    \n",
    "    Returns:\n",
    "    difference -- mean squared error. It's a real number. \n",
    "    \"\"\" \n",
    "    difference = tf.reduce_mean(tf.squared_difference(predictions, tf.cast(ratings, tf.float32)))\n",
    "    return difference"
   ]
  },
  {
   "cell_type": "markdown",
   "metadata": {},
   "source": [
    "### Train the Matrix Factorization Model"
   ]
  },
  {
   "cell_type": "markdown",
   "metadata": {},
   "source": [
    "Here we train the matrix factorization model and save the final user embedding and movie embedding value for DNN. "
   ]
  },
  {
   "cell_type": "code",
   "execution_count": 9,
   "metadata": {},
   "outputs": [
    {
     "name": "stdout",
     "output_type": "stream",
     "text": [
      "valid loss at step 1: 14.075878\n",
      "valid loss at step 51: 2.704063\n",
      "valid loss at step 101: 1.068545\n",
      "valid loss at step 151: 0.913589\n",
      "valid loss at step 201: 0.864473\n",
      "valid loss at step 251: 0.837146\n",
      "valid loss at step 301: 0.818313\n",
      "valid loss at step 351: 0.804321\n",
      "valid loss at step 401: 0.793286\n",
      "valid loss at step 451: 0.784439\n",
      "valid loss at step 501: 0.777340\n",
      "valid loss at step 551: 0.771776\n",
      "valid loss at step 601: 0.767572\n",
      "valid loss at step 651: 0.764458\n",
      "valid loss at step 701: 0.762130\n",
      "valid loss at step 751: 0.760331\n",
      "valid loss at step 801: 0.758887\n",
      "valid loss at step 851: 0.757696\n",
      "valid loss at step 901: 0.756706\n",
      "valid loss at step 951: 0.755887\n",
      "valid loss at step 1001: 0.755220\n",
      "valid loss at step 1051: 0.754691\n",
      "valid loss at step 1101: 0.754287\n",
      "valid loss at step 1151: 0.753996\n",
      "valid loss at step 1201: 0.753805\n",
      "valid loss at step 1251: 0.753704\n",
      "valid loss at step 1301: 0.753682\n",
      "valid loss at step 1351: 0.753728\n",
      "embeddings saved\n"
     ]
    }
   ],
   "source": [
    "emb_dim = 8\n",
    "mf_learning_rate = 50\n",
    "mf_epochs = 1400\n",
    "\n",
    "n_users = len(dataset.adj_userid.unique())\n",
    "n_movies = len(dataset.adj_movieid.unique())\n",
    "\n",
    "def mf_train(emb_dim, n_users, n_movies, trainset, validset, learning_rate, epochs):\n",
    "    with tf.Graph().as_default():\n",
    "        with tf.variable_scope(\"embeddings\"):\n",
    "            usr_embs, mov_embs = initialize_embeddings(n_users, n_movies, emb_dim)\n",
    "        with tf.variable_scope(\"train_set\"):\n",
    "            train_data = trainset[[\"adj_userid\", \"adj_movieid\", \"rating\"]].values.T\n",
    "            train_usr_ids, train_mov_ids, train_ratings = create_dataset(*train_data)\n",
    "        with tf.variable_scope(\"valid_set\"):\n",
    "            valid_data = validset[[\"adj_userid\", \"adj_movieid\", \"rating\"]].values.T\n",
    "            valid_usr_ids, valid_mov_ids, valid_ratings = create_dataset(*valid_data)\n",
    "        with tf.variable_scope(\"training\"):\n",
    "            train_sel_usr_emb, train_sel_mov_emb = lookup_embeddings(usr_embs, mov_embs, train_usr_ids, train_mov_ids)\n",
    "            train_preds = predict(train_sel_usr_emb, train_sel_mov_emb)\n",
    "            train_loss = mean_squared_difference(train_preds, train_ratings)\n",
    "            optimizer = tf.train.GradientDescentOptimizer(learning_rate=learning_rate)\n",
    "            train_usr_embs = optimizer.minimize(train_loss, var_list=[usr_embs])\n",
    "            train_mov_embs = optimizer.minimize(train_loss, var_list=[mov_embs])\n",
    "        with tf.variable_scope(\"validation\"):\n",
    "            valid_sel_usr_emb, valid_sel_mov_emb = lookup_embeddings(usr_embs, mov_embs, valid_usr_ids, valid_mov_ids)\n",
    "            valid_preds = predict(valid_sel_usr_emb, valid_sel_mov_emb)\n",
    "            valid_loss = mean_squared_difference(valid_preds, valid_ratings)\n",
    "        with tf.Session() as sess:\n",
    "            sess.run(tf.global_variables_initializer())\n",
    "            train_loss_history = []\n",
    "            valid_loss_history = []\n",
    "            for i in range(epochs):\n",
    "                current_train_loss, _ = sess.run([train_loss, train_usr_embs])\n",
    "                current_train_loss, _ = sess.run([train_loss, train_mov_embs])\n",
    "                current_valid_loss = sess.run(valid_loss)\n",
    "                if i%50 == 0:\n",
    "                    print(\"valid loss at step %i: %f\"%(i+1, current_valid_loss))\n",
    "                train_loss_history.append(current_train_loss)\n",
    "                valid_loss_history.append(current_valid_loss)\n",
    "            final_user_embeddings, final_movie_embeddings = sess.run([usr_embs, mov_embs])\n",
    "            final_valid_predictions = sess.run(valid_preds)\n",
    "    return (final_user_embeddings, final_movie_embeddings, train_loss_history, valid_loss_history, final_valid_predictions)\n",
    "\n",
    "mf_result = mf_train(emb_dim, n_users, n_movies, trainset, validset, mf_learning_rate, mf_epochs)\n",
    "mf_user_embs, mf_movie_embs, mf_tlh, mf_vlh, mf_fvp = mf_result\n",
    "\n",
    "np.save(\"mf_model/user_embeddings\", mf_user_embs)\n",
    "np.save(\"mf_model/movie_embeddings\", mf_movie_embs)\n",
    "\n",
    "print(\"embeddings saved\")"
   ]
  },
  {
   "cell_type": "markdown",
   "metadata": {},
   "source": [
    "### plot losses"
   ]
  },
  {
   "cell_type": "markdown",
   "metadata": {},
   "source": [
    "plot the traing loss and valid loss"
   ]
  },
  {
   "cell_type": "code",
   "execution_count": 10,
   "metadata": {},
   "outputs": [
    {
     "data": {
      "image/png": "[encoded data removed]",
      "text/plain": [
       "<matplotlib.figure.Figure at 0x7f6781d8c208>"
      ]
     },
     "metadata": {},
     "output_type": "display_data"
    }
   ],
   "source": [
    "plt.figure(figsize=(12,10))\n",
    "plt.plot(np.array(mf_tlh), color=\"red\", label=\"train loss\")\n",
    "plt.plot(np.array(mf_vlh), color=\"blue\", label=\"valid loss\")\n",
    "plt.xlabel(\"epoch\")\n",
    "plt.ylabel(\"loss\")\n",
    "plt.legend()\n",
    "plt.show()"
   ]
  },
  {
   "cell_type": "markdown",
   "metadata": {},
   "source": [
    "### build DNN"
   ]
  },
  {
   "cell_type": "markdown",
   "metadata": {},
   "source": [
    "Some notation first:\n",
    " - We have layers $1,...,n$ of our neural network\n",
    " - $W_i$ and $b_i$ are the weights and biases for the $i^{th}$ layer of our DNN. $W_1$ is the weight matrix of first layer. $W_n$ is the weight matrix of last layer.\n",
    " - for the $i^{th}$ layer of neural network, if $d_{in}$ is the dimension of input layer, $d_{out}$ is the dimension of output layer, then the dimension of $W_i$ is [$d_{in}$, $d_{out}$] and the dimension of $b_i$ is [$1$, $d_{out}$]\n",
    " - $z_i$ is the linear unit of the output from the previous layer: $z_i$ = $a_{i-1}\\cdot W_i + b_i$\n",
    " - $a_i$ is the activation unit of $z_i$: if $f_i$ is the action function of ith layer: $a_i = f_i(z_i)$\n",
    " \n",
    "\n",
    "In order to build the DNN, the steps below are followed:\n",
    "1. load the movie and user embeddings from the results learned in matrix factorization model\n",
    "2. initialize the DNN parameters\n",
    "3. calculate the logits $z_n$ (linear output of last hidden layer)\n",
    "4. calculate the predictions $softmax(z_n)$\n",
    "5. calculate the loss\n",
    "6. train and validate the model"
   ]
  },
  {
   "cell_type": "markdown",
   "metadata": {},
   "source": [
    "### 1. load the movie and user embeddings"
   ]
  },
  {
   "cell_type": "code",
   "execution_count": 11,
   "metadata": {
    "collapsed": true
   },
   "outputs": [],
   "source": [
    "def load_embeddings(user_embs_file, movie_embs_file):\n",
    "    \"\"\"\n",
    "    In the deep model we initialize the user embedding and movie embedding with value that learned from the matrix \n",
    "    factorization model. So here load already saved values. \n",
    "    \n",
    "    Arguments:\n",
    "    user_embs_file -- saved user embedding file name\n",
    "    movie_embs_file -- saved movie embedding file name\n",
    "    \n",
    "    Returns:\n",
    "    usr_embs -- initialized user embeddings array\n",
    "    mov_embs -- initialized user embeddings array\n",
    "    \"\"\"       \n",
    "\n",
    "    usr_embs_array = np.load(user_embs_file)\n",
    "    mov_embs_array = np.load(movie_embs_file)\n",
    "    usr_embs = tf.get_variable(\n",
    "        \"usr_embs\",\n",
    "        initializer = tf.constant_initializer(usr_embs_array),\n",
    "        shape = usr_embs_array.shape\n",
    "    )\n",
    "    mov_embs = tf.get_variable(\n",
    "        \"mov_embs\",\n",
    "        initializer = tf.constant_initializer(mov_embs_array),\n",
    "        shape = mov_embs_array.shape\n",
    "    )\n",
    "    return (usr_embs, mov_embs)"
   ]
  },
  {
   "cell_type": "markdown",
   "metadata": {},
   "source": [
    "### 2. initialize the DNN parameters"
   ]
  },
  {
   "cell_type": "code",
   "execution_count": 10,
   "metadata": {
    "collapsed": true
   },
   "outputs": [],
   "source": [
    "def initialize_nn_params(net_dims):\n",
    "    \"\"\"\n",
    "    initializes parameter Ws and bs for the whole NN. \n",
    "\n",
    "    net_dims -- layer dimensions, it's a list looks like [dim_input, d_1, ..., d_n]\n",
    "\n",
    "    Returns:\n",
    "    params -- a dictionary of variables containing W1, b1, ..., Wn, bn\n",
    "    \"\"\"\n",
    "    \n",
    "    #We first zip the two lists of net_dims to get the list of tuples (d_in, d_out) for each layer.\n",
    "    #enumerate allows us to loop over something and have an automatic counter, in this case we use the counter as the \n",
    "    #index of W and b and we use the tuple (d_in, d_out) for the shape of our W and b.\n",
    "    layer_dims = list(zip(net_dims[:-1], net_dims[1:]))\n",
    "    params = {}\n",
    "    for i, (d_in, d_out) in enumerate(layer_dims):\n",
    "        params[\"W\"+str(i+1)] = tf.get_variable(\n",
    "            \"W\"+str(i+1), \n",
    "            [d_in, d_out], \n",
    "            initializer = tf.contrib.layers.xavier_initializer(seed =1)\n",
    "        )\n",
    "        params[\"b\"+str(i+1)] = tf.get_variable(\n",
    "            \"b\"+str(i+1), \n",
    "            [1,d_out], \n",
    "            initializer = tf.zeros_initializer()\n",
    "        )\n",
    "    return params"
   ]
  },
  {
   "cell_type": "markdown",
   "metadata": {},
   "source": [
    "### 3. calculate the linear ouput of the last linear unit"
   ]
  },
  {
   "cell_type": "code",
   "execution_count": 14,
   "metadata": {
    "collapsed": true
   },
   "outputs": [],
   "source": [
    "def create_inputs(user_embeddings, movie_embeddings, user_ids, movie_ids):\n",
    "    \"\"\"\n",
    "    use the lookup_embeddings function defined above to look up the embeddings based on the ids for the whole dataset.\n",
    "    \n",
    "    Arguments:\n",
    "    user_embeddings -- shape [number of users, dim]\n",
    "    movie_embeddings -- shape [number of movie, dim]\n",
    "    user_ids -- user id variable, loaded user id from dataset\n",
    "    movie_ids -- movie id variable, loaded movie id from dataset\n",
    "    \n",
    "    Returns:\n",
    "    inputs --  input layer of the NN, shape [number of examples, dimension of the embeddings] \n",
    "    \"\"\"\n",
    "    sel_usr_embs, sel_mov_embs = lookup_embeddings(user_embeddings, movie_embeddings, user_ids, movie_ids)\n",
    "    inputs = sel_usr_embs * sel_mov_embs\n",
    "    return inputs\n",
    "\n",
    "def forward_propagate(inputs, params, acts, net_dims):\n",
    "    \"\"\"\n",
    "    propagate the inputs through the network: INPUTS -> LINEAR_1 -> ACT_1 -> ... -> LINEAR_N\n",
    "    \n",
    "    Arguments:\n",
    "    inputs -- the user and movie embedding\n",
    "    params -- python dictionary containing parameters W1, b1, ..., Wn, bn as returned by initialize_nn_params\n",
    "    acts -- list of activation functions, e.g.['tf.nn.relu', 'tf.nn.relu', 'None'] (None means linear activation)\n",
    "    net_dims -- layer dimensions, it's a list looks like [dim_input, d_1, ..., d_n]\n",
    "\n",
    "    Returns:\n",
    "    a -- the output of the last hidden layer\n",
    "    \"\"\"\n",
    "    a = inputs\n",
    "    n_layers = len(net_dims)-1\n",
    "    for i in range(n_layers):\n",
    "        W = params['W'+str(i+1)]\n",
    "        b = params['b'+str(i+1)]\n",
    "        z = tf.matmul(a, W) + b\n",
    "        a = acts[i](z) if acts[i] is not None else z\n",
    "    return a"
   ]
  },
  {
   "cell_type": "markdown",
   "metadata": {},
   "source": [
    "### 4. calculate the prediction"
   ]
  },
  {
   "cell_type": "code",
   "execution_count": 15,
   "metadata": {
    "collapsed": true
   },
   "outputs": [],
   "source": [
    "def calc_predict(logits):\n",
    "    \"\"\"\n",
    "    calculates predictions, wraps tf.nn.softmax for documentation purposes.\n",
    "    \n",
    "    Arguments:\n",
    "    logits -- tensor of logits, for example the (linear) output of the last hidden layer of a NN\n",
    "\n",
    "    Returns:\n",
    "    prediction -- softmax of logits, represents probability of each category, shape (number of examples, 5)\n",
    "    \"\"\"\n",
    "    return tf.nn.softmax(logits)"
   ]
  },
  {
   "cell_type": "markdown",
   "metadata": {},
   "source": [
    "### 5. calculate the loss"
   ]
  },
  {
   "cell_type": "markdown",
   "metadata": {},
   "source": [
    "The loss is a combination of cross entropy and mean squared error."
   ]
  },
  {
   "cell_type": "code",
   "execution_count": 16,
   "metadata": {
    "collapsed": true
   },
   "outputs": [],
   "source": [
    "def cross_entropy(logits, ratings):\n",
    "    \"\"\"\n",
    "    computes the cross entropy.\n",
    "    \n",
    "    Arguments:\n",
    "    logits -- tensor of logits, for example the (linear) output of the last hidden layer of a NN of\n",
    "              shape (number of examples, 5)\n",
    "    y -- \"true\" labels, densely encoded starting from 1, shape of (number of examples, 1). This will be our true\n",
    "              ratings, i.e. [4,5,3,5,1,...]\n",
    "    \n",
    "    Returns:\n",
    "    cross_entropy - scalar, mean cross entropy across examples\n",
    "    \"\"\"\n",
    "    labels = ratings-1\n",
    "    \n",
    "    cross_entropy = tf.reduce_mean(tf.nn.sparse_softmax_cross_entropy_with_logits(logits=logits, labels=labels))\n",
    "    \n",
    "    return cross_entropy\n",
    "\n",
    "def mean_squared_error(predictions, ratings):\n",
    "    \"\"\"\n",
    "    computes the mean squared error.\n",
    "     \n",
    "     \n",
    "    Arguments:\n",
    "    prediction -- predicted value, shape (number of examples, 5)\n",
    "    rating -- \"true\" labels, shape (number of examples, 5)\n",
    "    \n",
    "    Returns:\n",
    "    mean_distance -- mean squared error \n",
    "    \"\"\"\n",
    "    \n",
    "    #tf.expand_dims returns a tensor with the same data as input, but its shape has an additional \n",
    "    #dimension of size 1 added. e.g ratings=[1,1] (rank 1), tf.expand_dims(ratings,-1)=[[1][1]] (rank 2).\n",
    "    #tf.tile creates a new tensor by replicating input multiples times. e.g. tf.tile([[1][1]], [1,5]) allows\n",
    "    #us to replicate the value 5 times on the 2nd axis. \n",
    "    #[[1 1 1 1 1]\n",
    "    # [1 1 1 1 1]]\n",
    "    #distance: the further away it is, it will be assigned a big number and it's a non-linear increase, we used square.\n",
    "    #[[ 0  1  4  9 16]\n",
    "    #[ 0  1  4  9 16]]\n",
    "    #\n",
    "    #predictions: \n",
    "    #[[0.,  0.,  0.,  0.4, 0.6]\n",
    "    #[ 0.2, 0.7, 0.1, 0,   0  ]] \n",
    "    #this means the model predicts 5, 2\n",
    "    #\n",
    "    #let's multiply predictions and distance:\n",
    "    #\n",
    "    #[[ 0.          0.          0.          3.60000014  9.60000038]\n",
    "    #[ 0.          0.69999999  0.40000001  0.          0.        ]]\n",
    "    stars = tf.range(1,6)\n",
    "    distances = (stars - tf.tile(tf.expand_dims(ratings, -1), [1, 5]))**2 \n",
    "    mean_distance = tf.reduce_mean(tf.reduce_sum(predictions * tf.cast(distances, tf.float32), axis=-1))\n",
    "    return mean_distance\n",
    "\n",
    "def mean_squared_error2(predictions, ratings):\n",
    "    \"\"\"\n",
    "    computes the mean squared error.\n",
    "    \n",
    "    Arguments:\n",
    "    prediction -- predicted value, shape (number of examples, 5)\n",
    "    rating -- \"true\" labels, shape (number of examples, 5)\n",
    "    \n",
    "    Returns:\n",
    "    mean_squared_error - mean squared error\n",
    "    \"\"\"\n",
    "    mean_squared_error=tf.reduce_mean(tf.squared_difference(tf.cast(tf.argmax(predictions, axis = 1),tf.float32), \n",
    "                                                            tf.cast(ratings-1, tf.float32)))\n",
    "    return mean_squared_error\n",
    "\n",
    "def dfm_loss(logits, ratings, params, alpha, beta):\n",
    "    \"\"\"\n",
    "    combines the mean squared error, cross entropy and regularization term to compute the total loss. \n",
    "    \n",
    "    Arguments:\n",
    "    logits -- output of forward propagation (output of the last LINEAR unit), of shape (number of examples, 5)\n",
    "    rating -- \"true\" labels, shape (number of examples, 1)\n",
    "    params -- a dictionary of variables containing W1, b1,...Wn, bn\n",
    "    alpha -- hyper-parameter, controls the contribution of two loss functions\n",
    "    beta --  hyper-parameter for the regularization term\n",
    "    \n",
    "    Returns:\n",
    "    cost - total loss\n",
    "    \"\"\"\n",
    "    predictions = calc_predict(logits)\n",
    "    loss = alpha * mean_squared_error(predictions, ratings) + (1-alpha) * cross_entropy(logits, ratings)\n",
    "    \n",
    "    reg = 0\n",
    "    for n, p in params.items():\n",
    "        reg = reg + tf.reduce_mean(p**2)\n",
    "    return loss + beta*reg"
   ]
  },
  {
   "cell_type": "markdown",
   "metadata": {},
   "source": [
    "### 6. train and validate the model"
   ]
  },
  {
   "cell_type": "code",
   "execution_count": 17,
   "metadata": {
    "scrolled": false
   },
   "outputs": [
    {
     "name": "stdout",
     "output_type": "stream",
     "text": [
      "1: 1.877511/1.619234; 2: 1.428925/1.458286; 3: 1.349173/1.424797; 4: 1.324164/1.408225; 5: 1.311318/1.398968; 6: 1.303878/1.393317; 7: 1.299159/1.389538; 8: 1.295935/1.386855; 9: 1.293601/1.384878; 10: 1.291840/1.383357; 11: 1.290469/1.382157; 12: 1.289379/1.381186; 13: 1.288496/1.380387; 14: 1.287755/1.379701; 15: 1.287116/1.379100; 16: 1.286603/1.378624; 17: 1.286204/1.378261; 18: 1.285897/1.377973; 19: 1.285661/1.377757; 20: 1.285471/1.377588; 21: 1.285321/1.377441; 22: 1.285204/1.377330; 23: 1.285101/1.377238; 24: 1.285016/1.377164; 25: 1.284943/1.377100; 26: 1.284883/1.377043; 27: 1.284832/1.377000; 28: 1.284788/1.376953; 29: 1.284750/1.376920; 30: 1.284716/1.376890; 31: 1.284686/1.376867; 32: 1.284661/1.376843; 33: 1.284638/1.376823; 34: 1.284619/1.376802; 35: 1.284603/1.376788; 36: 1.284587/1.376770; 37: 1.284575/1.376755; 38: 1.284561/1.376746; 39: 1.284550/1.376737; 40: 1.284540/1.376728; 41: 1.284531/1.376721; 42: 1.284522/1.376714; 43: 1.284514/1.376708; 44: 1.284507/1.376703; 45: 1.284501/1.376701; 46: 1.284495/1.376694; 47: 1.284491/1.376693; 48: 1.284486/1.376689; 49: 1.284481/1.376687; 50: 1.284477/1.376682; 51: 1.283772/1.374165; 52: 1.282068/1.371945; 53: 1.280584/1.369890; 54: 1.279219/1.367975; 55: 1.277956/1.366181; 56: 1.276779/1.364502; 57: 1.275676/1.362911; 58: 1.274637/1.361403; 59: 1.273651/1.359963; 60: 1.272714/1.358587; 61: 1.271818/1.357270; 62: 1.270959/1.356009; 63: 1.270132/1.354796; 64: 1.269335/1.353624; 65: 1.268564/1.352493; 66: 1.267817/1.351400; 67: 1.267092/1.350340; 68: 1.266386/1.349311; 69: 1.265698/1.348311; 70: 1.265028/1.347337; 71: 1.264372/1.346385; 72: 1.263731/1.345458; 73: 1.263104/1.344553; 74: 1.262489/1.343672; 75: 1.261886/1.342807; 76: 1.261293/1.341961; 77: 1.260713/1.341131; 78: 1.260142/1.340320; 79: 1.259580/1.339523; 80: 1.259027/1.338741; 81: 1.258483/1.337971; 82: 1.257948/1.337215; 83: 1.257419/1.336473; 84: 1.256899/1.335745; 85: 1.256386/1.335026; 86: 1.255880/1.334318; 87: 1.255380/1.333623; 88: 1.254887/1.332939; 89: 1.254401/1.332263; 90: 1.253920/1.331598; 91: 1.253445/1.330940; 92: 1.252976/1.330293; 93: 1.252512/1.329655; 94: 1.252053/1.329025; 95: 1.251599/1.328403; 96: 1.251150/1.327788; 97: 1.250706/1.327183; 98: 1.250267/1.326585; 99: 1.249833/1.325991; 100: 1.249403/1.325405; 101: 1.248978/1.324827; 102: 1.248556/1.324255; 103: 1.248139/1.323689; 104: 1.247726/1.323130; 105: 1.247317/1.322577; 106: 1.246912/1.322027; 107: 1.246511/1.321483; 108: 1.246113/1.320947; 109: 1.245720/1.320415; 110: 1.245330/1.319890; 111: 1.244943/1.319370; 112: 1.244560/1.318857; 113: 1.244181/1.318349; 114: 1.243805/1.317844; 115: 1.243432/1.317345; 116: 1.243062/1.316850; 117: 1.242695/1.316360; 118: 1.242332/1.315874; 119: 1.241972/1.315394; 120: 1.241614/1.314917; 121: 1.241260/1.314445; 122: 1.240909/1.313976; 123: 1.240560/1.313512; 124: 1.240215/1.313053; 125: 1.239872/1.312598; 126: 1.239532/1.312148; 127: 1.239195/1.311700; 128: 1.238860/1.311257; 129: 1.238528/1.310817; 130: 1.238199/1.310381; 131: 1.237872/1.309947; 132: 1.237548/1.309518; 133: 1.237226/1.309090; 134: 1.236907/1.308668; 135: 1.236590/1.308249; 136: 1.236276/1.307835; 137: 1.235964/1.307420; 138: 1.235654/1.307012; 139: 1.235347/1.306606; 140: 1.235041/1.306204; 141: 1.234739/1.305805; 142: 1.234438/1.305408; 143: 1.234139/1.305016; 144: 1.233843/1.304627; 145: 1.233549/1.304239; 146: 1.233257/1.303856; 147: 1.232967/1.303475; 148: 1.232679/1.303096; 149: 1.232393/1.302721; 150: 1.232108/1.302349; 151: 1.231827/1.301979; 152: 1.231546/1.301610; 153: 1.231267/1.301246; 154: 1.230991/1.300884; 155: 1.230716/1.300525; 156: 1.230443/1.300167; 157: 1.230173/1.299814; 158: 1.229903/1.299462; 159: 1.229636/1.299113; 160: 1.229371/1.298766; 161: 1.229107/1.298421; 162: 1.228845/1.298078; 163: 1.228585/1.297739; 164: 1.228326/1.297402; 165: 1.228070/1.297070; 166: 1.227814/1.296738; 167: 1.227561/1.296408; 168: 1.227308/1.296080; 169: 1.227058/1.295754; 170: 1.226809/1.295431; 171: 1.226561/1.295109; 172: 1.226315/1.294791; 173: 1.226071/1.294474; 174: 1.225828/1.294159; 175: 1.225587/1.293845; 176: 1.225347/1.293534; 177: 1.225108/1.293225; 178: 1.224871/1.292918; 179: 1.224635/1.292613; 180: 1.224401/1.292310; 181: 1.224168/1.292008; 182: 1.223937/1.291709; 183: 1.223707/1.291411; 184: 1.223478/1.291116; 185: 1.223251/1.290823; 186: 1.223024/1.290533; 187: 1.222799/1.290244; 188: 1.222576/1.289957; 189: 1.222353/1.289671; 190: 1.222132/1.289387; 191: 1.221913/1.289105; 192: 1.221694/1.288823; 193: 1.221477/1.288543; 194: 1.221260/1.288265; 195: 1.221045/1.287989; 196: 1.220832/1.287715; 197: 1.220619/1.287442; 198: 1.220408/1.287172; 199: 1.220198/1.286903; 200: 1.219989/1.286635; 201: 1.219781/1.286369; 202: 1.219574/1.286105; 203: 1.219369/1.285843; 204: 1.219164/1.285581; 205: 1.218961/1.285321; 206: 1.218758/1.285062; 207: 1.218557/1.284806; 208: 1.218357/1.284552; 209: 1.218158/1.284298; 210: 1.217960/1.284047; 211: 1.217763/1.283796; 212: 1.217567/1.283547; 213: 1.217372/1.283299; 214: 1.217178/1.283052; 215: 1.216985/1.282808; 216: 1.216793/1.282565; 217: 1.216602/1.282323; 218: 1.216412/1.282083; 219: 1.216223/1.281843; 220: 1.216034/1.281604; 221: 1.215847/1.281367; 222: 1.215661/1.281133; 223: 1.215476/1.280899; 224: 1.215291/1.280667; 225: 1.215108/1.280436; 226: 1.214926/1.280207; 227: 1.214744/1.279978; 228: 1.214563/1.279750; 229: 1.214383/1.279526; 230: 1.214204/1.279301; 231: 1.214026/1.279077; 232: 1.213849/1.278855; 233: 1.213673/1.278633; 234: 1.213498/1.278413; 235: 1.213323/1.278193; 236: 1.213149/1.277976; 237: 1.212977/1.277760; 238: 1.212805/1.277545; 239: 1.212633/1.277330; 240: 1.212463/1.277118; 241: 1.212294/1.276906; 242: 1.212125/1.276695; 243: 1.211957/1.276486; 244: 1.211790/1.276277; 245: 1.211623/1.276070; 246: 1.211458/1.275862; 247: 1.211293/1.275658; 248: 1.211129/1.275454; 249: 1.210966/1.275252; 250: 1.210804/1.275049; 251: 1.210642/1.274849; 252: 1.210481/1.274650; 253: 1.210321/1.274451; 254: 1.210161/1.274253; 255: 1.210002/1.274057; 256: 1.209844/1.273861; 257: 1.209687/1.273666; 258: 1.209530/1.273473; 259: 1.209374/1.273281; 260: 1.209219/1.273089; 261: 1.209065/1.272898; 262: 1.208911/1.272709; 263: 1.208757/1.272520; 264: 1.208605/1.272332; 265: 1.208453/1.272146; 266: 1.208302/1.271960; 267: 1.208151/1.271776; 268: 1.208001/1.271592; 269: 1.207852/1.271408; 270: 1.207703/1.271226; 271: 1.207555/1.271044; 272: 1.207407/1.270864; 273: 1.207261/1.270685; 274: 1.207115/1.270505; 275: 1.206969/1.270329; 276: 1.206825/1.270152; 277: 1.206680/1.269976; 278: 1.206537/1.269801; 279: 1.206393/1.269627; 280: 1.206251/1.269452; 281: 1.206109/1.269279; 282: 1.205968/1.269107; 283: 1.205828/1.268936; 284: 1.205687/1.268767; 285: 1.205548/1.268598; 286: 1.205409/1.268430; 287: 1.205271/1.268263; 288: 1.205133/1.268097; 289: 1.204996/1.267931; 290: 1.204859/1.267765; 291: 1.204723/1.267601; 292: 1.204588/1.267437; 293: 1.204453/1.267274; 294: 1.204319/1.267112; 295: 1.204185/1.266951; 296: 1.204052/1.266791; 297: 1.203919/1.266631; 298: 1.203787/1.266470; 299: 1.203655/1.266313; 300: 1.203524/1.266155; 301: 1.203393/1.265998; 302: 1.203263/1.265841; 303: 1.203133/1.265686; 304: 1.203004/1.265531; 305: 1.202876/1.265377; 306: 1.202748/1.265224; 307: 1.202620/1.265071; 308: 1.202493/1.264920; 309: 1.202367/1.264769; 310: 1.202240/1.264619; 311: 1.202115/1.264469; 312: 1.201990/1.264321; 313: 1.201865/1.264172; 314: 1.201741/1.264025; 315: 1.201617/1.263878; 316: 1.201493/1.263731; 317: 1.201370/1.263584; 318: 1.201248/1.263438; 319: 1.201126/1.263294; 320: 1.201005/1.263150; 321: 1.200884/1.263007; 322: 1.200764/1.262864; 323: 1.200643/1.262723; 324: 1.200523/1.262583; 325: 1.200404/1.262442; 326: 1.200286/1.262302; 327: 1.200168/1.262163; 328: 1.200050/1.262025; 329: 1.199932/1.261887; 330: 1.199815/1.261750; 331: 1.199699/1.261614; 332: 1.199583/1.261479; 333: 1.199467/1.261344; 334: 1.199351/1.261209; 335: 1.199236/1.261075; 336: 1.199122/1.260942; 337: 1.199008/1.260809; 338: 1.198894/1.260677; 339: 1.198781/1.260545; 340: 1.198668/1.260414; 341: 1.198555/1.260284; 342: 1.198443/1.260153; 343: 1.198331/1.260024; 344: 1.198220/1.259895; 345: 1.198109/1.259766; 346: 1.197998/1.259639; "
     ]
    },
    {
     "name": "stdout",
     "output_type": "stream",
     "text": [
      "347: 1.197888/1.259512; 348: 1.197778/1.259385; 349: 1.197669/1.259258; 350: 1.197560/1.259132; 351: 1.197452/1.259008; 352: 1.197344/1.258884; 353: 1.197236/1.258760; 354: 1.197129/1.258636; 355: 1.197021/1.258513; 356: 1.196915/1.258391; 357: 1.196808/1.258268; 358: 1.196702/1.258147; 359: 1.196596/1.258025; 360: 1.196491/1.257905; 361: 1.196386/1.257784; 362: 1.196282/1.257664; 363: 1.196178/1.257546; 364: 1.196074/1.257427; 365: 1.195971/1.257308; 366: 1.195868/1.257191; 367: 1.195765/1.257074; 368: 1.195663/1.256957; 369: 1.195561/1.256841; 370: 1.195459/1.256725; 371: 1.195358/1.256610; 372: 1.195257/1.256495; 373: 1.195156/1.256382; 374: 1.195056/1.256269; 375: 1.194956/1.256155; 376: 1.194856/1.256043; 377: 1.194757/1.255931; 378: 1.194657/1.255819; 379: 1.194559/1.255708; 380: 1.194460/1.255597; 381: 1.194362/1.255487; 382: 1.194264/1.255376; 383: 1.194167/1.255266; 384: 1.194070/1.255157; 385: 1.193973/1.255049; 386: 1.193877/1.254941; 387: 1.193780/1.254834; 388: 1.193685/1.254726; 389: 1.193589/1.254619; 390: 1.193494/1.254512; 391: 1.193399/1.254407; 392: 1.193305/1.254300; 393: 1.193210/1.254194; 394: 1.193116/1.254088; 395: 1.193022/1.253983; 396: 1.192929/1.253878; 397: 1.192835/1.253774; 398: 1.192742/1.253670; 399: 1.192649/1.253567; 400: 1.192557/1.253464; 401: 1.192465/1.253363; 402: 1.192373/1.253261; 403: 1.192282/1.253159; 404: 1.192191/1.253058; 405: 1.192099/1.252956; 406: 1.192009/1.252855; 407: 1.191918/1.252754; 408: 1.191828/1.252655; 409: 1.191738/1.252556; 410: 1.191648/1.252457; 411: 1.191559/1.252358; 412: 1.191470/1.252261; 413: 1.191381/1.252163; 414: 1.191292/1.252064; 415: 1.191204/1.251966; 416: 1.191116/1.251870; 417: 1.191028/1.251773; 418: 1.190941/1.251677; 419: 1.190854/1.251582; 420: 1.190767/1.251487; 421: 1.190680/1.251393; 422: 1.190594/1.251298; 423: 1.190508/1.251204; 424: 1.190422/1.251110; 425: 1.190337/1.251016; 426: 1.190251/1.250923; 427: 1.190166/1.250830; 428: 1.190081/1.250737; 429: 1.189997/1.250645; 430: 1.189913/1.250554; 431: 1.189828/1.250462; 432: 1.189744/1.250372; 433: 1.189661/1.250280; 434: 1.189577/1.250190; 435: 1.189494/1.250099; 436: 1.189411/1.250010; 437: 1.189329/1.249921; 438: 1.189246/1.249832; 439: 1.189164/1.249743; 440: 1.189082/1.249654; 441: 1.189001/1.249566; 442: 1.188919/1.249479; 443: 1.188838/1.249391; 444: 1.188757/1.249304; 445: 1.188676/1.249217; 446: 1.188596/1.249131; 447: 1.188516/1.249044; 448: 1.188435/1.248958; 449: 1.188355/1.248873; 450: 1.188276/1.248786; 451: 1.188196/1.248702; 452: 1.188117/1.248618; 453: 1.188038/1.248533; 454: 1.187959/1.248448; 455: 1.187880/1.248364; 456: 1.187802/1.248281; 457: 1.187724/1.248197; 458: 1.187645/1.248115; 459: 1.187568/1.248031; 460: 1.187490/1.247948; 461: 1.187413/1.247865; 462: 1.187335/1.247783; 463: 1.187258/1.247702; 464: 1.187181/1.247620; 465: 1.187105/1.247538; 466: 1.187028/1.247456; 467: 1.186952/1.247375; 468: 1.186876/1.247295; 469: 1.186800/1.247214; 470: 1.186725/1.247133; 471: 1.186649/1.247054; 472: 1.186574/1.246975; 473: 1.186499/1.246895; 474: 1.186424/1.246816; 475: 1.186350/1.246737; 476: 1.186276/1.246659; 477: 1.186201/1.246581; 478: 1.186127/1.246505; 479: 1.186054/1.246426; 480: 1.185980/1.246349; 481: 1.185907/1.246271; 482: 1.185833/1.246195; 483: 1.185760/1.246118; 484: 1.185687/1.246042; 485: 1.185615/1.245967; 486: 1.185542/1.245890; 487: 1.185470/1.245814; 488: 1.185399/1.245739; 489: 1.185327/1.245664; 490: 1.185255/1.245588; 491: 1.185184/1.245516; 492: 1.185112/1.245441; 493: 1.185041/1.245368; 494: 1.184971/1.245294; 495: 1.184900/1.245221; 496: 1.184830/1.245148; 497: 1.184760/1.245076; 498: 1.184689/1.245004; 499: 1.184620/1.244930; 500: 1.184550/1.244858; 501: 1.184480/1.244787; 502: 1.184411/1.244716; 503: 1.184342/1.244645; 504: 1.184273/1.244574; 505: 1.184204/1.244503; 506: 1.184135/1.244433; 507: 1.184067/1.244362; 508: 1.183999/1.244292; 509: 1.183931/1.244223; 510: 1.183863/1.244153; 511: 1.183795/1.244082; 512: 1.183727/1.244013; 513: 1.183660/1.243945; 514: 1.183593/1.243877; 515: 1.183526/1.243807; 516: 1.183459/1.243739; 517: 1.183393/1.243671; 518: 1.183327/1.243603; 519: 1.183260/1.243534; 520: 1.183194/1.243468; 521: 1.183128/1.243401; 522: 1.183063/1.243333; 523: 1.182997/1.243268; 524: 1.182931/1.243200; 525: 1.182866/1.243133; 526: 1.182801/1.243066; 527: 1.182736/1.243001; 528: 1.182671/1.242935; 529: 1.182606/1.242870; 530: 1.182542/1.242804; 531: 1.182478/1.242738; 532: 1.182414/1.242674; 533: 1.182350/1.242608; 534: 1.182286/1.242544; 535: 1.182222/1.242481; 536: 1.182158/1.242415; 537: 1.182095/1.242351; 538: 1.182032/1.242287; 539: 1.181968/1.242224; 540: 1.181905/1.242161; 541: 1.181842/1.242097; 542: 1.181779/1.242033; 543: 1.181717/1.241969; 544: 1.181654/1.241907; 545: 1.181592/1.241845; 546: 1.181530/1.241782; 547: 1.181468/1.241721; 548: 1.181406/1.241657; 549: 1.181345/1.241596; 550: 1.181283/1.241534; 551: 1.181222/1.241474; 552: 1.181161/1.241414; 553: 1.181100/1.241353; 554: 1.181039/1.241293; 555: 1.180978/1.241232; 556: 1.180918/1.241171; 557: 1.180858/1.241112; 558: 1.180797/1.241053; 559: 1.180737/1.240995; 560: 1.180677/1.240935; 561: 1.180617/1.240875; 562: 1.180558/1.240816; 563: 1.180498/1.240758; 564: 1.180439/1.240700; 565: 1.180379/1.240643; 566: 1.180320/1.240583; 567: 1.180261/1.240525; 568: 1.180202/1.240465; 569: 1.180144/1.240409; 570: 1.180085/1.240351; 571: 1.180026/1.240295; 572: 1.179967/1.240238; 573: 1.179909/1.240179; 574: 1.179852/1.240121; 575: 1.179794/1.240065; 576: 1.179736/1.240009; 577: 1.179678/1.239953; 578: 1.179621/1.239896; 579: 1.179563/1.239840; 580: 1.179506/1.239784; 581: 1.179449/1.239728; 582: 1.179393/1.239672; 583: 1.179335/1.239618; 584: 1.179278/1.239564; 585: 1.179222/1.239509; 586: 1.179165/1.239453; 587: 1.179109/1.239398; 588: 1.179053/1.239342; 589: 1.178997/1.239288; 590: 1.178941/1.239234; 591: 1.178885/1.239182; 592: 1.178829/1.239127; 593: 1.178774/1.239072; 594: 1.178719/1.239018; 595: 1.178663/1.238964; 596: 1.178608/1.238912; 597: 1.178553/1.238860; 598: 1.178498/1.238806; 599: 1.178444/1.238753; 600: 1.178389/1.238699; 601: 1.178334/1.238648; 602: 1.178280/1.238597; 603: 1.178225/1.238544; 604: 1.178171/1.238493; 605: 1.178116/1.238441; 606: 1.178062/1.238387; 607: 1.178009/1.238335; 608: 1.177955/1.238284; 609: 1.177901/1.238234; 610: 1.177847/1.238183; 611: 1.177794/1.238131; 612: 1.177740/1.238080; 613: 1.177687/1.238028; 614: 1.177634/1.237977; 615: 1.177581/1.237927; 616: 1.177528/1.237876; 617: 1.177475/1.237826; 618: 1.177423/1.237776; 619: 1.177370/1.237724; 620: 1.177318/1.237675; 621: 1.177266/1.237626; 622: 1.177214/1.237578; 623: 1.177161/1.237530; 624: 1.177109/1.237480; 625: 1.177058/1.237429; 626: 1.177006/1.237378; 627: 1.176955/1.237330; 628: 1.176903/1.237281; 629: 1.176851/1.237234; 630: 1.176800/1.237183; 631: 1.176748/1.237135; 632: 1.176697/1.237084; 633: 1.176647/1.237035; 634: 1.176595/1.236988; 635: 1.176544/1.236941; 636: 1.176493/1.236892; 637: 1.176443/1.236844; 638: 1.176392/1.236795; 639: 1.176342/1.236748; 640: 1.176292/1.236700; 641: 1.176242/1.236655; 642: 1.176192/1.236609; 643: 1.176142/1.236561; 644: 1.176092/1.236514; 645: 1.176042/1.236466; 646: 1.175993/1.236420; 647: 1.175944/1.236373; 648: 1.175894/1.236328; 649: 1.175844/1.236282; 650: 1.175795/1.236236; 651: 1.175746/1.236189; 652: 1.175697/1.236141; 653: 1.175648/1.236095; 654: 1.175600/1.236050; 655: 1.175550/1.236006; 656: 1.175501/1.235962; 657: 1.175452/1.235915; 658: 1.175404/1.235867; 659: 1.175356/1.235821; 660: 1.175307/1.235776; 661: 1.175259/1.235732; 662: 1.175211/1.235687; 663: 1.175163/1.235643; 664: 1.175115/1.235597; 665: 1.175067/1.235551; 666: 1.175019/1.235507; 667: 1.174972/1.235462; 668: 1.174924/1.235418; 669: 1.174877/1.235375; 670: 1.174829/1.235332; 671: 1.174782/1.235286; 672: 1.174735/1.235240; 673: 1.174688/1.235196; 674: 1.174641/1.235154; 675: 1.174594/1.235111; 676: 1.174548/1.235069; 677: 1.174501/1.235027; 678: 1.174454/1.234982; 679: 1.174408/1.234937; 680: 1.174361/1.234896; 681: 1.174315/1.234854; 682: 1.174269/1.234813; 683: 1.174223/1.234772; 684: 1.174177/1.234730; 685: 1.174131/1.234686; 686: 1.174085/1.234643; 687: 1.174039/1.234601; 688: 1.173993/1.234560; "
     ]
    },
    {
     "name": "stdout",
     "output_type": "stream",
     "text": [
      "689: 1.173948/1.234519; 690: 1.173901/1.234478; 691: 1.173856/1.234435; 692: 1.173810/1.234391; 693: 1.173765/1.234348; 694: 1.173720/1.234308; 695: 1.173675/1.234268; 696: 1.173630/1.234228; 697: 1.173585/1.234186; 698: 1.173540/1.234145; 699: 1.173495/1.234102; 700: 1.173451/1.234060; 701: 1.173406/1.234021; 702: 1.173362/1.233981; 703: 1.173317/1.233942; 704: 1.173272/1.233902; 705: 1.173227/1.233859; 706: 1.173184/1.233817; 707: 1.173140/1.233776; 708: 1.173096/1.233736; 709: 1.173052/1.233697; 710: 1.173008/1.233659; 711: 1.172964/1.233620; 712: 1.172920/1.233580; 713: 1.172876/1.233539; 714: 1.172833/1.233497; 715: 1.172790/1.233458; 716: 1.172746/1.233419; 717: 1.172703/1.233383; 718: 1.172660/1.233345; 719: 1.172616/1.233305; 720: 1.172573/1.233264; 721: 1.172530/1.233224; 722: 1.172488/1.233185; 723: 1.172445/1.233147; 724: 1.172403/1.233112; 725: 1.172360/1.233075; 726: 1.172317/1.233037; 727: 1.172275/1.232998; 728: 1.172232/1.232957; 729: 1.172190/1.232919; 730: 1.172148/1.232881; 731: 1.172106/1.232844; 732: 1.172064/1.232809; 733: 1.172021/1.232772; 734: 1.171979/1.232734; 735: 1.171937/1.232693; 736: 1.171895/1.232655; 737: 1.171854/1.232616; 738: 1.171812/1.232581; 739: 1.171771/1.232546; 740: 1.171729/1.232511; 741: 1.171687/1.232473; 742: 1.171646/1.232433; 743: 1.171605/1.232395; 744: 1.171564/1.232358; 745: 1.171523/1.232322; 746: 1.171482/1.232288; 747: 1.171441/1.232252; 748: 1.171399/1.232216; 749: 1.171358/1.232178; 750: 1.171317/1.232140; 751: 1.171277/1.232102; 752: 1.171236/1.232065; 753: 1.171195/1.232032; 754: 1.171155/1.231996; 755: 1.171114/1.231964; 756: 1.171074/1.231926; 757: 1.171033/1.231890; 758: 1.170993/1.231851; 759: 1.170953/1.231815; 760: 1.170913/1.231781; 761: 1.170873/1.231748; 762: 1.170833/1.231713; 763: 1.170793/1.231678; 764: 1.170753/1.231641; 765: 1.170714/1.231604; 766: 1.170675/1.231568; 767: 1.170635/1.231536; 768: 1.170596/1.231503; 769: 1.170556/1.231470; 770: 1.170516/1.231434; 771: 1.170476/1.231398; 772: 1.170437/1.231363; 773: 1.170398/1.231326; 774: 1.170359/1.231293; 775: 1.170320/1.231261; 776: 1.170280/1.231229; 777: 1.170241/1.231195; 778: 1.170203/1.231160; 779: 1.170164/1.231122; 780: 1.170126/1.231087; 781: 1.170087/1.231055; 782: 1.170049/1.231025; 783: 1.170010/1.230993; 784: 1.169972/1.230957; 785: 1.169933/1.230924; 786: 1.169894/1.230888; 787: 1.169856/1.230853; 788: 1.169818/1.230819; 789: 1.169780/1.230789; 790: 1.169742/1.230756; 791: 1.169704/1.230724; 792: 1.169665/1.230691; 793: 1.169627/1.230656; 794: 1.169590/1.230621; 795: 1.169552/1.230588; 796: 1.169515/1.230556; 797: 1.169477/1.230527; 798: 1.169440/1.230495; 799: 1.169402/1.230463; 800: 1.169364/1.230428; 801: 1.169327/1.230395; 802: 1.169290/1.230360; 803: 1.169252/1.230327; 804: 1.169215/1.230297; 805: 1.169178/1.230265; 806: 1.169140/1.230237; 807: 1.169103/1.230202; 808: 1.169066/1.230168; 809: 1.169029/1.230134; 810: 1.168993/1.230101; 811: 1.168956/1.230070; 812: 1.168920/1.230044; 813: 1.168883/1.230014; 814: 1.168846/1.229981; 815: 1.168809/1.229948; 816: 1.168773/1.229917; 817: 1.168737/1.229885; 818: 1.168701/1.229853; 819: 1.168665/1.229824; 820: 1.168628/1.229795; 821: 1.168592/1.229765; 822: 1.168556/1.229732; 823: 1.168519/1.229701; 824: 1.168483/1.229669; 825: 1.168448/1.229637; 826: 1.168412/1.229604; 827: 1.168377/1.229576; 828: 1.168341/1.229549; 829: 1.168305/1.229519; 830: 1.168269/1.229488; 831: 1.168233/1.229456; 832: 1.168198/1.229422; 833: 1.168163/1.229391; 834: 1.168127/1.229360; 835: 1.168092/1.229334; 836: 1.168056/1.229305; 837: 1.168021/1.229276; 838: 1.167985/1.229244; 839: 1.167950/1.229213; 840: 1.167915/1.229178; 841: 1.167881/1.229148; 842: 1.167846/1.229121; 843: 1.167811/1.229095; 844: 1.167776/1.229066; 845: 1.167741/1.229038; 846: 1.167706/1.229007; 847: 1.167671/1.228976; 848: 1.167636/1.228943; 849: 1.167602/1.228914; 850: 1.167568/1.228884; 851: 1.167533/1.228859; 852: 1.167498/1.228832; 853: 1.167464/1.228804; 854: 1.167429/1.228771; 855: 1.167395/1.228739; 856: 1.167361/1.228709; 857: 1.167327/1.228678; 858: 1.167293/1.228653; 859: 1.167259/1.228627; 860: 1.167224/1.228600; 861: 1.167190/1.228570; 862: 1.167156/1.228539; 863: 1.167122/1.228508; 864: 1.167089/1.228477; 865: 1.167056/1.228448; 866: 1.167022/1.228422; 867: 1.166988/1.228397; 868: 1.166954/1.228371; 869: 1.166921/1.228341; 870: 1.166886/1.228310; 871: 1.166853/1.228283; 872: 1.166820/1.228254; 873: 1.166787/1.228223; 874: 1.166753/1.228197; 875: 1.166720/1.228172; 876: 1.166686/1.228147; 877: 1.166653/1.228118; 878: 1.166619/1.228088; 879: 1.166585/1.228059; 880: 1.166553/1.228030; 881: 1.166521/1.228001; 882: 1.166488/1.227975; 883: 1.166454/1.227950; 884: 1.166421/1.227926; 885: 1.166388/1.227898; 886: 1.166355/1.227868; 887: 1.166321/1.227840; 888: 1.166289/1.227810; 889: 1.166256/1.227782; 890: 1.166224/1.227756; 891: 1.166192/1.227733; 892: 1.166159/1.227707; 893: 1.166125/1.227681; 894: 1.166092/1.227652; 895: 1.166060/1.227622; 896: 1.166028/1.227592; 897: 1.165996/1.227566; 898: 1.165964/1.227542; 899: 1.165931/1.227518; 900: 1.165899/1.227492; 901: 1.165866/1.227464; 902: 1.165833/1.227434; 903: 1.165802/1.227407; 904: 1.165770/1.227377; 905: 1.165739/1.227354; 906: 1.165707/1.227331; 907: 1.165675/1.227306; 908: 1.165642/1.227282; 909: 1.165610/1.227254; 910: 1.165578/1.227226; 911: 1.165547/1.227197; 912: 1.165515/1.227170; 913: 1.165484/1.227144; 914: 1.165453/1.227121; 915: 1.165421/1.227097; 916: 1.165388/1.227074; 917: 1.165356/1.227046; 918: 1.165325/1.227017; 919: 1.165294/1.226989; 920: 1.165263/1.226965; 921: 1.165233/1.226942; 922: 1.165201/1.226919; 923: 1.165169/1.226897; 924: 1.165138/1.226871; 925: 1.165106/1.226844; 926: 1.165075/1.226815; 927: 1.165045/1.226788; 928: 1.165014/1.226765; 929: 1.164983/1.226743; 930: 1.164952/1.226719; 931: 1.164920/1.226696; 932: 1.164889/1.226669; 933: 1.164858/1.226642; 934: 1.164828/1.226614; 935: 1.164797/1.226588; 936: 1.164767/1.226566; 937: 1.164736/1.226542; 938: 1.164705/1.226520; 939: 1.164674/1.226497; 940: 1.164643/1.226471; 941: 1.164613/1.226443; 942: 1.164582/1.226416; 943: 1.164553/1.226392; 944: 1.164523/1.226368; 945: 1.164492/1.226347; 946: 1.164461/1.226326; 947: 1.164431/1.226300; 948: 1.164401/1.226275; 949: 1.164371/1.226248; 950: 1.164341/1.226222; 951: 1.164312/1.226198; 952: 1.164282/1.226175; 953: 1.164252/1.226156; 954: 1.164221/1.226132; 955: 1.164191/1.226107; 956: 1.164161/1.226082; 957: 1.164131/1.226054; 958: 1.164102/1.226027; 959: 1.164073/1.226004; 960: 1.164043/1.225982; 961: 1.164013/1.225961; 962: 1.163984/1.225939; 963: 1.163954/1.225915; 964: 1.163924/1.225890; 965: 1.163895/1.225862; 966: 1.163866/1.225837; 967: 1.163838/1.225814; 968: 1.163809/1.225793; 969: 1.163779/1.225773; 970: 1.163750/1.225751; 971: 1.163720/1.225728; 972: 1.163691/1.225702; 973: 1.163662/1.225675; 974: 1.163633/1.225651; 975: 1.163605/1.225627; 976: 1.163576/1.225606; 977: 1.163547/1.225588; 978: 1.163518/1.225568; 979: 1.163489/1.225545; 980: 1.163460/1.225518; 981: 1.163431/1.225492; 982: 1.163403/1.225467; 983: 1.163375/1.225443; 984: 1.163346/1.225424; 985: 1.163318/1.225403; 986: 1.163288/1.225384; 987: 1.163260/1.225361; 988: 1.163231/1.225332; 989: 1.163203/1.225307; 990: 1.163175/1.225284; 991: 1.163147/1.225260; 992: 1.163119/1.225242; 993: 1.163091/1.225223; 994: 1.163062/1.225204; 995: 1.163034/1.225178; 996: 1.163005/1.225153; 997: 1.162977/1.225128; 998: 1.162950/1.225104; 999: 1.162922/1.225081; 1000: 1.162894/1.225062; done!\n"
     ]
    }
   ],
   "source": [
    "user_embs_file = \"mf_model/user_embeddings.npy\"\n",
    "movie_embs_file = \"mf_model/movie_embeddings.npy\"\n",
    "\n",
    "bs = 4096\n",
    "epochs = 1000\n",
    "end_to_end_start = 50\n",
    "nn_lr = 0.001\n",
    "eb_lr = 0.0001\n",
    "alpha = 0.5\n",
    "beta = 1.75\n",
    "net_dims = [8, 64, 32, 16, 5]\n",
    "acts = [tf.nn.relu, tf.nn.relu, tf.nn.relu, None]\n",
    "\n",
    "with tf.Graph().as_default():\n",
    "    tf.set_random_seed(seed=123)\n",
    "    with tf.variable_scope(\"embeddings\"):\n",
    "        usr_embs, mov_embs = load_embeddings(user_embs_file, movie_embs_file)\n",
    "    with tf.variable_scope(\"neural_network\"):\n",
    "        params = initialize_nn_params(net_dims)\n",
    "    with tf.variable_scope(\"train_set\"):\n",
    "        train_data = trainset[[\"adj_userid\", \"adj_movieid\", \"rating\"]].values.T\n",
    "        train_examples = create_dataset(*train_data)\n",
    "        train_batches = tf.contrib.data.Dataset.from_tensor_slices(train_examples).batch(bs).cache(\"ds_cache\")\n",
    "        train_iterator = train_batches.make_initializable_iterator()\n",
    "        train_usr_id_bs, train_mov_id_bs, train_rating_bs = train_iterator.get_next()\n",
    "    with tf.variable_scope(\"valid_set\"):\n",
    "        valid_data = validset[[\"adj_userid\", \"adj_movieid\", \"rating\"]].values.T\n",
    "        valid_usr_ids, valid_mov_ids, valid_ratings = create_dataset(*valid_data)\n",
    "    with tf.variable_scope(\"training\"):\n",
    "        train_inputs = create_inputs(usr_embs, mov_embs, train_usr_id_bs, train_mov_id_bs)\n",
    "        train_logits_bs = forward_propagate(train_inputs, params, acts, net_dims)\n",
    "        train_loss = dfm_loss(train_logits_bs, train_rating_bs, params, alpha, beta)\n",
    "        train_step_nn = tf.train.AdamOptimizer(learning_rate=nn_lr).minimize(train_loss, var_list=list(params.values()))\n",
    "        train_step_eb = tf.train.AdamOptimizer(learning_rate=eb_lr).minimize(train_loss, var_list=[list(params.values())+[usr_embs, mov_embs]])\n",
    "    with tf.variable_scope(\"validation\"):\n",
    "        valid_inputs = create_inputs(usr_embs, mov_embs, valid_usr_ids, valid_mov_ids)\n",
    "        valid_logits = forward_propagate(valid_inputs, params, acts, net_dims)\n",
    "        valid_preds = calc_predict(valid_logits)\n",
    "        valid_loss = dfm_loss(valid_logits, valid_ratings, params, alpha, beta)\n",
    "    with tf.Session() as sess:\n",
    "        sess.run(tf.global_variables_initializer())\n",
    "        sess.run(train_iterator.initializer)\n",
    "        train_loss_history = []\n",
    "        valid_loss_history = []\n",
    "        for epoch in range(epochs):\n",
    "            try:\n",
    "                train_epoch_loss_history = []\n",
    "                while True:\n",
    "                    if epoch < end_to_end_start:\n",
    "                        current_train_loss = sess.run([train_loss, train_step_nn])[0]\n",
    "                    else:\n",
    "                        current_train_loss = sess.run([train_loss, train_step_eb])[0]\n",
    "                    train_epoch_loss_history.append(current_train_loss)\n",
    "            except tf.errors.OutOfRangeError:\n",
    "                train_epoch_loss = np.mean(train_epoch_loss_history)\n",
    "                train_loss_history.append(train_epoch_loss)\n",
    "                valid_epoch_loss = sess.run(valid_loss)\n",
    "                valid_loss_history.append(valid_epoch_loss)\n",
    "                print(\"%i: %f/%f\"%(epoch+1, train_epoch_loss, valid_epoch_loss), end=\"; \")\n",
    "                sess.run(train_iterator.initializer)\n",
    "        print(\"done!\")\n",
    "        final_valid_predictions = sess.run(valid_preds)"
   ]
  },
  {
   "cell_type": "code",
   "execution_count": 18,
   "metadata": {},
   "outputs": [
    {
     "name": "stdout",
     "output_type": "stream",
     "text": [
      "DNN Accuracy: 50.740345%\n"
     ]
    }
   ],
   "source": [
    "dnn_accuracy = np.sum(np.argmax(final_valid_predictions, axis=-1)+1 == validset.rating.values) / len(final_valid_predictions)\n",
    "print(\"DNN Accuracy: %f%%\"%(dnn_accuracy*100,))"
   ]
  },
  {
   "cell_type": "code",
   "execution_count": 19,
   "metadata": {},
   "outputs": [
    {
     "data": {
      "image/png": "[encoded data removed]",
      "text/plain": [
       "<matplotlib.figure.Figure at 0x7f6781da0518>"
      ]
     },
     "metadata": {},
     "output_type": "display_data"
    }
   ],
   "source": [
    "plt.figure(figsize=(12,10))\n",
    "plt.plot(train_loss_history, color=\"red\", label=\"train loss\")\n",
    "plt.plot(valid_loss_history, color=\"blue\", label=\"valid loss\")\n",
    "plt.xlabel(\"epoch\")\n",
    "plt.ylabel(\"loss\")\n",
    "plt.axvline(end_to_end_start-1, ls = \"--\", label=\"end-to-end start\")\n",
    "plt.legend()\n",
    "plt.show()"
   ]
  },
  {
   "cell_type": "code",
   "execution_count": 20,
   "metadata": {},
   "outputs": [
    {
     "data": {
      "image/png": "[encoded data removed]",
      "text/plain": [
       "<matplotlib.figure.Figure at 0x7f671f5ab160>"
      ]
     },
     "metadata": {},
     "output_type": "display_data"
    }
   ],
   "source": [
    "n_cols, n_rows = 5, 6\n",
    "n = n_cols * n_rows\n",
    "ratings = validset.rating.values[:n]\n",
    "probs = final_valid_predictions[:n]\n",
    "\n",
    "fig, axs = plt.subplots(n_rows, n_cols, figsize=(n_cols*3, n_rows*3), sharex=True, sharey=True)\n",
    "for ax, r, ps  in zip(axs.flatten(), ratings, probs):\n",
    "    for i, p in enumerate(ps):\n",
    "        ax.set_xlabel(\"rating\")\n",
    "        ax.set_ylabel(\"probability\")\n",
    "        ax.bar(r, 1, .9, color=\"white\", edgecolor=\"green\", alpha=.1, zorder=1)\n",
    "        ax.bar(i+1, p, .9, color=\"blue\", alpha=.5, edgecolor=\"black\", zorder=2)\n",
    "        ax.set_xticks(np.arange(1, 6))\n",
    "    #ax.bar(np.argmax(ps, axis=-1)+1, 1, .9, color=\"red\", edgecolor=\"red\", alpha=.1, zorder=1)\n",
    "fig.tight_layout()"
   ]
  },
  {
   "cell_type": "code",
   "execution_count": 21,
   "metadata": {},
   "outputs": [
    {
     "data": {
      "text/html": [
       "<div>\n",
       "<style>\n",
       "    .dataframe thead tr:only-child th {\n",
       "        text-align: right;\n",
       "    }\n",
       "\n",
       "    .dataframe thead th {\n",
       "        text-align: left;\n",
       "    }\n",
       "\n",
       "    .dataframe tbody tr th {\n",
       "        vertical-align: top;\n",
       "    }\n",
       "</style>\n",
       "<table border=\"1\" class=\"dataframe\">\n",
       "  <thead>\n",
       "    <tr style=\"text-align: right;\">\n",
       "      <th></th>\n",
       "      <th>gender</th>\n",
       "      <th>userid</th>\n",
       "      <th>movieid</th>\n",
       "      <th>age_desc</th>\n",
       "      <th>occ_desc</th>\n",
       "      <th>title</th>\n",
       "      <th>genre</th>\n",
       "      <th>rating</th>\n",
       "      <th>prediction</th>\n",
       "      <th>rating 1</th>\n",
       "      <th>rating 2</th>\n",
       "      <th>rating 3</th>\n",
       "      <th>rating 4</th>\n",
       "      <th>rating 5</th>\n",
       "    </tr>\n",
       "  </thead>\n",
       "  <tbody>\n",
       "    <tr>\n",
       "      <th>607758</th>\n",
       "      <td>M</td>\n",
       "      <td>5256</td>\n",
       "      <td>2245</td>\n",
       "      <td>25-34</td>\n",
       "      <td>self-employed</td>\n",
       "      <td>Working Girl (1988)</td>\n",
       "      <td>Comedy|Drama</td>\n",
       "      <td>4</td>\n",
       "      <td>3</td>\n",
       "      <td>0.001536</td>\n",
       "      <td>0.041364</td>\n",
       "      <td>0.553513</td>\n",
       "      <td>0.384811</td>\n",
       "      <td>0.018776</td>\n",
       "    </tr>\n",
       "    <tr>\n",
       "      <th>327696</th>\n",
       "      <td>F</td>\n",
       "      <td>4918</td>\n",
       "      <td>1223</td>\n",
       "      <td>18-24</td>\n",
       "      <td>programmer</td>\n",
       "      <td>Grand Day Out, A (1992)</td>\n",
       "      <td>Animation|Comedy</td>\n",
       "      <td>5</td>\n",
       "      <td>4</td>\n",
       "      <td>0.000227</td>\n",
       "      <td>0.003790</td>\n",
       "      <td>0.063851</td>\n",
       "      <td>0.488759</td>\n",
       "      <td>0.443373</td>\n",
       "    </tr>\n",
       "    <tr>\n",
       "      <th>928026</th>\n",
       "      <td>M</td>\n",
       "      <td>5964</td>\n",
       "      <td>3544</td>\n",
       "      <td>18-24</td>\n",
       "      <td>customer service</td>\n",
       "      <td>Shakes the Clown (1991)</td>\n",
       "      <td>Comedy</td>\n",
       "      <td>4</td>\n",
       "      <td>4</td>\n",
       "      <td>0.001301</td>\n",
       "      <td>0.011993</td>\n",
       "      <td>0.109099</td>\n",
       "      <td>0.489936</td>\n",
       "      <td>0.387670</td>\n",
       "    </tr>\n",
       "    <tr>\n",
       "      <th>91117</th>\n",
       "      <td>M</td>\n",
       "      <td>3111</td>\n",
       "      <td>339</td>\n",
       "      <td>18-24</td>\n",
       "      <td>college/grad student</td>\n",
       "      <td>While You Were Sleeping (1995)</td>\n",
       "      <td>Comedy|Romance</td>\n",
       "      <td>5</td>\n",
       "      <td>3</td>\n",
       "      <td>0.038992</td>\n",
       "      <td>0.241403</td>\n",
       "      <td>0.599990</td>\n",
       "      <td>0.111933</td>\n",
       "      <td>0.007682</td>\n",
       "    </tr>\n",
       "    <tr>\n",
       "      <th>931648</th>\n",
       "      <td>M</td>\n",
       "      <td>3280</td>\n",
       "      <td>3555</td>\n",
       "      <td>25-34</td>\n",
       "      <td>executive/managerial</td>\n",
       "      <td>U-571 (2000)</td>\n",
       "      <td>Action|Thriller</td>\n",
       "      <td>3</td>\n",
       "      <td>3</td>\n",
       "      <td>0.088169</td>\n",
       "      <td>0.333843</td>\n",
       "      <td>0.487353</td>\n",
       "      <td>0.082623</td>\n",
       "      <td>0.008012</td>\n",
       "    </tr>\n",
       "    <tr>\n",
       "      <th>320177</th>\n",
       "      <td>M</td>\n",
       "      <td>272</td>\n",
       "      <td>1215</td>\n",
       "      <td>18-24</td>\n",
       "      <td>other or not specified</td>\n",
       "      <td>Army of Darkness (1993)</td>\n",
       "      <td>Action|Adventure|Comedy|Horror|Sci-Fi</td>\n",
       "      <td>5</td>\n",
       "      <td>5</td>\n",
       "      <td>0.000012</td>\n",
       "      <td>0.000311</td>\n",
       "      <td>0.009777</td>\n",
       "      <td>0.240133</td>\n",
       "      <td>0.749766</td>\n",
       "    </tr>\n",
       "    <tr>\n",
       "      <th>265192</th>\n",
       "      <td>M</td>\n",
       "      <td>5977</td>\n",
       "      <td>1082</td>\n",
       "      <td>35-44</td>\n",
       "      <td>academic/educator</td>\n",
       "      <td>Candidate, The (1972)</td>\n",
       "      <td>Drama</td>\n",
       "      <td>5</td>\n",
       "      <td>4</td>\n",
       "      <td>0.000500</td>\n",
       "      <td>0.009225</td>\n",
       "      <td>0.150173</td>\n",
       "      <td>0.630912</td>\n",
       "      <td>0.209190</td>\n",
       "    </tr>\n",
       "    <tr>\n",
       "      <th>556962</th>\n",
       "      <td>M</td>\n",
       "      <td>4524</td>\n",
       "      <td>2028</td>\n",
       "      <td>25-34</td>\n",
       "      <td>artist</td>\n",
       "      <td>Saving Private Ryan (1998)</td>\n",
       "      <td>Action|Drama|War</td>\n",
       "      <td>4</td>\n",
       "      <td>5</td>\n",
       "      <td>0.000007</td>\n",
       "      <td>0.000253</td>\n",
       "      <td>0.010349</td>\n",
       "      <td>0.276956</td>\n",
       "      <td>0.712436</td>\n",
       "    </tr>\n",
       "    <tr>\n",
       "      <th>63854</th>\n",
       "      <td>M</td>\n",
       "      <td>1737</td>\n",
       "      <td>240</td>\n",
       "      <td>35-44</td>\n",
       "      <td>writer</td>\n",
       "      <td>Hideaway (1995)</td>\n",
       "      <td>Thriller</td>\n",
       "      <td>4</td>\n",
       "      <td>3</td>\n",
       "      <td>0.002330</td>\n",
       "      <td>0.042700</td>\n",
       "      <td>0.463205</td>\n",
       "      <td>0.453283</td>\n",
       "      <td>0.038483</td>\n",
       "    </tr>\n",
       "    <tr>\n",
       "      <th>991195</th>\n",
       "      <td>F</td>\n",
       "      <td>1203</td>\n",
       "      <td>3882</td>\n",
       "      <td>25-34</td>\n",
       "      <td>academic/educator</td>\n",
       "      <td>Bring It On (2000)</td>\n",
       "      <td>Comedy</td>\n",
       "      <td>4</td>\n",
       "      <td>4</td>\n",
       "      <td>0.000125</td>\n",
       "      <td>0.008227</td>\n",
       "      <td>0.319658</td>\n",
       "      <td>0.641761</td>\n",
       "      <td>0.030230</td>\n",
       "    </tr>\n",
       "  </tbody>\n",
       "</table>\n",
       "</div>"
      ],
      "text/plain": [
       "       gender  userid  movieid age_desc                occ_desc  \\\n",
       "607758      M    5256     2245    25-34           self-employed   \n",
       "327696      F    4918     1223    18-24              programmer   \n",
       "928026      M    5964     3544    18-24        customer service   \n",
       "91117       M    3111      339    18-24    college/grad student   \n",
       "931648      M    3280     3555    25-34    executive/managerial   \n",
       "320177      M     272     1215    18-24  other or not specified   \n",
       "265192      M    5977     1082    35-44       academic/educator   \n",
       "556962      M    4524     2028    25-34                  artist   \n",
       "63854       M    1737      240    35-44                  writer   \n",
       "991195      F    1203     3882    25-34       academic/educator   \n",
       "\n",
       "                                 title                                  genre  \\\n",
       "607758             Working Girl (1988)                           Comedy|Drama   \n",
       "327696         Grand Day Out, A (1992)                       Animation|Comedy   \n",
       "928026         Shakes the Clown (1991)                                 Comedy   \n",
       "91117   While You Were Sleeping (1995)                         Comedy|Romance   \n",
       "931648                    U-571 (2000)                        Action|Thriller   \n",
       "320177         Army of Darkness (1993)  Action|Adventure|Comedy|Horror|Sci-Fi   \n",
       "265192           Candidate, The (1972)                                  Drama   \n",
       "556962      Saving Private Ryan (1998)                       Action|Drama|War   \n",
       "63854                  Hideaway (1995)                               Thriller   \n",
       "991195              Bring It On (2000)                                 Comedy   \n",
       "\n",
       "        rating  prediction  rating 1  rating 2  rating 3  rating 4  rating 5  \n",
       "607758       4           3  0.001536  0.041364  0.553513  0.384811  0.018776  \n",
       "327696       5           4  0.000227  0.003790  0.063851  0.488759  0.443373  \n",
       "928026       4           4  0.001301  0.011993  0.109099  0.489936  0.387670  \n",
       "91117        5           3  0.038992  0.241403  0.599990  0.111933  0.007682  \n",
       "931648       3           3  0.088169  0.333843  0.487353  0.082623  0.008012  \n",
       "320177       5           5  0.000012  0.000311  0.009777  0.240133  0.749766  \n",
       "265192       5           4  0.000500  0.009225  0.150173  0.630912  0.209190  \n",
       "556962       4           5  0.000007  0.000253  0.010349  0.276956  0.712436  \n",
       "63854        4           3  0.002330  0.042700  0.463205  0.453283  0.038483  \n",
       "991195       4           4  0.000125  0.008227  0.319658  0.641761  0.030230  "
      ]
     },
     "execution_count": 21,
     "metadata": {},
     "output_type": "execute_result"
    }
   ],
   "source": [
    "results = validset[[\"gender\", \"userid\",\"movieid\",\"age_desc\",\"occ_desc\", \"title\", \"genre\", \"rating\"]].copy()\n",
    "results[\"prediction\"] = final_valid_predictions.argmax(axis=1)+1\n",
    "results[\"rating 1\"] = final_valid_predictions[:,0]\n",
    "results[\"rating 2\"] = final_valid_predictions[:,1]\n",
    "results[\"rating 3\"] = final_valid_predictions[:,2]\n",
    "results[\"rating 4\"] = final_valid_predictions[:,3]\n",
    "results[\"rating 5\"] = final_valid_predictions[:,4]\n",
    "results.head(10)"
   ]
  },
  {
   "cell_type": "code",
   "execution_count": 22,
   "metadata": {
    "collapsed": true
   },
   "outputs": [],
   "source": [
    "def compute_recall(prediction_col, target_col):\n",
    "    recall=[]\n",
    "    for i in range(5):\n",
    "        rating_df = results[results[target_col]==i+1]\n",
    "        num_true_rating = len(rating_df)+0.0\n",
    "        current_recall = (len(rating_df[rating_df[prediction_col]==i+1]))/num_true_rating\n",
    "        recall.append(current_recall)\n",
    "    return recall\n",
    "\n",
    "def compute_precision(prediction_col, target_col): \n",
    "    precision=[]\n",
    "    for i in range(5):\n",
    "        pred_df = results[results[prediction_col]==i+1]\n",
    "        pred_rating = len(pred_df)+0.0\n",
    "        current_precision = (len(pred_df[pred_df[target_col]==i+1]))/pred_rating\n",
    "        precision.append(current_precision)\n",
    "    return precision    \n",
    "\n",
    "def compute_mae(prediction_col, target_col):\n",
    "    return np.mean(np.abs(results[prediction_col]-results[target_col]))\n",
    "\n",
    "def compute_rmse(prediction_col, target_col):\n",
    "    return np.sqrt(1/len(results)*np.sum((results[prediction_col]- results[target_col])**2))"
   ]
  },
  {
   "cell_type": "code",
   "execution_count": 23,
   "metadata": {},
   "outputs": [
    {
     "data": {
      "text/plain": [
       "[0.27154839093450717,\n",
       " 0.22613703210625716,\n",
       " 0.5351970575464228,\n",
       " 0.6565219050526637,\n",
       " 0.4372816392717624]"
      ]
     },
     "execution_count": 23,
     "metadata": {},
     "output_type": "execute_result"
    }
   ],
   "source": [
    "compute_recall('prediction', 'rating')"
   ]
  },
  {
   "cell_type": "code",
   "execution_count": 24,
   "metadata": {},
   "outputs": [
    {
     "data": {
      "text/plain": [
       "[0.6939799331103679,\n",
       " 0.39378908777226657,\n",
       " 0.44853421241343877,\n",
       " 0.49884737505980603,\n",
       " 0.6809687786960514]"
      ]
     },
     "execution_count": 24,
     "metadata": {},
     "output_type": "execute_result"
    }
   ],
   "source": [
    "compute_precision('prediction', 'rating')"
   ]
  },
  {
   "cell_type": "code",
   "execution_count": 25,
   "metadata": {},
   "outputs": [
    {
     "data": {
      "text/plain": [
       "0.5658711670549185"
      ]
     },
     "execution_count": 25,
     "metadata": {},
     "output_type": "execute_result"
    }
   ],
   "source": [
    "compute_mae('prediction', 'rating')"
   ]
  },
  {
   "cell_type": "code",
   "execution_count": 26,
   "metadata": {},
   "outputs": [
    {
     "data": {
      "text/plain": [
       "0.8533055876670943"
      ]
     },
     "execution_count": 26,
     "metadata": {},
     "output_type": "execute_result"
    }
   ],
   "source": [
    "compute_rmse('prediction', 'rating')"
   ]
  },
  {
   "cell_type": "code",
   "execution_count": null,
   "metadata": {
    "collapsed": true
   },
   "outputs": [],
   "source": []
  }
 ],
 "metadata": {
  "kernelspec": {
   "display_name": "Python 3",
   "language": "python",
   "name": "python3"
  },
  "language_info": {
   "codemirror_mode": {
    "name": "ipython",
    "version": 3
   },
   "file_extension": ".py",
   "mimetype": "text/x-python",
   "name": "python",
   "nbconvert_exporter": "python",
   "pygments_lexer": "ipython3",
   "version": "3.6.1"
  }
 },
 "nbformat": 4,
 "nbformat_minor": 2
}
