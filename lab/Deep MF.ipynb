{
 "cells": [
  {
   "cell_type": "code",
   "execution_count": 2,
   "metadata": {
    "collapsed": true
   },
   "outputs": [],
   "source": [
    "import tensorflow as tf\n",
    "import pandas as pd\n",
    "import matplotlib.pyplot as plt\n",
    "import numpy as np\n",
    "%matplotlib inline"
   ]
  },
  {
   "cell_type": "code",
   "execution_count": 3,
   "metadata": {},
   "outputs": [
    {
     "name": "stdout",
     "output_type": "stream",
     "text": [
      "mkdir: cannot create directory ‘mf_model’: File exists\n",
      "mkdir: cannot create directory ‘cache’: File exists\n"
     ]
    }
   ],
   "source": [
    "# download movie data and make directory for the model\n",
    "\n",
    "#! wget -q http://files.grouplens.org/datasets/movielens/ml-1m.zip\n",
    "#! unzip ml-1m.zip\n",
    "! mkdir mf_model\n",
    "!mkdir cache"
   ]
  },
  {
   "cell_type": "code",
   "execution_count": 4,
   "metadata": {
    "collapsed": true
   },
   "outputs": [],
   "source": [
    "age_desc = {\n",
    "    1: \"Under 18\", 18: \"18-24\", 25: \"25-34\", 35: \"35-44\", 45: \"45-49\", 50: \"50-55\", 56: \"56+\"\n",
    "}\n",
    "occupation_desc = { \n",
    "    0: \"other or not specified\", 1: \"academic/educator\", 2: \"artist\", 3: \"clerical/admin\",\n",
    "    4: \"college/grad student\", 5: \"customer service\", 6: \"doctor/health care\",\n",
    "    7: \"executive/managerial\", 8: \"farmer\", 9: \"homemaker\", 10: \"K-12 student\", 11: \"lawyer\",\n",
    "    12: \"programmer\", 13: \"retired\", 14: \"sales/marketing\", 15: \"scientist\", 16: \"self-employed\",\n",
    "    17: \"technician/engineer\", 18: \"tradesman/craftsman\", 19: \"unemployed\", 20: \"writer\"\n",
    "}\n",
    "rating_data = pd.read_csv(\n",
    "    \"ml-1m/ratings.dat\",\n",
    "    sep=\"::\",\n",
    "    engine=\"python\",\n",
    "    encoding=\"latin-1\",\n",
    "    names=['userid', 'movieid', 'rating', 'timestamp'])\n",
    "\n",
    "user_data = pd.read_csv(\n",
    "    \"ml-1m/users.dat\", \n",
    "    sep='::', \n",
    "    engine='python', \n",
    "    encoding='latin-1',\n",
    "    names=['userid', 'gender', 'age', 'occupation', 'zipcode']\n",
    ")\n",
    "user_data['age_desc'] = user_data['age'].apply(lambda x: age_desc[x])\n",
    "user_data['occ_desc'] = user_data['occupation'].apply(lambda x: occupation_desc[x])\n",
    "\n",
    "movie_data = pd.read_csv(\n",
    "    \"ml-1m/movies.dat\",\n",
    "    sep='::', \n",
    "    engine='python', \n",
    "    encoding='latin-1',\n",
    "    names=['movieid', 'title', 'genre']\n",
    ")\n",
    "\n",
    "dataset = pd.merge(pd.merge(rating_data, movie_data, how=\"left\", on=\"movieid\"), user_data, how=\"left\", on=\"userid\")"
   ]
  },
  {
   "cell_type": "code",
   "execution_count": 5,
   "metadata": {
    "collapsed": true
   },
   "outputs": [],
   "source": [
    "def check_cols(df, cols):\n",
    "    \"\"\"\n",
    "    check if there are gaps of index, and if the index starts from 0\n",
    "    \n",
    "    Arguments:\n",
    "    df -- dataframe of the dataset\n",
    "    cols -- dataframe columns that needs to be checked, in our case user id and movie id\n",
    "    \n",
    "    Returns:\n",
    "    a list of tuple [('COLUMN_NAME', boolean)], if True, the column needs to be fixed, if False, the column is ok.\n",
    "    \"\"\"\n",
    "    return [(col, False) if len(dataset[col].unique())-1 == dataset[col].max() else (col, True) for col in cols]\n",
    "\n",
    "def remove_gaps(df, col):\n",
    "    \"\"\"\n",
    "    preprocess the index of user id and movie id to start from 0 and reduce the gap of index\n",
    "    \n",
    "    Arguments:\n",
    "    df -- dataframe of the dataset\n",
    "    col -- dataframe columns that needs to be adjusted, in our case both user id and movie id\n",
    "    \n",
    "    Returns:\n",
    "    a dataframe with adjusted columns.\n",
    "    \"\"\"\n",
    "    adj_col_uni = df[col].sort_values().unique()\n",
    "    adj_df = pd.DataFrame(adj_col_uni).reset_index().rename(columns = {0: col, 'index': \"adj_%s\"%(col,)})\n",
    "    return pd.merge(adj_df, df, how=\"right\", on=col)"
   ]
  },
  {
   "cell_type": "code",
   "execution_count": 6,
   "metadata": {},
   "outputs": [
    {
     "name": "stdout",
     "output_type": "stream",
     "text": [
      "before fix:\n",
      "userid needs fix!\n",
      "movieid needs fix!\n",
      "\n",
      "after fix\n",
      "adj_userid ok.\n",
      "adj_movieid ok.\n"
     ]
    }
   ],
   "source": [
    "index_cols = [\"userid\", \"movieid\"]\n",
    "cols_check = check_cols(dataset, index_cols)\n",
    "print_check = lambda check: print(*[\"%s needs fix!\"%(c,) if f else \"%s ok.\"%(c,) for c, f in check], sep=\"\\n\")\n",
    "print(\"before fix:\")\n",
    "print_check(cols_check)\n",
    "for col, needs_fix in cols_check:\n",
    "    if needs_fix:\n",
    "        dataset = remove_gaps(dataset, col)\n",
    "\n",
    "print(\"\\nafter fix\")\n",
    "print_check(check_cols(dataset, [\"adj_userid\", \"adj_movieid\"]))"
   ]
  },
  {
   "cell_type": "code",
   "execution_count": 7,
   "metadata": {
    "collapsed": true
   },
   "outputs": [],
   "source": [
    "dataset = dataset.sample(frac=1, replace=False)\n",
    "n_split = int(len(dataset)*.7)\n",
    "trainset = dataset[:n_split]\n",
    "validset = dataset[n_split:]"
   ]
  },
  {
   "cell_type": "code",
   "execution_count": 8,
   "metadata": {
    "collapsed": true
   },
   "outputs": [],
   "source": [
    "emb_dim = 8"
   ]
  },
  {
   "cell_type": "code",
   "execution_count": 9,
   "metadata": {
    "collapsed": true
   },
   "outputs": [],
   "source": [
    "def initialize_embeddings(num_users, num_movies, dim):\n",
    "    \"\"\"\n",
    "    initialize embeddings, user_embedding and movie_embedding are the user features and movie features \n",
    "    that needs to be learned by the matrix factorization model.\n",
    "    \n",
    "    Arguments:\n",
    "    num_users -- user index\n",
    "    num_movies -- movies index\n",
    "    dim -- dimension of learned user and movie features, it's a hyper-parameter\n",
    "    \n",
    "    Returns:\n",
    "    user_embeddings -- a matrix of shape [number of training examples, dim]\n",
    "    movie_embeddings -- a matrix of shape [number of training examples, dim]\n",
    "    \"\"\"    \n",
    "    user_embeddings = tf.get_variable(\n",
    "        \"theta\",\n",
    "        initializer=tf.truncated_normal_initializer(mean=0, stddev=.05),\n",
    "        shape=[num_users, dim],\n",
    "        dtype=tf.float32\n",
    "    )\n",
    "    movie_embeddings = tf.get_variable(\n",
    "        \"phi\",\n",
    "        initializer=tf.truncated_normal_initializer(mean=0, stddev=.05),\n",
    "        shape=[num_movies, dim],\n",
    "        dtype=tf.float32\n",
    "    )\n",
    "    return (user_embeddings, movie_embeddings)\n",
    "\n",
    "def create_dataset(user_ids, movie_ids, ratings):\n",
    "    \"\"\"\n",
    "    initialize ids, user id and movie id  \n",
    "    that needs to be learned by the matrix factorization model.\n",
    "    \n",
    "    Arguments:\n",
    "    num_users -- number of users\n",
    "    num_movies -- number of movies\n",
    "    dim -- dimension of learned user and movie features, it's a hyper-parameter\n",
    "    \n",
    "    Returns:\n",
    "    user_embeddings -- a matrix of shape [number of training examples, dim]\n",
    "    movie_embeddings -- a matrix of shape [number of training examples, dim]\n",
    "    \"\"\"     \n",
    "    user_id_var = tf.get_variable(\"userid\", initializer=user_ids, trainable=False)\n",
    "    movie_id_var = tf.get_variable(\"movieid\", initializer=movie_ids, trainable=False)\n",
    "    ratings_var = tf.get_variable(\"ratings\", initializer=np.asarray(ratings, dtype=np.int32), trainable=False)\n",
    "    return (user_id_var, movie_id_var, ratings_var)\n",
    "\n",
    "def lookup_embeddings(user_embeddings, movie_embeddings, user_ids, movie_ids):\n",
    "    \"\"\"\n",
    "    lookup the embeddings based on ids\n",
    "    \n",
    "    Arguments:\n",
    "    num_users -- number of users\n",
    "    num_movies -- number of movies\n",
    "    dim -- dimension of learned user and movie features, it's a hyper-parameter\n",
    "    \n",
    "    Returns:\n",
    "    user_embeddings -- a matrix of shape [number of training examples, dim]\n",
    "    movie_embeddings -- a matrix of shape [number of training examples, dim]\n",
    "    \"\"\" \n",
    "    selected_user_embeddings = tf.gather(user_embeddings, user_ids)\n",
    "    selected_movie_embeddings = tf.gather(movie_embeddings, movie_ids)\n",
    "    return (selected_user_embeddings, selected_movie_embeddings)\n",
    "\n",
    "def predict(selected_user_embeddings, selected_movie_embeddings):\n",
    "    selected_predictions = tf.reduce_sum(\n",
    "        selected_user_embeddings * selected_movie_embeddings,\n",
    "        axis = 1\n",
    "    )\n",
    "    return selected_predictions\n",
    "\n",
    "def matrix_factorization(user_embeddings, movie_embeddings, user_ids, movie_ids):\n",
    "    sel_usr_embs, sel_mov_embs = lookup_embeddings(user_embeddings, movie_embeddings, user_ids, movie_ids)\n",
    "    predictions = predict(sel_usr_embs, sel_mov_embs)\n",
    "    return predictions\n",
    "\n",
    "def mean_squared_difference(predictions, ratings):\n",
    "    difference = tf.reduce_mean(tf.squared_difference(predictions, tf.cast(ratings, tf.float32)))\n",
    "    return difference"
   ]
  },
  {
   "cell_type": "code",
   "execution_count": 10,
   "metadata": {},
   "outputs": [
    {
     "name": "stdout",
     "output_type": "stream",
     "text": [
      "valid loss at step 1: 14.084263\n",
      "valid loss at step 51: 3.059916\n",
      "valid loss at step 101: 1.085831\n",
      "valid loss at step 151: 0.921573\n",
      "valid loss at step 201: 0.872598\n",
      "valid loss at step 251: 0.845102\n",
      "valid loss at step 301: 0.823998\n",
      "valid loss at step 351: 0.807723\n",
      "valid loss at step 401: 0.795379\n",
      "valid loss at step 451: 0.785952\n",
      "valid loss at step 501: 0.778722\n",
      "valid loss at step 551: 0.773286\n",
      "valid loss at step 601: 0.769354\n",
      "valid loss at step 651: 0.766600\n",
      "valid loss at step 701: 0.764695\n",
      "valid loss at step 751: 0.763373\n",
      "valid loss at step 801: 0.762450\n",
      "valid loss at step 851: 0.761804\n",
      "valid loss at step 901: 0.761361\n",
      "valid loss at step 951: 0.761070\n",
      "valid loss at step 1001: 0.760897\n",
      "valid loss at step 1051: 0.760820\n",
      "valid loss at step 1101: 0.760819\n",
      "valid loss at step 1151: 0.760880\n",
      "valid loss at step 1201: 0.760992\n",
      "valid loss at step 1251: 0.761146\n",
      "valid loss at step 1301: 0.761333\n",
      "valid loss at step 1351: 0.761549\n",
      "embeddings saved\n"
     ]
    }
   ],
   "source": [
    "mf_learning_rate = 50\n",
    "mf_epochs = 1400\n",
    "\n",
    "n_users = dataset.adj_userid.max()+1\n",
    "n_movies = dataset.adj_movieid.max()+1\n",
    "\n",
    "def mf_train(emb_dim, n_users, n_movies, trainset, validset, learning_rate, epochs):\n",
    "    with tf.Graph().as_default():\n",
    "        with tf.variable_scope(\"embeddings\"):\n",
    "            usr_embs, mov_embs = initialize_embeddings(n_users, n_movies, emb_dim)\n",
    "        with tf.variable_scope(\"train_set\"):\n",
    "            train_data = trainset[[\"adj_userid\", \"adj_movieid\", \"rating\"]].values.T\n",
    "            train_usr_ids, train_mov_ids, train_ratings = create_dataset(*train_data)\n",
    "        with tf.variable_scope(\"valid_set\"):\n",
    "            valid_data = validset[[\"adj_userid\", \"adj_movieid\", \"rating\"]].values.T\n",
    "            valid_usr_ids, valid_mov_ids, valid_ratings = create_dataset(*valid_data)\n",
    "        with tf.variable_scope(\"training\"):\n",
    "            train_preds = matrix_factorization(usr_embs, mov_embs, train_usr_ids, train_mov_ids)\n",
    "            train_loss = mean_squared_difference(train_preds, train_ratings)\n",
    "            optimizer = tf.train.GradientDescentOptimizer(learning_rate=learning_rate)\n",
    "            train_usr_embs = optimizer.minimize(train_loss, var_list=[usr_embs])\n",
    "            train_mov_embs = optimizer.minimize(train_loss, var_list=[mov_embs])\n",
    "        with tf.variable_scope(\"validation\"):\n",
    "            valid_preds = matrix_factorization(usr_embs, mov_embs, valid_usr_ids, valid_mov_ids)\n",
    "            valid_loss = mean_squared_difference(valid_preds, valid_ratings)\n",
    "        with tf.Session() as sess:\n",
    "            sess.run(tf.global_variables_initializer())\n",
    "            train_loss_history = []\n",
    "            valid_loss_history = []\n",
    "            for i in range(epochs):\n",
    "                current_train_loss, _ = sess.run([train_loss, train_usr_embs])\n",
    "                current_train_loss, _ = sess.run([train_loss, train_mov_embs])\n",
    "                current_valid_loss = sess.run(valid_loss)\n",
    "                if i%50 == 0:\n",
    "                    print(\"valid loss at step %i: %f\"%(i+1, current_valid_loss))\n",
    "                train_loss_history.append(current_train_loss)\n",
    "                valid_loss_history.append(current_valid_loss)\n",
    "            final_user_embeddings, final_movie_embeddings = sess.run([usr_embs, mov_embs])\n",
    "            final_valid_predictions = sess.run(valid_preds)\n",
    "    return (final_user_embeddings, final_movie_embeddings, train_loss_history, valid_loss_history, final_valid_predictions)\n",
    "\n",
    "mf_result = mf_train(emb_dim, n_users, n_movies, trainset, validset, mf_learning_rate, mf_epochs)\n",
    "mf_user_embs, mf_movie_embs, mf_tlh, mf_vlh, mf_fvp = mf_result\n",
    "\n",
    "np.save(\"mf_model/user_embeddings\", mf_user_embs)\n",
    "np.save(\"mf_model/movie_embeddings\", mf_movie_embs)\n",
    "\n",
    "print(\"embeddings saved\")"
   ]
  },
  {
   "cell_type": "code",
   "execution_count": 11,
   "metadata": {},
   "outputs": [
    {
     "data": {
      "image/png": "[encoded data removed]",
      "text/plain": [
       "<matplotlib.figure.Figure at 0x7fdefe74da20>"
      ]
     },
     "metadata": {},
     "output_type": "display_data"
    }
   ],
   "source": [
    "plt.figure(figsize=(12,10))\n",
    "plt.plot(np.array(mf_tlh), color=\"red\", label=\"train loss\")\n",
    "plt.plot(np.array(mf_vlh), color=\"blue\", label=\"valid loss\")\n",
    "plt.xlabel(\"epoch\")\n",
    "plt.ylabel(\"loss\")\n",
    "plt.legend()\n",
    "plt.show()"
   ]
  },
  {
   "cell_type": "code",
   "execution_count": 12,
   "metadata": {
    "collapsed": true
   },
   "outputs": [],
   "source": [
    "def load_embeddings(user_embs_file, movie_embs_file):\n",
    "    \"\"\"\n",
    "    In the deep model we initialize the user embedding and movie embedding with value that learned from matrix factorization.\n",
    "    So here load already saved values in. \n",
    "    \n",
    "    Arguments:\n",
    "    user_embs_file -- saved user embedding array\n",
    "    movie_embs_file -- saved movie embedding array\n",
    "    \n",
    "    Returns:\n",
    "    usr_embs -- initialized user embeddings\n",
    "    mov_embs -- initialized user embeddings\n",
    "    \"\"\"       \n",
    "\n",
    "    usr_embs_array = np.load(user_embs_file)\n",
    "    mov_embs_array = np.load(movie_embs_file)\n",
    "    usr_embs = tf.get_variable(\n",
    "        \"usr_embs\",\n",
    "        initializer = tf.constant_initializer(usr_embs_array),\n",
    "        shape = usr_embs_array.shape\n",
    "    )\n",
    "    mov_embs = tf.get_variable(\n",
    "        \"mov_embs\",\n",
    "        initializer = tf.constant_initializer(mov_embs_array),\n",
    "        shape = mov_embs_array.shape\n",
    "    )\n",
    "    return (usr_embs, mov_embs)\n",
    "\n",
    "\n",
    "def initialize_nn_params(net_dims):\n",
    "    \"\"\"\n",
    "    Initializes parameters for the whole nn. \n",
    "    net_dims -- dim_in, d_1, ..., d_n\n",
    "    \n",
    "    Returns:\n",
    "    parameters -- a dictionary of tensors containing W1, b1,...Wn, bn\n",
    "    \"\"\"\n",
    "    layer_dims = list(zip(net_dims[:-1], net_dims[1:]))\n",
    "    #params = {\"n_layers\": len(layer_dims)}\n",
    "    params = {}\n",
    "    for i, (n_in, n_out) in enumerate(layer_dims):\n",
    "        params[\"W\"+str(i+1)] = tf.get_variable(\n",
    "            \"W\"+str(i+1), \n",
    "            [n_in, n_out], \n",
    "            initializer = tf.contrib.layers.xavier_initializer(seed =1)\n",
    "        )\n",
    "        params[\"b\"+str(i+1)] = tf.get_variable(\n",
    "            \"b\"+str(i+1), \n",
    "            [1,n_out], \n",
    "            initializer = tf.zeros_initializer()\n",
    "        )\n",
    "    return params"
   ]
  },
  {
   "cell_type": "code",
   "execution_count": 13,
   "metadata": {
    "collapsed": true
   },
   "outputs": [],
   "source": [
    "def forward_propagate(inputs, params, acts, net_dims):\n",
    "    \"\"\"\n",
    "    Implements the forward propagation for the model: LINEAR -> RELU -> LINEAR -> RELU -> LINEAR -> SOFTMAX\n",
    "    \n",
    "    Arguments:\n",
    "    inputs -- input comes from user and movie embedding\n",
    "    params -- python dictionary containing parameters \"W1\", \"b1\", \"W2\", \"b2\", \"W3\", \"b3\"\n",
    "    acts -- activation function, this is a list ['tf.nn.relu', 'tf.nn.relu', 'None']\n",
    "\n",
    "    Returns:\n",
    "    Z3 -- the output of the last LINEAR unit\n",
    "    \"\"\"\n",
    "    a = inputs\n",
    "    n_layers = len(net_dims)-1\n",
    "    for i in range(n_layers):\n",
    "        W = params['W'+str(i+1)]\n",
    "        b = params['b'+str(i+1)]\n",
    "        z = tf.matmul(a, W) + b\n",
    "        a = acts[i](z) if acts[i] is not None else z\n",
    "    return a"
   ]
  },
  {
   "cell_type": "code",
   "execution_count": 14,
   "metadata": {
    "collapsed": true
   },
   "outputs": [],
   "source": [
    "def calc_predict(logits):\n",
    "    \"\"\"\n",
    "    Calculate predictions\n",
    "    \n",
    "    Arguments:\n",
    "    logits -- a\n",
    "\n",
    "    Returns:\n",
    "    prediction -- softmax of a\n",
    "    \"\"\"\n",
    "    return tf.nn.softmax(logits)"
   ]
  },
  {
   "cell_type": "code",
   "execution_count": 15,
   "metadata": {
    "collapsed": true
   },
   "outputs": [],
   "source": [
    "def cross_entropy(a, ratings):\n",
    "    \"\"\"\n",
    "    Computes the cross entropy\n",
    "    \n",
    "    Arguments:\n",
    "    a -- output of forward propagation (output of the last LINEAR unit), of shape (number of examples, 5)\n",
    "    y -- \"true\" labels vector placeholder, same shape as a\n",
    "    \n",
    "    Returns:\n",
    "    cross_entropy - Tensor of the cross_entropy function\n",
    "    \"\"\"\n",
    "    \n",
    "    # to fit the tensorflow requirement for tf.nn.softmax_cross_entropy_with_logits(...,...)\n",
    "    logits = a\n",
    "    labels = ratings-1\n",
    "    \n",
    "    cross_entropy = tf.reduce_mean(tf.nn.sparse_softmax_cross_entropy_with_logits(logits=logits, labels=labels))\n",
    "    \n",
    "    return cross_entropy"
   ]
  },
  {
   "cell_type": "code",
   "execution_count": 16,
   "metadata": {
    "collapsed": true
   },
   "outputs": [],
   "source": [
    "def mean_squared_error2(predictions, ratings):\n",
    "    \"\"\"\n",
    "    Computes the cost\n",
    "    \n",
    "    Arguments:\n",
    "    a -- output of forward propagation (output of the last LINEAR unit), of shape (number of examples, 5)\n",
    "    y -- \"true\" labels vector placeholder, same shape as a\n",
    "    \n",
    "    Returns:\n",
    "    cost - Tensor of the cost function\n",
    "    \"\"\"\n",
    "    mean_squared_error=tf.reduce_mean(tf.squared_difference(tf.cast(tf.argmax(predictions, axis = 1),tf.float32), tf.cast(ratings-1, tf.float32)))\n",
    "    return mean_squared_error"
   ]
  },
  {
   "cell_type": "code",
   "execution_count": 17,
   "metadata": {
    "collapsed": true
   },
   "outputs": [],
   "source": [
    "def mean_squared_error(predictions, ratings):\n",
    "    stars = tf.range(1,6)\n",
    "    distances = (stars - tf.tile(tf.expand_dims(ratings, -1), [1, 5]))**2\n",
    "    mean_distance = tf.reduce_mean(tf.reduce_sum(predictions * tf.cast(distances, tf.float32), axis=-1))\n",
    "    return mean_distance"
   ]
  },
  {
   "cell_type": "code",
   "execution_count": 18,
   "metadata": {
    "collapsed": true
   },
   "outputs": [],
   "source": [
    "def dfm_loss(logits, ratings, params, alpha, beta):\n",
    "    predictions = calc_predict(logits)\n",
    "    loss = alpha * mean_squared_error(predictions, ratings) + (1-alpha) * cross_entropy(logits, ratings)\n",
    "    \n",
    "    reg = 0\n",
    "    for n, p in params.items():\n",
    "        reg = reg + tf.reduce_mean(p**2)\n",
    "    return loss + beta*reg"
   ]
  },
  {
   "cell_type": "code",
   "execution_count": 19,
   "metadata": {
    "collapsed": true
   },
   "outputs": [],
   "source": [
    "def dmf_logits(user_ids, movie_ids, user_embeddings, movie_embeddings, params, acts, net_dims):\n",
    "    sel_usr_embs, sel_mov_embs = lookup_embeddings(user_embeddings, movie_embeddings, user_ids, movie_ids)\n",
    "    inputs = sel_usr_embs * sel_mov_embs\n",
    "    predicted_rating_logits = forward_propagate(inputs, params, acts, net_dims)\n",
    "    return predicted_rating_logits"
   ]
  },
  {
   "cell_type": "code",
   "execution_count": 20,
   "metadata": {
    "scrolled": false
   },
   "outputs": [
    {
     "name": "stdout",
     "output_type": "stream",
     "text": [
      "1: 1.901972/1.652957; 2: 1.443711/1.469562; 3: 1.354886/1.434016; 4: 1.327870/1.417167; 5: 1.314596/1.407984; 6: 1.307006/1.402406; 7: 1.302190/1.398685; 8: 1.298887/1.396044; 9: 1.296514/1.394101; 10: 1.294780/1.392669; 11: 1.293510/1.391616; 12: 1.292553/1.390808; 13: 1.291816/1.390179; 14: 1.291240/1.389685; 15: 1.290786/1.389292; 16: 1.290417/1.388974; 17: 1.290112/1.388717; 18: 1.289852/1.388490; 19: 1.289631/1.388298; 20: 1.289438/1.388129; 21: 1.289274/1.387981; 22: 1.289131/1.387849; 23: 1.289012/1.387741; 24: 1.288908/1.387647; 25: 1.288820/1.387566; 26: 1.288743/1.387494; 27: 1.288678/1.387434; 28: 1.288621/1.387373; 29: 1.288571/1.387328; 30: 1.288528/1.387287; 31: 1.288490/1.387252; 32: 1.288457/1.387221; 33: 1.288428/1.387191; 34: 1.288403/1.387165; 35: 1.288381/1.387139; 36: 1.288361/1.387124; 37: 1.288343/1.387103; 38: 1.288328/1.387086; 39: 1.288314/1.387072; 40: 1.288301/1.387061; 41: 1.288290/1.387053; 42: 1.288280/1.387045; 43: 1.288271/1.387039; 44: 1.288263/1.387030; 45: 1.288256/1.387026; 46: 1.288249/1.387023; 47: 1.288242/1.387022; 48: 1.288237/1.387016; 49: 1.288231/1.387013; 50: 1.288226/1.387011; 51: 1.287552/1.383668; 52: 1.285753/1.381247; 53: 1.284241/1.379053; 54: 1.282886/1.377045; 55: 1.281659/1.375193; 56: 1.280536/1.373478; 57: 1.279499/1.371873; 58: 1.278534/1.370371; 59: 1.277630/1.368953; 60: 1.276777/1.367608; 61: 1.275968/1.366333; 62: 1.275198/1.365115; 63: 1.274461/1.363951; 64: 1.273754/1.362835; 65: 1.273074/1.361763; 66: 1.272416/1.360731; 67: 1.271780/1.359731; 68: 1.271163/1.358767; 69: 1.270563/1.357834; 70: 1.269978/1.356927; 71: 1.269408/1.356045; 72: 1.268852/1.355191; 73: 1.268308/1.354359; 74: 1.267775/1.353551; 75: 1.267253/1.352760; 76: 1.266741/1.351986; 77: 1.266239/1.351227; 78: 1.265746/1.350486; 79: 1.265261/1.349760; 80: 1.264784/1.349049; 81: 1.264314/1.348353; 82: 1.263852/1.347673; 83: 1.263396/1.347005; 84: 1.262947/1.346346; 85: 1.262505/1.345699; 86: 1.262068/1.345063; 87: 1.261637/1.344437; 88: 1.261211/1.343820; 89: 1.260790/1.343211; 90: 1.260375/1.342613; 91: 1.259965/1.342023; 92: 1.259559/1.341441; 93: 1.259158/1.340869; 94: 1.258762/1.340304; 95: 1.258370/1.339745; 96: 1.257983/1.339193; 97: 1.257599/1.338649; 98: 1.257220/1.338110; 99: 1.256844/1.337581; 100: 1.256472/1.337055; 101: 1.256103/1.336538; 102: 1.255739/1.336027; 103: 1.255378/1.335519; 104: 1.255020/1.335019; 105: 1.254666/1.334521; 106: 1.254315/1.334030; 107: 1.253968/1.333546; 108: 1.253623/1.333068; 109: 1.253282/1.332592; 110: 1.252944/1.332124; 111: 1.252609/1.331659; 112: 1.252276/1.331198; 113: 1.251947/1.330743; 114: 1.251620/1.330292; 115: 1.251296/1.329845; 116: 1.250974/1.329402; 117: 1.250656/1.328964; 118: 1.250340/1.328529; 119: 1.250026/1.328098; 120: 1.249715/1.327671; 121: 1.249407/1.327248; 122: 1.249101/1.326830; 123: 1.248797/1.326414; 124: 1.248496/1.326002; 125: 1.248196/1.325593; 126: 1.247900/1.325188; 127: 1.247605/1.324786; 128: 1.247313/1.324389; 129: 1.247023/1.323994; 130: 1.246734/1.323602; 131: 1.246448/1.323212; 132: 1.246164/1.322825; 133: 1.245882/1.322442; 134: 1.245602/1.322062; 135: 1.245324/1.321685; 136: 1.245048/1.321311; 137: 1.244773/1.320943; 138: 1.244501/1.320576; 139: 1.244230/1.320211; 140: 1.243962/1.319849; 141: 1.243695/1.319491; 142: 1.243430/1.319136; 143: 1.243166/1.318783; 144: 1.242905/1.318433; 145: 1.242645/1.318084; 146: 1.242387/1.317737; 147: 1.242130/1.317394; 148: 1.241875/1.317053; 149: 1.241622/1.316716; 150: 1.241371/1.316381; 151: 1.241121/1.316047; 152: 1.240873/1.315716; 153: 1.240626/1.315388; 154: 1.240381/1.315061; 155: 1.240137/1.314737; 156: 1.239894/1.314413; 157: 1.239653/1.314092; 158: 1.239414/1.313774; 159: 1.239176/1.313459; 160: 1.238940/1.313145; 161: 1.238705/1.312835; 162: 1.238471/1.312526; 163: 1.238239/1.312219; 164: 1.238007/1.311912; 165: 1.237778/1.311610; 166: 1.237549/1.311309; 167: 1.237323/1.311008; 168: 1.237097/1.310711; 169: 1.236872/1.310415; 170: 1.236649/1.310121; 171: 1.236427/1.309829; 172: 1.236207/1.309538; 173: 1.235987/1.309249; 174: 1.235769/1.308963; 175: 1.235552/1.308678; 176: 1.235335/1.308394; 177: 1.235121/1.308112; 178: 1.234907/1.307832; 179: 1.234695/1.307556; 180: 1.234483/1.307280; 181: 1.234273/1.307006; 182: 1.234064/1.306733; 183: 1.233856/1.306464; 184: 1.233649/1.306194; 185: 1.233444/1.305926; 186: 1.233239/1.305659; 187: 1.233035/1.305395; 188: 1.232833/1.305132; 189: 1.232631/1.304871; 190: 1.232430/1.304611; 191: 1.232231/1.304353; 192: 1.232032/1.304096; 193: 1.231835/1.303841; 194: 1.231638/1.303587; 195: 1.231442/1.303335; 196: 1.231248/1.303084; 197: 1.231054/1.302835; 198: 1.230861/1.302587; 199: 1.230669/1.302340; 200: 1.230479/1.302094; 201: 1.230289/1.301850; 202: 1.230100/1.301608; 203: 1.229911/1.301367; 204: 1.229724/1.301127; 205: 1.229538/1.300889; 206: 1.229352/1.300651; 207: 1.229168/1.300416; 208: 1.228984/1.300181; 209: 1.228801/1.299947; 210: 1.228619/1.299715; 211: 1.228438/1.299484; 212: 1.228258/1.299254; 213: 1.228078/1.299025; 214: 1.227900/1.298798; 215: 1.227722/1.298573; 216: 1.227545/1.298347; 217: 1.227369/1.298124; 218: 1.227193/1.297901; 219: 1.227018/1.297678; 220: 1.226844/1.297459; 221: 1.226671/1.297237; 222: 1.226499/1.297018; 223: 1.226327/1.296800; 224: 1.226156/1.296584; 225: 1.225986/1.296369; 226: 1.225816/1.296154; 227: 1.225648/1.295942; 228: 1.225480/1.295730; 229: 1.225312/1.295520; 230: 1.225146/1.295310; 231: 1.224981/1.295101; 232: 1.224816/1.294894; 233: 1.224651/1.294688; 234: 1.224488/1.294483; 235: 1.224325/1.294279; 236: 1.224162/1.294075; 237: 1.224001/1.293873; 238: 1.223840/1.293672; 239: 1.223679/1.293472; 240: 1.223519/1.293272; 241: 1.223360/1.293074; 242: 1.223202/1.292877; 243: 1.223044/1.292681; 244: 1.222886/1.292486; 245: 1.222730/1.292292; 246: 1.222574/1.292099; 247: 1.222418/1.291907; 248: 1.222263/1.291716; 249: 1.222109/1.291526; 250: 1.221956/1.291337; 251: 1.221803/1.291149; 252: 1.221651/1.290962; 253: 1.221499/1.290775; 254: 1.221348/1.290589; 255: 1.221197/1.290403; 256: 1.221047/1.290220; 257: 1.220898/1.290036; 258: 1.220749/1.289854; 259: 1.220601/1.289673; 260: 1.220453/1.289493; 261: 1.220306/1.289312; 262: 1.220160/1.289133; 263: 1.220013/1.288955; 264: 1.219868/1.288778; 265: 1.219723/1.288601; 266: 1.219578/1.288427; 267: 1.219434/1.288252; 268: 1.219291/1.288077; 269: 1.219147/1.287905; 270: 1.219005/1.287733; 271: 1.218863/1.287561; 272: 1.218721/1.287389; 273: 1.218581/1.287218; 274: 1.218440/1.287048; 275: 1.218300/1.286879; 276: 1.218161/1.286711; 277: 1.218022/1.286544; 278: 1.217884/1.286377; 279: 1.217746/1.286211; 280: 1.217609/1.286045; 281: 1.217472/1.285880; 282: 1.217335/1.285716; 283: 1.217200/1.285552; 284: 1.217065/1.285390; 285: 1.216930/1.285227; 286: 1.216795/1.285066; 287: 1.216662/1.284905; 288: 1.216528/1.284745; 289: 1.216395/1.284585; 290: 1.216262/1.284426; 291: 1.216130/1.284269; 292: 1.215998/1.284112; 293: 1.215867/1.283954; 294: 1.215736/1.283799; 295: 1.215605/1.283643; 296: 1.215475/1.283489; 297: 1.215346/1.283336; 298: 1.215217/1.283183; 299: 1.215088/1.283031; 300: 1.214960/1.282879; 301: 1.214832/1.282727; 302: 1.214705/1.282576; 303: 1.214578/1.282426; 304: 1.214451/1.282277; 305: 1.214325/1.282127; 306: 1.214200/1.281980; 307: 1.214075/1.281831; 308: 1.213950/1.281684; 309: 1.213825/1.281538; 310: 1.213701/1.281392; 311: 1.213577/1.281247; 312: 1.213454/1.281102; 313: 1.213332/1.280957; 314: 1.213209/1.280813; 315: 1.213087/1.280669; 316: 1.212966/1.280526; 317: 1.212844/1.280384; 318: 1.212723/1.280242; 319: 1.212603/1.280100; 320: 1.212483/1.279960; 321: 1.212363/1.279820; 322: 1.212244/1.279680; 323: 1.212124/1.279540; 324: 1.212005/1.279402; 325: 1.211887/1.279263; 326: 1.211769/1.279126; 327: 1.211651/1.278990; 328: 1.211534/1.278853; 329: 1.211417/1.278718; 330: 1.211300/1.278582; 331: 1.211184/1.278448; 332: 1.211068/1.278313; 333: 1.210952/1.278180; 334: 1.210837/1.278047; 335: 1.210722/1.277914; 336: 1.210607/1.277781; 337: 1.210493/1.277649; 338: 1.210379/1.277519; 339: 1.210265/1.277387; 340: 1.210152/1.277256; 341: 1.210039/1.277127; 342: 1.209927/1.276998; 343: 1.209815/1.276869; 344: 1.209703/1.276740; 345: 1.209591/1.276613; 346: 1.209480/1.276486; "
     ]
    },
    {
     "name": "stdout",
     "output_type": "stream",
     "text": [
      "347: 1.209369/1.276359; 348: 1.209258/1.276233; 349: 1.209148/1.276108; 350: 1.209038/1.275981; 351: 1.208928/1.275856; 352: 1.208819/1.275731; 353: 1.208710/1.275607; 354: 1.208601/1.275483; 355: 1.208493/1.275359; 356: 1.208385/1.275236; 357: 1.208277/1.275114; 358: 1.208169/1.274992; 359: 1.208062/1.274872; 360: 1.207956/1.274750; 361: 1.207849/1.274630; 362: 1.207743/1.274509; 363: 1.207637/1.274391; 364: 1.207532/1.274270; 365: 1.207427/1.274151; 366: 1.207322/1.274034; 367: 1.207217/1.273917; 368: 1.207112/1.273800; 369: 1.207008/1.273683; 370: 1.206904/1.273566; 371: 1.206801/1.273449; 372: 1.206698/1.273333; 373: 1.206595/1.273215; 374: 1.206492/1.273100; 375: 1.206390/1.272985; 376: 1.206288/1.272871; 377: 1.206186/1.272757; 378: 1.206084/1.272644; 379: 1.205983/1.272532; 380: 1.205882/1.272421; 381: 1.205781/1.272308; 382: 1.205681/1.272196; 383: 1.205580/1.272085; 384: 1.205480/1.271974; 385: 1.205381/1.271863; 386: 1.205281/1.271753; 387: 1.205182/1.271643; 388: 1.205083/1.271533; 389: 1.204984/1.271424; 390: 1.204886/1.271315; 391: 1.204788/1.271206; 392: 1.204690/1.271099; 393: 1.204593/1.270990; 394: 1.204495/1.270882; 395: 1.204398/1.270774; 396: 1.204301/1.270668; 397: 1.204205/1.270561; 398: 1.204108/1.270456; 399: 1.204012/1.270350; 400: 1.203917/1.270245; 401: 1.203821/1.270141; 402: 1.203726/1.270036; 403: 1.203631/1.269932; 404: 1.203536/1.269828; 405: 1.203441/1.269725; 406: 1.203347/1.269621; 407: 1.203253/1.269518; 408: 1.203159/1.269417; 409: 1.203066/1.269315; 410: 1.202972/1.269213; 411: 1.202879/1.269112; 412: 1.202786/1.269010; 413: 1.202694/1.268910; 414: 1.202601/1.268810; 415: 1.202509/1.268710; 416: 1.202417/1.268610; 417: 1.202326/1.268510; 418: 1.202234/1.268411; 419: 1.202143/1.268312; 420: 1.202052/1.268213; 421: 1.201961/1.268115; 422: 1.201871/1.268017; 423: 1.201781/1.267919; 424: 1.201691/1.267821; 425: 1.201601/1.267725; 426: 1.201512/1.267627; 427: 1.201422/1.267532; 428: 1.201333/1.267435; 429: 1.201244/1.267339; 430: 1.201156/1.267244; 431: 1.201067/1.267149; 432: 1.200979/1.267053; 433: 1.200891/1.266959; 434: 1.200803/1.266865; 435: 1.200716/1.266772; 436: 1.200629/1.266678; 437: 1.200542/1.266586; 438: 1.200455/1.266494; 439: 1.200368/1.266401; 440: 1.200282/1.266309; 441: 1.200197/1.266217; 442: 1.200111/1.266125; 443: 1.200025/1.266034; 444: 1.199940/1.265943; 445: 1.199855/1.265852; 446: 1.199771/1.265762; 447: 1.199686/1.265673; 448: 1.199602/1.265584; 449: 1.199518/1.265496; 450: 1.199434/1.265406; 451: 1.199351/1.265317; 452: 1.199267/1.265229; 453: 1.199184/1.265140; 454: 1.199101/1.265053; 455: 1.199019/1.264964; 456: 1.198936/1.264877; 457: 1.198854/1.264790; 458: 1.198772/1.264703; 459: 1.198690/1.264616; 460: 1.198608/1.264530; 461: 1.198527/1.264445; 462: 1.198445/1.264358; 463: 1.198364/1.264273; 464: 1.198283/1.264188; 465: 1.198203/1.264103; 466: 1.198122/1.264019; 467: 1.198042/1.263936; 468: 1.197962/1.263852; 469: 1.197881/1.263767; 470: 1.197801/1.263682; 471: 1.197722/1.263599; 472: 1.197642/1.263516; 473: 1.197563/1.263433; 474: 1.197484/1.263349; 475: 1.197406/1.263266; 476: 1.197327/1.263184; 477: 1.197249/1.263102; 478: 1.197171/1.263020; 479: 1.197093/1.262938; 480: 1.197015/1.262858; 481: 1.196937/1.262776; 482: 1.196860/1.262695; 483: 1.196782/1.262614; 484: 1.196705/1.262534; 485: 1.196628/1.262454; 486: 1.196552/1.262374; 487: 1.196475/1.262294; 488: 1.196399/1.262215; 489: 1.196322/1.262137; 490: 1.196246/1.262058; 491: 1.196170/1.261979; 492: 1.196095/1.261901; 493: 1.196019/1.261823; 494: 1.195944/1.261744; 495: 1.195869/1.261667; 496: 1.195794/1.261588; 497: 1.195720/1.261512; 498: 1.195645/1.261435; 499: 1.195571/1.261358; 500: 1.195496/1.261281; 501: 1.195422/1.261205; 502: 1.195348/1.261130; 503: 1.195275/1.261053; 504: 1.195202/1.260978; 505: 1.195128/1.260902; 506: 1.195055/1.260827; 507: 1.194982/1.260752; 508: 1.194909/1.260677; 509: 1.194836/1.260603; 510: 1.194764/1.260529; 511: 1.194691/1.260454; 512: 1.194619/1.260382; 513: 1.194547/1.260308; 514: 1.194475/1.260235; 515: 1.194404/1.260162; 516: 1.194333/1.260089; 517: 1.194261/1.260018; 518: 1.194190/1.259945; 519: 1.194119/1.259874; 520: 1.194048/1.259802; 521: 1.193978/1.259732; 522: 1.193907/1.259660; 523: 1.193837/1.259588; 524: 1.193767/1.259518; 525: 1.193697/1.259447; 526: 1.193627/1.259377; 527: 1.193558/1.259307; 528: 1.193489/1.259237; 529: 1.193420/1.259168; 530: 1.193350/1.259098; 531: 1.193282/1.259028; 532: 1.193213/1.258959; 533: 1.193144/1.258889; 534: 1.193076/1.258820; 535: 1.193007/1.258752; 536: 1.192939/1.258684; 537: 1.192872/1.258615; 538: 1.192804/1.258548; 539: 1.192736/1.258481; 540: 1.192669/1.258413; 541: 1.192602/1.258346; 542: 1.192534/1.258279; 543: 1.192468/1.258213; 544: 1.192401/1.258146; 545: 1.192335/1.258081; 546: 1.192268/1.258016; 547: 1.192202/1.257950; 548: 1.192136/1.257886; 549: 1.192071/1.257821; 550: 1.192005/1.257755; 551: 1.191939/1.257691; 552: 1.191874/1.257626; 553: 1.191809/1.257563; 554: 1.191744/1.257500; 555: 1.191679/1.257435; 556: 1.191614/1.257372; 557: 1.191550/1.257308; 558: 1.191485/1.257245; 559: 1.191421/1.257182; 560: 1.191356/1.257120; 561: 1.191292/1.257056; 562: 1.191229/1.256994; 563: 1.191165/1.256932; 564: 1.191101/1.256869; 565: 1.191037/1.256807; 566: 1.190974/1.256746; 567: 1.190911/1.256684; 568: 1.190848/1.256624; 569: 1.190785/1.256562; 570: 1.190722/1.256502; 571: 1.190660/1.256442; 572: 1.190597/1.256382; 573: 1.190535/1.256322; 574: 1.190473/1.256263; 575: 1.190411/1.256203; 576: 1.190349/1.256142; 577: 1.190287/1.256083; 578: 1.190226/1.256023; 579: 1.190165/1.255964; 580: 1.190104/1.255906; 581: 1.190042/1.255848; 582: 1.189981/1.255790; 583: 1.189920/1.255732; 584: 1.189860/1.255675; 585: 1.189799/1.255616; 586: 1.189738/1.255559; 587: 1.189678/1.255501; 588: 1.189618/1.255445; 589: 1.189557/1.255387; 590: 1.189497/1.255329; 591: 1.189437/1.255272; 592: 1.189377/1.255216; 593: 1.189318/1.255159; 594: 1.189258/1.255102; 595: 1.189199/1.255046; 596: 1.189140/1.254989; 597: 1.189081/1.254933; 598: 1.189023/1.254876; 599: 1.188963/1.254822; 600: 1.188905/1.254764; 601: 1.188846/1.254711; 602: 1.188788/1.254655; 603: 1.188729/1.254600; 604: 1.188671/1.254544; 605: 1.188613/1.254488; 606: 1.188555/1.254434; 607: 1.188498/1.254378; 608: 1.188439/1.254324; 609: 1.188382/1.254268; 610: 1.188325/1.254214; 611: 1.188268/1.254161; 612: 1.188210/1.254106; 613: 1.188153/1.254053; 614: 1.188096/1.253998; 615: 1.188040/1.253945; 616: 1.187983/1.253891; 617: 1.187926/1.253839; 618: 1.187869/1.253786; 619: 1.187813/1.253732; 620: 1.187757/1.253679; 621: 1.187701/1.253626; 622: 1.187645/1.253573; 623: 1.187589/1.253520; 624: 1.187533/1.253468; 625: 1.187478/1.253416; 626: 1.187422/1.253363; 627: 1.187366/1.253312; 628: 1.187311/1.253260; 629: 1.187256/1.253208; 630: 1.187201/1.253157; 631: 1.187146/1.253105; 632: 1.187091/1.253053; 633: 1.187036/1.253001; 634: 1.186982/1.252951; 635: 1.186927/1.252899; 636: 1.186873/1.252850; 637: 1.186819/1.252800; 638: 1.186765/1.252748; 639: 1.186711/1.252698; 640: 1.186656/1.252648; 641: 1.186603/1.252600; 642: 1.186549/1.252549; 643: 1.186496/1.252499; 644: 1.186442/1.252448; 645: 1.186388/1.252399; 646: 1.186335/1.252350; 647: 1.186282/1.252301; 648: 1.186229/1.252251; 649: 1.186175/1.252202; 650: 1.186123/1.252153; 651: 1.186071/1.252103; 652: 1.186018/1.252055; 653: 1.185965/1.252005; 654: 1.185912/1.251957; 655: 1.185860/1.251909; 656: 1.185808/1.251861; 657: 1.185755/1.251813; 658: 1.185703/1.251765; 659: 1.185651/1.251718; 660: 1.185600/1.251669; 661: 1.185548/1.251622; 662: 1.185496/1.251575; 663: 1.185444/1.251527; 664: 1.185393/1.251481; 665: 1.185342/1.251434; 666: 1.185291/1.251387; 667: 1.185239/1.251341; 668: 1.185188/1.251294; 669: 1.185138/1.251248; 670: 1.185087/1.251201; 671: 1.185036/1.251156; 672: 1.184985/1.251109; 673: 1.184935/1.251062; 674: 1.184885/1.251018; 675: 1.184835/1.250971; 676: 1.184784/1.250925; 677: 1.184733/1.250880; 678: 1.184684/1.250835; 679: 1.184634/1.250789; 680: 1.184584/1.250743; 681: 1.184534/1.250699; 682: 1.184484/1.250653; 683: 1.184435/1.250608; 684: 1.184386/1.250562; 685: 1.184336/1.250518; 686: 1.184286/1.250474; 687: 1.184237/1.250430; 688: 1.184189/1.250386; "
     ]
    },
    {
     "name": "stdout",
     "output_type": "stream",
     "text": [
      "689: 1.184140/1.250341; 690: 1.184091/1.250297; 691: 1.184042/1.250253; 692: 1.183993/1.250210; 693: 1.183945/1.250166; 694: 1.183896/1.250122; 695: 1.183847/1.250079; 696: 1.183799/1.250036; 697: 1.183751/1.249992; 698: 1.183703/1.249949; 699: 1.183655/1.249906; 700: 1.183607/1.249862; 701: 1.183559/1.249820; 702: 1.183511/1.249777; 703: 1.183464/1.249734; 704: 1.183416/1.249693; 705: 1.183368/1.249650; 706: 1.183321/1.249607; 707: 1.183273/1.249565; 708: 1.183227/1.249522; 709: 1.183179/1.249480; 710: 1.183132/1.249438; 711: 1.183085/1.249396; 712: 1.183038/1.249355; 713: 1.182991/1.249314; 714: 1.182944/1.249273; 715: 1.182897/1.249230; 716: 1.182851/1.249189; 717: 1.182805/1.249148; 718: 1.182758/1.249107; 719: 1.182712/1.249065; 720: 1.182665/1.249025; 721: 1.182619/1.248984; 722: 1.182573/1.248943; 723: 1.182528/1.248904; 724: 1.182481/1.248863; 725: 1.182435/1.248823; 726: 1.182389/1.248783; 727: 1.182344/1.248742; 728: 1.182298/1.248702; 729: 1.182252/1.248662; 730: 1.182206/1.248624; 731: 1.182161/1.248584; 732: 1.182116/1.248543; 733: 1.182071/1.248504; 734: 1.182025/1.248464; 735: 1.181980/1.248425; 736: 1.181935/1.248384; 737: 1.181890/1.248344; 738: 1.181846/1.248305; 739: 1.181800/1.248267; 740: 1.181755/1.248226; 741: 1.181711/1.248187; 742: 1.181667/1.248147; 743: 1.181622/1.248110; 744: 1.181577/1.248071; 745: 1.181533/1.248032; 746: 1.181489/1.247994; 747: 1.181445/1.247954; 748: 1.181401/1.247916; 749: 1.181356/1.247878; 750: 1.181312/1.247839; 751: 1.181269/1.247801; 752: 1.181225/1.247761; 753: 1.181181/1.247723; 754: 1.181137/1.247684; 755: 1.181093/1.247646; 756: 1.181050/1.247609; 757: 1.181007/1.247570; 758: 1.180964/1.247533; 759: 1.180920/1.247495; 760: 1.180877/1.247458; 761: 1.180834/1.247420; 762: 1.180791/1.247383; 763: 1.180748/1.247345; 764: 1.180705/1.247308; 765: 1.180662/1.247270; 766: 1.180620/1.247233; 767: 1.180578/1.247198; 768: 1.180535/1.247160; 769: 1.180492/1.247123; 770: 1.180449/1.247086; 771: 1.180408/1.247050; 772: 1.180365/1.247012; 773: 1.180323/1.246977; 774: 1.180280/1.246940; 775: 1.180238/1.246904; 776: 1.180196/1.246868; 777: 1.180154/1.246833; 778: 1.180112/1.246796; 779: 1.180070/1.246761; 780: 1.180028/1.246724; 781: 1.179987/1.246689; 782: 1.179945/1.246653; 783: 1.179903/1.246617; 784: 1.179861/1.246582; 785: 1.179820/1.246546; 786: 1.179778/1.246511; 787: 1.179737/1.246476; 788: 1.179695/1.246440; 789: 1.179654/1.246405; 790: 1.179613/1.246369; 791: 1.179572/1.246335; 792: 1.179530/1.246299; 793: 1.179489/1.246264; 794: 1.179448/1.246229; 795: 1.179408/1.246195; 796: 1.179367/1.246160; 797: 1.179326/1.246125; 798: 1.179284/1.246089; 799: 1.179244/1.246055; 800: 1.179204/1.246020; 801: 1.179163/1.245987; 802: 1.179122/1.245953; 803: 1.179082/1.245918; 804: 1.179041/1.245883; 805: 1.179002/1.245850; 806: 1.178962/1.245816; 807: 1.178921/1.245782; 808: 1.178880/1.245747; 809: 1.178840/1.245715; 810: 1.178801/1.245681; 811: 1.178761/1.245648; 812: 1.178720/1.245612; 813: 1.178680/1.245578; 814: 1.178641/1.245545; 815: 1.178602/1.245512; 816: 1.178561/1.245478; 817: 1.178521/1.245445; 818: 1.178481/1.245411; 819: 1.178442/1.245378; 820: 1.178404/1.245344; 821: 1.178364/1.245312; 822: 1.178324/1.245278; 823: 1.178285/1.245245; 824: 1.178246/1.245211; 825: 1.178207/1.245179; 826: 1.178168/1.245147; 827: 1.178129/1.245114; 828: 1.178090/1.245080; 829: 1.178051/1.245047; 830: 1.178013/1.245015; 831: 1.177974/1.244982; 832: 1.177935/1.244951; 833: 1.177896/1.244917; 834: 1.177857/1.244886; 835: 1.177819/1.244855; 836: 1.177781/1.244823; 837: 1.177743/1.244791; 838: 1.177704/1.244759; 839: 1.177666/1.244727; 840: 1.177628/1.244696; 841: 1.177591/1.244664; 842: 1.177552/1.244632; 843: 1.177513/1.244601; 844: 1.177475/1.244569; 845: 1.177438/1.244540; 846: 1.177401/1.244509; 847: 1.177363/1.244479; 848: 1.177324/1.244446; 849: 1.177287/1.244415; 850: 1.177249/1.244385; 851: 1.177213/1.244354; 852: 1.177175/1.244323; 853: 1.177137/1.244293; 854: 1.177099/1.244262; 855: 1.177062/1.244232; 856: 1.177025/1.244202; 857: 1.176989/1.244171; 858: 1.176951/1.244141; 859: 1.176913/1.244111; 860: 1.176877/1.244080; 861: 1.176840/1.244050; 862: 1.176803/1.244021; 863: 1.176766/1.243989; 864: 1.176728/1.243960; 865: 1.176692/1.243929; 866: 1.176655/1.243901; 867: 1.176619/1.243872; 868: 1.176582/1.243841; 869: 1.176545/1.243812; 870: 1.176508/1.243781; 871: 1.176473/1.243754; 872: 1.176436/1.243724; 873: 1.176400/1.243696; 874: 1.176363/1.243665; 875: 1.176327/1.243636; 876: 1.176291/1.243608; 877: 1.176255/1.243580; 878: 1.176219/1.243550; 879: 1.176182/1.243519; 880: 1.176146/1.243491; 881: 1.176111/1.243461; 882: 1.176076/1.243432; 883: 1.176040/1.243403; 884: 1.176004/1.243373; 885: 1.175968/1.243344; 886: 1.175932/1.243316; 887: 1.175897/1.243286; 888: 1.175862/1.243258; 889: 1.175826/1.243228; 890: 1.175790/1.243199; 891: 1.175755/1.243169; 892: 1.175720/1.243143; 893: 1.175685/1.243114; 894: 1.175650/1.243085; 895: 1.175614/1.243055; 896: 1.175579/1.243027; 897: 1.175544/1.243001; 898: 1.175509/1.242973; 899: 1.175474/1.242944; 900: 1.175439/1.242914; 901: 1.175404/1.242886; 902: 1.175370/1.242858; 903: 1.175336/1.242831; 904: 1.175301/1.242802; 905: 1.175265/1.242773; 906: 1.175231/1.242745; 907: 1.175197/1.242718; 908: 1.175163/1.242690; 909: 1.175128/1.242663; 910: 1.175093/1.242634; 911: 1.175059/1.242606; 912: 1.175024/1.242578; 913: 1.174991/1.242553; 914: 1.174957/1.242524; 915: 1.174922/1.242495; 916: 1.174887/1.242467; 917: 1.174853/1.242441; 918: 1.174820/1.242414; 919: 1.174786/1.242387; 920: 1.174752/1.242359; 921: 1.174718/1.242332; 922: 1.174684/1.242305; 923: 1.174651/1.242279; 924: 1.174618/1.242252; 925: 1.174584/1.242224; 926: 1.174549/1.242197; 927: 1.174516/1.242171; 928: 1.174483/1.242144; 929: 1.174450/1.242117; 930: 1.174416/1.242092; 931: 1.174382/1.242063; 932: 1.174349/1.242038; 933: 1.174316/1.242011; 934: 1.174283/1.241985; 935: 1.174250/1.241957; 936: 1.174216/1.241930; 937: 1.174183/1.241905; 938: 1.174150/1.241878; 939: 1.174117/1.241853; 940: 1.174085/1.241826; 941: 1.174052/1.241798; 942: 1.174018/1.241773; 943: 1.173986/1.241747; 944: 1.173954/1.241721; 945: 1.173921/1.241696; 946: 1.173888/1.241670; 947: 1.173855/1.241643; 948: 1.173822/1.241619; 949: 1.173790/1.241593; 950: 1.173758/1.241567; 951: 1.173726/1.241541; 952: 1.173692/1.241513; 953: 1.173660/1.241488; 954: 1.173628/1.241463; 955: 1.173596/1.241438; 956: 1.173563/1.241412; 957: 1.173531/1.241385; 958: 1.173498/1.241359; 959: 1.173467/1.241334; 960: 1.173435/1.241311; 961: 1.173403/1.241284; 962: 1.173370/1.241257; 963: 1.173338/1.241232; 964: 1.173306/1.241208; 965: 1.173275/1.241183; 966: 1.173243/1.241158; 967: 1.173211/1.241131; 968: 1.173179/1.241103; 969: 1.173147/1.241078; 970: 1.173116/1.241055; 971: 1.173085/1.241030; 972: 1.173052/1.241004; 973: 1.173020/1.240979; 974: 1.172988/1.240953; 975: 1.172958/1.240930; 976: 1.172927/1.240904; 977: 1.172895/1.240879; 978: 1.172863/1.240854; 979: 1.172832/1.240828; 980: 1.172801/1.240804; 981: 1.172770/1.240778; 982: 1.172739/1.240754; 983: 1.172707/1.240730; 984: 1.172675/1.240704; 985: 1.172645/1.240681; 986: 1.172614/1.240658; 987: 1.172584/1.240632; 988: 1.172552/1.240608; 989: 1.172521/1.240582; 990: 1.172490/1.240559; 991: 1.172459/1.240534; 992: 1.172428/1.240510; 993: 1.172397/1.240485; 994: 1.172366/1.240461; 995: 1.172335/1.240436; 996: 1.172305/1.240415; 997: 1.172275/1.240390; 998: 1.172244/1.240366; 999: 1.172213/1.240342; 1000: 1.172182/1.240317; done!\n"
     ]
    }
   ],
   "source": [
    "user_embs_file = \"mf_model/user_embeddings.npy\"\n",
    "movie_embs_file = \"mf_model/movie_embeddings.npy\"\n",
    "\n",
    "bs = 4096\n",
    "epochs = 1000\n",
    "end_to_end_start = 50\n",
    "nn_lr = 0.001\n",
    "eb_lr = 0.0001\n",
    "alpha = 0.5\n",
    "beta = 1.75\n",
    "net_dims = [8, 64, 32, 16, 5]\n",
    "acts = [tf.nn.relu, tf.nn.relu, tf.nn.relu, None]\n",
    "\n",
    "with tf.Graph().as_default():\n",
    "    tf.set_random_seed(seed=123)\n",
    "    with tf.variable_scope(\"embeddings\"):\n",
    "        usr_embs, mov_embs = load_embeddings(user_embs_file, movie_embs_file)\n",
    "    with tf.variable_scope(\"neural_network\"):\n",
    "        params = initialize_nn_params(net_dims)\n",
    "    with tf.variable_scope(\"train_set\"):\n",
    "        train_data = trainset[[\"adj_userid\", \"adj_movieid\", \"rating\"]].values.T\n",
    "        train_examples = create_dataset(*train_data)\n",
    "        train_batches = tf.contrib.data.Dataset.from_tensor_slices(train_examples).batch(bs).cache(\"ds_cache\")\n",
    "        train_iterator = train_batches.make_initializable_iterator()\n",
    "        train_usr_id_bs, train_mov_id_bs, train_rating_bs = train_iterator.get_next()\n",
    "    with tf.variable_scope(\"valid_set\"):\n",
    "        valid_data = validset[[\"adj_userid\", \"adj_movieid\", \"rating\"]].values.T\n",
    "        valid_usr_ids, valid_mov_ids, valid_ratings = create_dataset(*valid_data)\n",
    "    with tf.variable_scope(\"training\"):\n",
    "        train_logits_bs = dmf_logits(train_usr_id_bs, train_mov_id_bs, usr_embs, mov_embs, params, acts, net_dims)\n",
    "        train_loss = dfm_loss(train_logits_bs, train_rating_bs, params, alpha, beta)\n",
    "        train_step_nn = tf.train.AdamOptimizer(learning_rate=nn_lr).minimize(train_loss, var_list=list(params.values()))\n",
    "        train_step_eb = tf.train.AdamOptimizer(learning_rate=eb_lr).minimize(train_loss, var_list=[list(params.values())+[usr_embs, mov_embs]])\n",
    "    with tf.variable_scope(\"validation\"):\n",
    "        valid_logits = dmf_logits(valid_usr_ids, valid_mov_ids, usr_embs, mov_embs, params, acts, net_dims)\n",
    "        valid_preds = calc_predict(valid_logits)\n",
    "        #cost = cross_entropy(valid_logits, valid_ratings)\n",
    "        valid_loss = dfm_loss(valid_logits, valid_ratings, params, alpha, beta)\n",
    "    with tf.Session() as sess:\n",
    "        sess.run(tf.global_variables_initializer())\n",
    "        sess.run(train_iterator.initializer)\n",
    "        train_loss_history = []\n",
    "        valid_loss_history = []\n",
    "        for epoch in range(epochs):\n",
    "            try:\n",
    "                train_epoch_loss_history = []\n",
    "                while True:\n",
    "                    if epoch < end_to_end_start:\n",
    "                        current_train_loss = sess.run([train_loss, train_step_nn])[0]\n",
    "                    else:\n",
    "                        current_train_loss = sess.run([train_loss, train_step_eb])[0]\n",
    "                    train_epoch_loss_history.append(current_train_loss)\n",
    "            except tf.errors.OutOfRangeError:\n",
    "                train_epoch_loss = np.mean(train_epoch_loss_history)\n",
    "                train_loss_history.append(train_epoch_loss)\n",
    "                valid_epoch_loss = sess.run(valid_loss)\n",
    "                valid_loss_history.append(valid_epoch_loss)\n",
    "                print(\"%i: %f/%f\"%(epoch+1, train_epoch_loss, valid_epoch_loss), end=\"; \")\n",
    "                sess.run(train_iterator.initializer)\n",
    "        print(\"done!\")\n",
    "        final_valid_predictions = sess.run(valid_preds)"
   ]
  },
  {
   "cell_type": "code",
   "execution_count": 21,
   "metadata": {},
   "outputs": [
    {
     "name": "stdout",
     "output_type": "stream",
     "text": [
      "DNN Accuracy: 50.409081%\n"
     ]
    }
   ],
   "source": [
    "dnn_accuracy = np.sum(np.argmax(final_valid_predictions, axis=-1)+1 == validset.rating.values) / len(final_valid_predictions)\n",
    "print(\"DNN Accuracy: %f%%\"%(dnn_accuracy*100,))"
   ]
  },
  {
   "cell_type": "code",
   "execution_count": 22,
   "metadata": {},
   "outputs": [
    {
     "data": {
      "image/png": "[encoded data removed]",
      "text/plain": [
       "<matplotlib.figure.Figure at 0x7fdeed6e6208>"
      ]
     },
     "metadata": {},
     "output_type": "display_data"
    }
   ],
   "source": [
    "plt.figure(figsize=(12,10))\n",
    "plt.plot(train_loss_history, color=\"red\", label=\"train loss\")\n",
    "plt.plot(valid_loss_history, color=\"blue\", label=\"valid loss\")\n",
    "plt.xlabel(\"epoch\")\n",
    "plt.ylabel(\"loss\")\n",
    "plt.axvline(end_to_end_start-1, ls = \"--\", label=\"end-to-end start\")\n",
    "plt.legend()\n",
    "plt.show()"
   ]
  },
  {
   "cell_type": "code",
   "execution_count": 23,
   "metadata": {},
   "outputs": [
    {
     "data": {
      "image/png": "[encoded data removed]",
      "text/plain": [
       "<matplotlib.figure.Figure at 0x7fde8de71ef0>"
      ]
     },
     "metadata": {},
     "output_type": "display_data"
    }
   ],
   "source": [
    "n_cols, n_rows = 5, 6\n",
    "n = n_cols * n_rows\n",
    "ratings = validset.rating.values[:n]\n",
    "probs = final_valid_predictions[:n]\n",
    "\n",
    "fig, axs = plt.subplots(n_rows, n_cols, figsize=(n_cols*3, n_rows*3), sharex=True, sharey=True)\n",
    "for ax, r, ps  in zip(axs.flatten(), ratings, probs):\n",
    "    for i, p in enumerate(ps):\n",
    "        ax.set_xlabel(\"rating\")\n",
    "        ax.set_ylabel(\"probability\")\n",
    "        ax.bar(r, 1, .9, color=\"white\", edgecolor=\"green\", alpha=.1, zorder=1)\n",
    "        ax.bar(i+1, p, .9, color=\"blue\", alpha=.5, edgecolor=\"black\", zorder=2)\n",
    "        ax.set_xticks(np.arange(1, 6))\n",
    "    ax.bar(np.argmax(ps, axis=-1)+1, 1, .9, color=\"red\", edgecolor=\"red\", alpha=.1, zorder=1)\n",
    "fig.tight_layout()"
   ]
  },
  {
   "cell_type": "code",
   "execution_count": 24,
   "metadata": {},
   "outputs": [
    {
     "data": {
      "text/html": [
       "<div>\n",
       "<style>\n",
       "    .dataframe thead tr:only-child th {\n",
       "        text-align: right;\n",
       "    }\n",
       "\n",
       "    .dataframe thead th {\n",
       "        text-align: left;\n",
       "    }\n",
       "\n",
       "    .dataframe tbody tr th {\n",
       "        vertical-align: top;\n",
       "    }\n",
       "</style>\n",
       "<table border=\"1\" class=\"dataframe\">\n",
       "  <thead>\n",
       "    <tr style=\"text-align: right;\">\n",
       "      <th></th>\n",
       "      <th>gender</th>\n",
       "      <th>userid</th>\n",
       "      <th>movieid</th>\n",
       "      <th>age_desc</th>\n",
       "      <th>occ_desc</th>\n",
       "      <th>title</th>\n",
       "      <th>genre</th>\n",
       "      <th>rating</th>\n",
       "      <th>prediction</th>\n",
       "      <th>rating 1</th>\n",
       "      <th>rating 2</th>\n",
       "      <th>rating 3</th>\n",
       "      <th>rating 4</th>\n",
       "      <th>rating 5</th>\n",
       "    </tr>\n",
       "  </thead>\n",
       "  <tbody>\n",
       "    <tr>\n",
       "      <th>981129</th>\n",
       "      <td>M</td>\n",
       "      <td>963</td>\n",
       "      <td>3809</td>\n",
       "      <td>25-34</td>\n",
       "      <td>other or not specified</td>\n",
       "      <td>What About Bob? (1991)</td>\n",
       "      <td>Comedy</td>\n",
       "      <td>4</td>\n",
       "      <td>3</td>\n",
       "      <td>4.350096e-02</td>\n",
       "      <td>0.250565</td>\n",
       "      <td>0.603967</td>\n",
       "      <td>0.095911</td>\n",
       "      <td>0.006056</td>\n",
       "    </tr>\n",
       "    <tr>\n",
       "      <th>985496</th>\n",
       "      <td>M</td>\n",
       "      <td>1217</td>\n",
       "      <td>3836</td>\n",
       "      <td>25-34</td>\n",
       "      <td>programmer</td>\n",
       "      <td>Kelly's Heroes (1970)</td>\n",
       "      <td>Action|Comedy|War</td>\n",
       "      <td>5</td>\n",
       "      <td>5</td>\n",
       "      <td>2.802744e-06</td>\n",
       "      <td>0.000191</td>\n",
       "      <td>0.014831</td>\n",
       "      <td>0.469968</td>\n",
       "      <td>0.515008</td>\n",
       "    </tr>\n",
       "    <tr>\n",
       "      <th>390574</th>\n",
       "      <td>M</td>\n",
       "      <td>4169</td>\n",
       "      <td>1345</td>\n",
       "      <td>50-55</td>\n",
       "      <td>other or not specified</td>\n",
       "      <td>Carrie (1976)</td>\n",
       "      <td>Horror</td>\n",
       "      <td>3</td>\n",
       "      <td>4</td>\n",
       "      <td>8.397089e-05</td>\n",
       "      <td>0.002588</td>\n",
       "      <td>0.079945</td>\n",
       "      <td>0.661034</td>\n",
       "      <td>0.256350</td>\n",
       "    </tr>\n",
       "    <tr>\n",
       "      <th>668698</th>\n",
       "      <td>F</td>\n",
       "      <td>2155</td>\n",
       "      <td>2454</td>\n",
       "      <td>Under 18</td>\n",
       "      <td>K-12 student</td>\n",
       "      <td>Fly, The (1958)</td>\n",
       "      <td>Horror|Sci-Fi</td>\n",
       "      <td>4</td>\n",
       "      <td>5</td>\n",
       "      <td>1.840532e-07</td>\n",
       "      <td>0.000015</td>\n",
       "      <td>0.001641</td>\n",
       "      <td>0.167766</td>\n",
       "      <td>0.830577</td>\n",
       "    </tr>\n",
       "    <tr>\n",
       "      <th>532105</th>\n",
       "      <td>F</td>\n",
       "      <td>2100</td>\n",
       "      <td>1968</td>\n",
       "      <td>25-34</td>\n",
       "      <td>other or not specified</td>\n",
       "      <td>Breakfast Club, The (1985)</td>\n",
       "      <td>Comedy|Drama</td>\n",
       "      <td>5</td>\n",
       "      <td>4</td>\n",
       "      <td>5.042348e-05</td>\n",
       "      <td>0.002230</td>\n",
       "      <td>0.094842</td>\n",
       "      <td>0.734332</td>\n",
       "      <td>0.168545</td>\n",
       "    </tr>\n",
       "    <tr>\n",
       "      <th>641818</th>\n",
       "      <td>M</td>\n",
       "      <td>4626</td>\n",
       "      <td>2371</td>\n",
       "      <td>25-34</td>\n",
       "      <td>sales/marketing</td>\n",
       "      <td>Fletch (1985)</td>\n",
       "      <td>Comedy</td>\n",
       "      <td>5</td>\n",
       "      <td>4</td>\n",
       "      <td>4.179878e-04</td>\n",
       "      <td>0.007681</td>\n",
       "      <td>0.136699</td>\n",
       "      <td>0.649748</td>\n",
       "      <td>0.205453</td>\n",
       "    </tr>\n",
       "    <tr>\n",
       "      <th>950333</th>\n",
       "      <td>M</td>\n",
       "      <td>1837</td>\n",
       "      <td>3676</td>\n",
       "      <td>25-34</td>\n",
       "      <td>artist</td>\n",
       "      <td>Eraserhead (1977)</td>\n",
       "      <td>Drama|Horror</td>\n",
       "      <td>5</td>\n",
       "      <td>4</td>\n",
       "      <td>8.754965e-04</td>\n",
       "      <td>0.013166</td>\n",
       "      <td>0.186228</td>\n",
       "      <td>0.640405</td>\n",
       "      <td>0.159326</td>\n",
       "    </tr>\n",
       "    <tr>\n",
       "      <th>361483</th>\n",
       "      <td>M</td>\n",
       "      <td>5128</td>\n",
       "      <td>1270</td>\n",
       "      <td>50-55</td>\n",
       "      <td>executive/managerial</td>\n",
       "      <td>Back to the Future (1985)</td>\n",
       "      <td>Comedy|Sci-Fi</td>\n",
       "      <td>2</td>\n",
       "      <td>4</td>\n",
       "      <td>2.307691e-05</td>\n",
       "      <td>0.001232</td>\n",
       "      <td>0.065459</td>\n",
       "      <td>0.715190</td>\n",
       "      <td>0.218096</td>\n",
       "    </tr>\n",
       "    <tr>\n",
       "      <th>487408</th>\n",
       "      <td>M</td>\n",
       "      <td>3041</td>\n",
       "      <td>1735</td>\n",
       "      <td>25-34</td>\n",
       "      <td>college/grad student</td>\n",
       "      <td>Great Expectations (1998)</td>\n",
       "      <td>Drama|Romance</td>\n",
       "      <td>4</td>\n",
       "      <td>4</td>\n",
       "      <td>4.498234e-04</td>\n",
       "      <td>0.008934</td>\n",
       "      <td>0.166628</td>\n",
       "      <td>0.671906</td>\n",
       "      <td>0.152083</td>\n",
       "    </tr>\n",
       "    <tr>\n",
       "      <th>781088</th>\n",
       "      <td>M</td>\n",
       "      <td>4473</td>\n",
       "      <td>2915</td>\n",
       "      <td>35-44</td>\n",
       "      <td>academic/educator</td>\n",
       "      <td>Risky Business (1983)</td>\n",
       "      <td>Comedy</td>\n",
       "      <td>4</td>\n",
       "      <td>4</td>\n",
       "      <td>6.957088e-04</td>\n",
       "      <td>0.017187</td>\n",
       "      <td>0.328794</td>\n",
       "      <td>0.603481</td>\n",
       "      <td>0.049842</td>\n",
       "    </tr>\n",
       "  </tbody>\n",
       "</table>\n",
       "</div>"
      ],
      "text/plain": [
       "       gender  userid  movieid  age_desc                occ_desc  \\\n",
       "981129      M     963     3809     25-34  other or not specified   \n",
       "985496      M    1217     3836     25-34              programmer   \n",
       "390574      M    4169     1345     50-55  other or not specified   \n",
       "668698      F    2155     2454  Under 18            K-12 student   \n",
       "532105      F    2100     1968     25-34  other or not specified   \n",
       "641818      M    4626     2371     25-34         sales/marketing   \n",
       "950333      M    1837     3676     25-34                  artist   \n",
       "361483      M    5128     1270     50-55    executive/managerial   \n",
       "487408      M    3041     1735     25-34    college/grad student   \n",
       "781088      M    4473     2915     35-44       academic/educator   \n",
       "\n",
       "                             title              genre  rating  prediction  \\\n",
       "981129      What About Bob? (1991)             Comedy       4           3   \n",
       "985496       Kelly's Heroes (1970)  Action|Comedy|War       5           5   \n",
       "390574               Carrie (1976)             Horror       3           4   \n",
       "668698             Fly, The (1958)      Horror|Sci-Fi       4           5   \n",
       "532105  Breakfast Club, The (1985)       Comedy|Drama       5           4   \n",
       "641818               Fletch (1985)             Comedy       5           4   \n",
       "950333           Eraserhead (1977)       Drama|Horror       5           4   \n",
       "361483   Back to the Future (1985)      Comedy|Sci-Fi       2           4   \n",
       "487408   Great Expectations (1998)      Drama|Romance       4           4   \n",
       "781088       Risky Business (1983)             Comedy       4           4   \n",
       "\n",
       "            rating 1  rating 2  rating 3  rating 4  rating 5  \n",
       "981129  4.350096e-02  0.250565  0.603967  0.095911  0.006056  \n",
       "985496  2.802744e-06  0.000191  0.014831  0.469968  0.515008  \n",
       "390574  8.397089e-05  0.002588  0.079945  0.661034  0.256350  \n",
       "668698  1.840532e-07  0.000015  0.001641  0.167766  0.830577  \n",
       "532105  5.042348e-05  0.002230  0.094842  0.734332  0.168545  \n",
       "641818  4.179878e-04  0.007681  0.136699  0.649748  0.205453  \n",
       "950333  8.754965e-04  0.013166  0.186228  0.640405  0.159326  \n",
       "361483  2.307691e-05  0.001232  0.065459  0.715190  0.218096  \n",
       "487408  4.498234e-04  0.008934  0.166628  0.671906  0.152083  \n",
       "781088  6.957088e-04  0.017187  0.328794  0.603481  0.049842  "
      ]
     },
     "execution_count": 24,
     "metadata": {},
     "output_type": "execute_result"
    }
   ],
   "source": [
    "results = validset[[\"gender\", \"userid\",\"movieid\",\"age_desc\",\"occ_desc\", \"title\", \"genre\", \"rating\"]].copy()\n",
    "results[\"prediction\"] = final_valid_predictions.argmax(axis=1)+1\n",
    "results[\"rating 1\"] = final_valid_predictions[:,0]\n",
    "results[\"rating 2\"] = final_valid_predictions[:,1]\n",
    "results[\"rating 3\"] = final_valid_predictions[:,2]\n",
    "results[\"rating 4\"] = final_valid_predictions[:,3]\n",
    "results[\"rating 5\"] = final_valid_predictions[:,4]\n",
    "results.head(10)"
   ]
  },
  {
   "cell_type": "code",
   "execution_count": 25,
   "metadata": {
    "collapsed": true
   },
   "outputs": [],
   "source": [
    "def compute_recall(prediction_col, target_col):\n",
    "    recall=[]\n",
    "    for i in range(5):\n",
    "        rating_df = results[results[target_col]==i+1]\n",
    "        num_true_rating = len(rating_df)+0.0\n",
    "        current_recall = (len(rating_df[rating_df[prediction_col]==i+1]))/num_true_rating\n",
    "        recall.append(current_recall)\n",
    "    return recall\n",
    "\n",
    "def compute_precision(prediction_col, target_col): \n",
    "    precision=[]\n",
    "    for i in range(5):\n",
    "        pred_df = results[results[prediction_col]==i+1]\n",
    "        pred_rating = len(pred_df)+0.0\n",
    "        current_precision = (len(pred_df[pred_df[target_col]==i+1]))/pred_rating\n",
    "        precision.append(current_precision)\n",
    "    return precision    \n",
    "\n",
    "def compute_mae(prediction_col, target_col):\n",
    "    return np.mean(np.abs(results[prediction_col]-results[target_col]))\n",
    "\n",
    "def compute_rmse(prediction_col, target_col):\n",
    "    return np.sqrt(1/len(results)*np.sum((results[prediction_col]- results[target_col])**2))"
   ]
  },
  {
   "cell_type": "code",
   "execution_count": 26,
   "metadata": {},
   "outputs": [
    {
     "data": {
      "text/plain": [
       "[0.286997105216518,\n",
       " 0.21371546185991394,\n",
       " 0.5327710689412817,\n",
       " 0.6620317387655451,\n",
       " 0.4184581880251328]"
      ]
     },
     "execution_count": 26,
     "metadata": {},
     "output_type": "execute_result"
    }
   ],
   "source": [
    "compute_recall('prediction', 'rating')"
   ]
  },
  {
   "cell_type": "code",
   "execution_count": 27,
   "metadata": {},
   "outputs": [
    {
     "data": {
      "text/plain": [
       "[0.6798208788133221,\n",
       " 0.3924521818806551,\n",
       " 0.4492430364743279,\n",
       " 0.4922703806660237,\n",
       " 0.6830475092472499]"
      ]
     },
     "execution_count": 27,
     "metadata": {},
     "output_type": "execute_result"
    }
   ],
   "source": [
    "compute_precision('prediction', 'rating')"
   ]
  },
  {
   "cell_type": "code",
   "execution_count": 28,
   "metadata": {},
   "outputs": [
    {
     "data": {
      "text/plain": [
       "0.5696470407881011"
      ]
     },
     "execution_count": 28,
     "metadata": {},
     "output_type": "execute_result"
    }
   ],
   "source": [
    "compute_mae('prediction', 'rating')"
   ]
  },
  {
   "cell_type": "code",
   "execution_count": 29,
   "metadata": {},
   "outputs": [
    {
     "data": {
      "text/plain": [
       "0.8559903400426091"
      ]
     },
     "execution_count": 29,
     "metadata": {},
     "output_type": "execute_result"
    }
   ],
   "source": [
    "compute_rmse('prediction', 'rating')"
   ]
  },
  {
   "cell_type": "code",
   "execution_count": null,
   "metadata": {
    "collapsed": true
   },
   "outputs": [],
   "source": []
  }
 ],
 "metadata": {
  "kernelspec": {
   "display_name": "Python 3",
   "language": "python",
   "name": "python3"
  },
  "language_info": {
   "codemirror_mode": {
    "name": "ipython",
    "version": 3
   },
   "file_extension": ".py",
   "mimetype": "text/x-python",
   "name": "python",
   "nbconvert_exporter": "python",
   "pygments_lexer": "ipython3",
   "version": "3.6.1"
  }
 },
 "nbformat": 4,
 "nbformat_minor": 2
}
