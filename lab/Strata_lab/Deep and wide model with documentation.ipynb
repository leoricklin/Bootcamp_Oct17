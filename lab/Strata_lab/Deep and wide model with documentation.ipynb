{
 "cells": [
  {
   "cell_type": "markdown",
   "metadata": {},
   "source": [
    "In this tutorial we learn how to use the tf.esimator API to train a wide linear model and a deep feed-forward neutal network. This approach combines the strengths of memorization and generalization.\n",
    "\n",
    "![wide and deep model](wide_n_deep.svg)\n",
    "\n",
    "The explaination of the model from tensorflow website as following:\n",
    "\n",
    "The figure above shows a comparison of a wide model (logistic regression with sparse features and transformations), a deep model (feed-forward neural network with an embedding layer and several hidden layers), and a Wide & Deep model (joint training of both). At a high level, here are the steps using the tf.estimator API:\n",
    "\n",
    "1. Preprocess our movielens dataset in pandas.\n",
    "2. Define features\n",
    "3. Build inputs from the original dataset \n",
    "4. Hash string type categorical features and use int type features value as category id directly.\n",
    "5. Create embeddings of sparse features for the deep model.\n",
    "6. Define features for both the deep and the wide part of the model.\n",
    "7. Train and validate the model."
   ]
  },
  {
   "cell_type": "code",
   "execution_count": 1,
   "metadata": {
    "collapsed": true
   },
   "outputs": [],
   "source": [
    "import tensorflow as tf\n",
    "import pandas as pd\n",
    "import matplotlib.pyplot as plt\n",
    "import numpy as np\n",
    "%matplotlib inline"
   ]
  },
  {
   "cell_type": "markdown",
   "metadata": {},
   "source": [
    "### 1. data preprocessing"
   ]
  },
  {
   "cell_type": "markdown",
   "metadata": {},
   "source": [
    "load dataset and split train and valid set. This is same step we have shown in the previous notebook for collaborative filtering."
   ]
  },
  {
   "cell_type": "code",
   "execution_count": 2,
   "metadata": {
    "collapsed": true
   },
   "outputs": [],
   "source": [
    "def load_movie_lens():\n",
    "    age_desc = {\n",
    "        1: \"Under 18\", 18: \"18-24\", 25: \"25-34\", 35: \"35-44\", 45: \"45-49\", 50: \"50-55\", 56: \"56+\"\n",
    "    }\n",
    "    occupation_desc = { \n",
    "        0: \"other or not specified\", 1: \"academic/educator\", 2: \"artist\", 3: \"clerical/admin\",\n",
    "        4: \"college/grad student\", 5: \"customer service\", 6: \"doctor/health care\",\n",
    "        7: \"executive/managerial\", 8: \"farmer\", 9: \"homemaker\", 10: \"K-12 student\", 11: \"lawyer\",\n",
    "        12: \"programmer\", 13: \"retired\", 14: \"sales/marketing\", 15: \"scientist\", 16: \"self-employed\",\n",
    "        17: \"technician/engineer\", 18: \"tradesman/craftsman\", 19: \"unemployed\", 20: \"writer\"\n",
    "    }\n",
    "    rating_data = pd.read_csv(\n",
    "        \"ml-1m/ratings.dat\",\n",
    "        sep=\"::\",\n",
    "        engine=\"python\",\n",
    "        encoding=\"latin-1\",\n",
    "        names=['userid', 'movieid', 'rating', 'timestamp'])\n",
    "    user_data = pd.read_csv(\n",
    "        \"ml-1m/users.dat\", \n",
    "        sep='::', \n",
    "        engine='python', \n",
    "        encoding='latin-1',\n",
    "        names=['userid', 'gender', 'age', 'occupation', 'zipcode']\n",
    "    )\n",
    "    user_data['age_desc'] = user_data['age'].apply(lambda x: age_desc[x])\n",
    "    user_data['occ_desc'] = user_data['occupation'].apply(lambda x: occupation_desc[x])\n",
    "    movie_data = pd.read_csv(\n",
    "        \"ml-1m/movies.dat\",\n",
    "        sep='::', \n",
    "        engine='python', \n",
    "        encoding='latin-1',\n",
    "        names=['movieid', 'title', 'genre']\n",
    "    )\n",
    "    dataset = pd.merge(pd.merge(rating_data, movie_data, how=\"left\", on=\"movieid\"), user_data, how=\"left\", on=\"userid\")\n",
    "    adj_col = dataset['movieid']\n",
    "    adj_col_uni = adj_col.sort_values().unique()\n",
    "    adj_df = pd.DataFrame(adj_col_uni).reset_index().rename(columns = {0:'movieid','index':'adj_movieid'})\n",
    "    dataset = pd.merge(adj_df,dataset,how=\"right\", on=\"movieid\")\n",
    "    dataset['adj_userid'] = dataset['userid'] - 1\n",
    "    return dataset\n",
    "\n",
    "def split_dataset(dataset, split_frac=.7):\n",
    "    dataset = dataset.sample(frac=1, replace=False)\n",
    "    n_split = int(len(dataset)*split_frac)\n",
    "    trainset = dataset[:n_split]\n",
    "    validset = dataset[n_split:]\n",
    "    return trainset, validset\n",
    "\n",
    "fullset = load_movie_lens()\n",
    "trainset, validset = split_dataset(fullset)"
   ]
  },
  {
   "cell_type": "markdown",
   "metadata": {},
   "source": [
    "### 2. define features"
   ]
  },
  {
   "cell_type": "markdown",
   "metadata": {},
   "source": [
    "By looking at the dataset, we know that we have following features: \"genre\", \"zipcode\", \"gender\", \"age\", \"occupation\".\n",
    " - The data type of \"genre\", \"zipcode\", \"gender\" is string, the data type of \"age\", \"occupation\" is int. So we group the features in STR and INT groups accordingly for further encoding.\n",
    " - We select all features for the deep model\n",
    " - We select all features plus some feature transformation for the wide model.<br>\n",
    "\n",
    "<font color=blue>The feature selection for deep and wide parts of the model is flexible, you can try out different combinations.</font>"
   ]
  },
  {
   "cell_type": "code",
   "execution_count": 3,
   "metadata": {
    "collapsed": true
   },
   "outputs": [],
   "source": [
    "CAT_STR_COLS = [\"genre\", \"zipcode\" ,\"gender\"]\n",
    "CAT_INT_COLS = [\"age\", \"occupation\"]\n",
    "LABEL_COL = \"rating\"\n",
    "DEEP_COLS = CAT_STR_COLS + CAT_INT_COLS\n",
    "WIDE_COL_CROSSES = [[\"gender\", \"age\"], [\"gender\", \"occupation\"]]"
   ]
  },
  {
   "cell_type": "markdown",
   "metadata": {},
   "source": [
    "### 3. build inputs from original dataset"
   ]
  },
  {
   "cell_type": "markdown",
   "metadata": {},
   "source": [
    "Since this Deep and Widel Model API expects sparse tensors as inputs, we convert here all the feature columns and the label column from our original dataset to sparse tensors."
   ]
  },
  {
   "cell_type": "code",
   "execution_count": 4,
   "metadata": {
    "collapsed": true
   },
   "outputs": [],
   "source": [
    "def make_inputs(dataframe):\n",
    "    \"\"\"\n",
    "    Creates sparse tensors to hold our feature values and constants to hold our label values.\n",
    "    For each feature we have selected for the deep and wide model, we create a sparse tensor. We use tf.SparseTensor \n",
    "    to create sparse tensors for features, and use tf.constant to create a constant with label values.\n",
    "    \n",
    "    Arguments:\n",
    "    dataframe -- pandas dataframe containing the values of features and labels.\n",
    "    \n",
    "    Returns:\n",
    "    feature_inputs -- a dictionary of sparse tensors of features.\n",
    "    label_input -- a constant with shape of [number of training example, 1]\n",
    "    \"\"\" \n",
    "    feature_inputs = {\n",
    "        col_name: tf.SparseTensor(\n",
    "            indices = [[i, 0] for i in range(len(dataframe[col_name]))],\n",
    "            values = dataframe[col_name].values,\n",
    "            dense_shape = [len(dataframe[col_name]), 1]\n",
    "        )\n",
    "        for col_name in CAT_STR_COLS + CAT_INT_COLS\n",
    "    }\n",
    "    label_input = tf.constant(dataframe[LABEL_COL].values-1)\n",
    "    return (feature_inputs, label_input)"
   ]
  },
  {
   "cell_type": "markdown",
   "metadata": {},
   "source": [
    "### 4. create hash buckets for categorical features"
   ]
  },
  {
   "cell_type": "markdown",
   "metadata": {},
   "source": [
    "Here we define two functions to encode string type categorical features and int type categorical features."
   ]
  },
  {
   "cell_type": "code",
   "execution_count": 17,
   "metadata": {
    "collapsed": true
   },
   "outputs": [],
   "source": [
    "def make_hash_columns(CAT_STR_COLS):\n",
    "    \"\"\"\n",
    "    Use tf.feature_column.categorical_column_with_hash_bucket to encode the string type categorical features.\n",
    "    Documentation of this function from tensorflow:\n",
    "        Use this when your sparse features are in string or integer format, and you want to distribute your inputs \n",
    "        into a finite number of buckets by hashing. output_id = Hash(input_feature_string) % bucket_size.\n",
    "    \n",
    "    Arguments:\n",
    "    CAT_STR_COLS -- string type categorical columns.\n",
    "    \n",
    "    Returns:\n",
    "    hashed_layers -- 3 hashed categorical columns in a list.\n",
    "    \n",
    "    \"\"\"\n",
    "    \n",
    "    hashed_columns = [\n",
    "        tf.feature_column.categorical_column_with_hash_bucket(col_name, hash_bucket_size=1000) \n",
    "        for col_name in CAT_STR_COLS\n",
    "    ]\n",
    "    return hashed_columns"
   ]
  },
  {
   "cell_type": "code",
   "execution_count": 18,
   "metadata": {
    "collapsed": true
   },
   "outputs": [],
   "source": [
    "def make_int_columns(CAT_INT_COLS):   \n",
    "    \"\"\"\n",
    "    Use tf.feature_column.categorical_column_with_identity to encode the int type categorical features.\n",
    "    Documentation of this function from tensorflow:\n",
    "        Use this when your inputs are integers in the range [0, num_buckets), and you want to use the \n",
    "        input value itself as the categorical ID.\n",
    "    \n",
    "    Arguments:\n",
    "    CAT_INT_COLS -- int type categorical columns.\n",
    "    \n",
    "    Returns:\n",
    "    hashed_layers -- 2 categorical columns in a list.\n",
    "    \n",
    "    \"\"\"\n",
    "    int_columns = [\n",
    "        tf.feature_column.categorical_column_with_identity(col_name, num_buckets=1000, default_value=0)\n",
    "        for col_name in CAT_INT_COLS\n",
    "    ]\n",
    "    return int_columns"
   ]
  },
  {
   "cell_type": "markdown",
   "metadata": {},
   "source": [
    "In the tensorflow tutorial, they have used tf.feature_column.categorical_column_with_vocabulary_list to create the int type categorical columns.\n",
    "<div class=\"alert alert-block alert-info\">\n",
    "    age = tf.feature_column.categorical_column_with_vocabulary_list(\"age\", [1,18, 25, 35, 45, 50, 56])<br>\n",
    "    occupation = tf.feature_column.categorical_column_with_vocabulary_list(\"occupation\", [0,1,2,3,4,5,6,7,8,9,10,11,12,13,14,15,16,17,18,19,20])<br>\n",
    "    age = tf.feature_column.indicator_column(age)<br>\n",
    "    occupation = tf.feature_column.indicator_column(occupation)<br>\n",
    "</div>"
   ]
  },
  {
   "cell_type": "markdown",
   "metadata": {},
   "source": [
    "### 5. create embedding for sparse features "
   ]
  },
  {
   "cell_type": "markdown",
   "metadata": {},
   "source": [
    "Create dense embeddings for the sparse features to feed into DNN."
   ]
  },
  {
   "cell_type": "code",
   "execution_count": 19,
   "metadata": {
    "collapsed": true
   },
   "outputs": [],
   "source": [
    "def make_embeddings(hashed_columns, int_columns, dim=6):\n",
    "    \"\"\"\n",
    "    Create embeddings from sparse features in the deep model. We use function tf.feature_column.embedding_colum to \n",
    "    convert the categorical columns we have created from the above steps to a dense representation.\n",
    "    \n",
    "    Arguments:\n",
    "    hashed_columns -- all categorical columnns that came out of the make_hash_columns function \n",
    "                    and are going to be fed into the DNN.\n",
    "    int_columns -- all categorical columnns that came out of the make_int_columns function \n",
    "                    and are going to be fed into the DNN.\n",
    "    dim -- 6, hyper-parameter dimension for the feature embeddings.\n",
    "    \n",
    "    Returns:\n",
    "    emdedding_layers -- list of columns with dense (embedded) representations.\n",
    "    \n",
    "    \"\"\" \n",
    "    embedding_layers = [\n",
    "        tf.feature_column.embedding_column(\n",
    "            column,\n",
    "            dimension=dim\n",
    "        )\n",
    "        for column in hashed_columns+int_columns\n",
    "    ]\n",
    "    return embedding_layers"
   ]
  },
  {
   "cell_type": "markdown",
   "metadata": {},
   "source": [
    "### 6. define features for the deep and wide part"
   ]
  },
  {
   "cell_type": "markdown",
   "metadata": {},
   "source": [
    "In our case, all the columns from embedding layers should go into the deep model, so we our deep model input equals to embedding_layers and we are not going to write a function for this."
   ]
  },
  {
   "cell_type": "code",
   "execution_count": null,
   "metadata": {
    "collapsed": true
   },
   "outputs": [],
   "source": [
    "def make_wide_input_layers(WIDE_COL_CROSSES):\n",
    "    \"\"\"\n",
    "    Make input cross features for the wide model. We use the tf.feature_column.crossed_column function for this.\n",
    "    \n",
    "    Arguments:\n",
    "    WIDE_COL_CROSSES -- cross feature combinations.\n",
    "    \n",
    "    Returns:\n",
    "    crossed_wide_input_layers -- input cross features for the wide model.\n",
    "    \n",
    "    \"\"\" \n",
    "    crossed_wide_input_layers = [\n",
    "        tf.feature_column.crossed_column([c for c in cs], hash_bucket_size=int(10**(3+len(cs))))\n",
    "        for cs in WIDE_COL_CROSSES\n",
    "    ]\n",
    "    return crossed_wide_input_layers"
   ]
  },
  {
   "cell_type": "markdown",
   "metadata": {},
   "source": [
    "### 7. train and validate the model"
   ]
  },
  {
   "cell_type": "markdown",
   "metadata": {},
   "source": [
    "Here we provide input features for the deep model and wide model, define the number of layers and layer sizes of DNN \n",
    "and create the model with tf.contrib.learn.DNNLinearCombinedClassifier. We save the model in directory ./model/"
   ]
  },
  {
   "cell_type": "code",
   "execution_count": null,
   "metadata": {
    "scrolled": false
   },
   "outputs": [
    {
     "name": "stdout",
     "output_type": "stream",
     "text": [
      "create input layers...done!\n",
      "create model...INFO:tensorflow:Using config: {'_task_type': None, '_task_id': 0, '_cluster_spec': <tensorflow.python.training.server_lib.ClusterSpec object at 0x1313b0588>, '_master': '', '_num_ps_replicas': 0, '_num_worker_replicas': 0, '_environment': 'local', '_is_chief': True, '_evaluation_master': '', '_tf_config': gpu_options {\n",
      "  per_process_gpu_memory_fraction: 1\n",
      "}\n",
      ", '_tf_random_seed': None, '_save_summary_steps': 10, '_save_checkpoints_secs': 600, '_log_step_count_steps': 100, '_session_config': None, '_save_checkpoints_steps': None, '_keep_checkpoint_max': 1, '_keep_checkpoint_every_n_hours': 10000, '_model_dir': './model/'}\n",
      "done!\n",
      "training model...WARNING:tensorflow:From /Users/jl186130/anaconda3/envs/tf/lib/python3.6/site-packages/tensorflow/contrib/learn/python/learn/estimators/head.py:642: scalar_summary (from tensorflow.python.ops.logging_ops) is deprecated and will be removed after 2016-11-30.\n",
      "Instructions for updating:\n",
      "Please switch to tf.summary.scalar. Note that tf.summary.scalar uses the node name instead of the tag. This means that TensorFlow will automatically de-duplicate summary names based on the scope they are created in. Also, passing a tensor or list of tags to a scalar summary op is no longer supported.\n",
      "INFO:tensorflow:Create CheckpointSaverHook.\n",
      "INFO:tensorflow:Saving checkpoints for 1 into ./model/model.ckpt.\n",
      "INFO:tensorflow:loss = 1.61659, step = 1\n",
      "INFO:tensorflow:global_step/sec: 0.865508\n",
      "INFO:tensorflow:loss = 1.45478, step = 101 (115.540 sec)\n",
      "INFO:tensorflow:global_step/sec: 0.877655\n",
      "INFO:tensorflow:loss = 1.45236, step = 201 (113.939 sec)\n",
      "INFO:tensorflow:global_step/sec: 0.834311\n",
      "INFO:tensorflow:loss = 1.45115, step = 301 (119.860 sec)\n",
      "INFO:tensorflow:global_step/sec: 0.950677\n",
      "INFO:tensorflow:loss = 1.45033, step = 401 (105.192 sec)\n",
      "INFO:tensorflow:global_step/sec: 0.932617\n",
      "INFO:tensorflow:loss = 1.44966, step = 501 (107.221 sec)\n",
      "INFO:tensorflow:Saving checkpoints for 533 into ./model/model.ckpt.\n",
      "INFO:tensorflow:Saving checkpoints for 596 into ./model/model.ckpt.\n",
      "INFO:tensorflow:global_step/sec: 0.0749732\n",
      "INFO:tensorflow:loss = 1.44912, step = 601 (1333.812 sec)\n",
      "INFO:tensorflow:Saving checkpoints for 611 into ./model/model.ckpt.\n",
      "INFO:tensorflow:Saving checkpoints for 615 into ./model/model.ckpt.\n",
      "INFO:tensorflow:Saving checkpoints for 618 into ./model/model.ckpt.\n",
      "INFO:tensorflow:Saving checkpoints for 623 into ./model/model.ckpt.\n"
     ]
    }
   ],
   "source": [
    "print(\"create input layers...\", end=\"\")\n",
    "hash_columns = make_hash_columns(CAT_STR_COLS)\n",
    "int_columns = make_int_columns(CAT_INT_COLS)\n",
    "embedding_layers = make_embeddings(hash_columns, int_columns,dim =6)\n",
    "deep_input_layers = embedding_layers\n",
    "wide_input_layers = make_wide_input_layers(WIDE_COL_CROSSES)\n",
    "print(\"done!\")\n",
    "print(\"create model...\", end=\"\")\n",
    "model = tf.contrib.learn.DNNLinearCombinedClassifier(\n",
    "    n_classes=5,\n",
    "    linear_feature_columns = wide_input_layers,\n",
    "    dnn_feature_columns = deep_input_layers,\n",
    "    dnn_hidden_units = [32, 16],\n",
    "    fix_global_step_increment_bug=True,\n",
    "    config = tf.contrib.learn.RunConfig(\n",
    "        keep_checkpoint_max = 1,\n",
    "        save_summary_steps = 10,\n",
    "        model_dir = \"./model/\"\n",
    "    )\n",
    ")\n",
    "print(\"done!\")\n",
    "print(\"training model...\", end=\"\")\n",
    "model.fit(input_fn = lambda: make_inputs(trainset), steps=1000)\n",
    "print(\"done!\")\n",
    "print(\"evaluating model...\", end=\"\")\n",
    "results = model.evaluate(input_fn = lambda: make_inputs(validset), steps=1)\n",
    "print(\"done!\")\n",
    "print(\"calculating predictions...\", end=\"\")\n",
    "predictions = model.predict_classes(input_fn = lambda: make_inputs(validset))\n",
    "print(\"done!\")\n",
    "print(\"calculating probabilites...\", end=\"\")\n",
    "probabilities = model.predict_proba(input_fn = lambda: make_inputs(validset))\n",
    "print(\"done!\")"
   ]
  },
  {
   "cell_type": "code",
   "execution_count": 11,
   "metadata": {},
   "outputs": [
    {
     "name": "stdout",
     "output_type": "stream",
     "text": [
      "loss: 1.4483709\n",
      "accuracy: 0.34967658\n",
      "global_step: 1000\n"
     ]
    }
   ],
   "source": [
    "for n, r in results.items():\n",
    "    print(\"%s: %a\"%(n, r))"
   ]
  },
  {
   "cell_type": "code",
   "execution_count": 12,
   "metadata": {},
   "outputs": [
    {
     "data": {
      "image/png": "[encoded data removed]",
      "text/plain": [
       "<matplotlib.figure.Figure at 0x1368e7748>"
      ]
     },
     "metadata": {},
     "output_type": "display_data"
    }
   ],
   "source": [
    "n = 100\n",
    "plot_preds = list(probabilities)[:n]\n",
    "plot_trgts = np.zeros([n, 5])\n",
    "plot_trgts[np.arange(n), validset[\"rating\"].iloc[:n].values-1] = 1\n",
    "\n",
    "fig, axs = plt.subplots(1, 2, figsize=(12,80))\n",
    "axs[0].set_title(\"predictions\")\n",
    "axs[1].set_title(\"ground truth\")\n",
    "axs[0].axis(\"off\")\n",
    "axs[1].axis(\"off\")\n",
    "axs[0].imshow(plot_preds)\n",
    "axs[1].imshow(plot_trgts)\n",
    "plt.show()"
   ]
  },
  {
   "cell_type": "code",
   "execution_count": null,
   "metadata": {
    "collapsed": true
   },
   "outputs": [],
   "source": []
  }
 ],
 "metadata": {
  "kernelspec": {
   "display_name": "Python 3",
   "language": "python",
   "name": "python3"
  },
  "language_info": {
   "codemirror_mode": {
    "name": "ipython",
    "version": 3
   },
   "file_extension": ".py",
   "mimetype": "text/x-python",
   "name": "python",
   "nbconvert_exporter": "python",
   "pygments_lexer": "ipython3",
   "version": "3.6.1"
  }
 },
 "nbformat": 4,
 "nbformat_minor": 2
}
