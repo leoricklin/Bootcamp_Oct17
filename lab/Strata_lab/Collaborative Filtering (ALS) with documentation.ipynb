{
 "cells": [
  {
   "cell_type": "markdown",
   "metadata": {},
   "source": [
    "In this tutorial, we will learn how to use tensorflow API to design and implement a matrix factorization model for predicting the movie ratings on the movie lens 1m dataset.\n",
    "\n",
    "In our dataset, we have user ids and movie ids and ratings from each user on different movies. This gives us information of user preferences. \n",
    "\n",
    "Using this information, we want to learn movie and user features(here we call them movie and user embeddings) and use these features to predict the rating, so that we can recommend the potentially highest rated movies to our users. \n",
    "\n",
    "![ALS matrix factorization model](Picture1.png)\n",
    "\n",
    "- users $\\{1,...,N\\}$ with user embeddings $\\{\\theta_1,...,\\theta_N\\} =: \\theta$\n",
    "- movies $\\{1,...,M\\}$ with movie embeddings $\\{\\phi_1,...,\\phi_M\\} =: \\phi$\n",
    "- dataset $D = \\{r_{i,j}: user\\ i\\ has\\ rated\\ movie\\ j\\}$ of all ratings\n",
    "- predicted rating of user $i$ of movie $j$: $\\hat{r}_{i,j} = \\theta_i^T \\cdot \\phi_j$\n",
    "- cost function $J(\\theta, \\phi)  = \\sum_{r_{i,j} \\in D} (r_{i,j} - \\hat{r}_{i,j})^2$\n",
    "- We will use ALS method for matrix factorization. This means we calculate two gradients of our cost function $\\nabla_\\theta J$ and $\\nabla_\\phi J$ independently in order to update our parameters $\\theta$ and $\\phi$ one after another.\n",
    " \n",
    "We will achieve this in following steps:\n",
    "1. Load the movielens data into a pandas dataframe for preprocessing\n",
    "2. Set up our parameters: $\\theta$ and $\\phi$\n",
    "3. Load the data into a tensorflow variable\n",
    "4. Define the prediction and cost\n",
    "5. Start the session and run training, evaluation and finally predictions"
   ]
  },
  {
   "cell_type": "code",
   "execution_count": 1,
   "metadata": {
    "collapsed": true
   },
   "outputs": [],
   "source": [
    "import tensorflow as tf\n",
    "import numpy as np\n",
    "import pandas as pd\n",
    "import matplotlib.pyplot as plt\n",
    "%matplotlib inline"
   ]
  },
  {
   "cell_type": "markdown",
   "metadata": {},
   "source": [
    "### download data"
   ]
  },
  {
   "cell_type": "markdown",
   "metadata": {},
   "source": [
    "First download the data from movie lens website. Once the data file is unzipped, there are three files that we are using-- user.csv, movie.csv and rating.csv."
   ]
  },
  {
   "cell_type": "code",
   "execution_count": 2,
   "metadata": {
    "collapsed": true
   },
   "outputs": [],
   "source": [
    "#! wget -q http://files.grouplens.org/datasets/movielens/ml-1m.zip\n",
    "#! unzip ml-1m.zip"
   ]
  },
  {
   "cell_type": "markdown",
   "metadata": {},
   "source": [
    "### data preprocessing"
   ]
  },
  {
   "cell_type": "markdown",
   "metadata": {},
   "source": [
    "step 1: load data to pandas dataframes, merge the dataframes to one table."
   ]
  },
  {
   "cell_type": "code",
   "execution_count": 3,
   "metadata": {
    "collapsed": true
   },
   "outputs": [],
   "source": [
    "age_desc = { 1: \"Under 18\", 18: \"18-24\", 25: \"25-34\", 35: \"35-44\", 45: \"45-49\", 50: \"50-55\", 56: \"56+\" }\n",
    "occupation_desc = { 0: \"other or not specified\", 1: \"academic/educator\", 2: \"artist\", 3: \"clerical/admin\",\n",
    "                4: \"college/grad student\", 5: \"customer service\", 6: \"doctor/health care\",\n",
    "                7: \"executive/managerial\", 8: \"farmer\", 9: \"homemaker\", 10: \"K-12 student\", 11: \"lawyer\",\n",
    "                12: \"programmer\", 13: \"retired\", 14: \"sales/marketing\", 15: \"scientist\", 16: \"self-employed\",\n",
    "                17: \"technician/engineer\", 18: \"tradesman/craftsman\", 19: \"unemployed\", 20: \"writer\" }\n",
    "\n",
    "rating_data = pd.read_csv(\n",
    "    \"ml-1m/ratings.dat\",\n",
    "    sep=\"::\",\n",
    "    engine=\"python\",\n",
    "    encoding=\"latin-1\",\n",
    "    names=['userid', 'movieid', 'rating', 'timestamp'])\n",
    "\n",
    "user_data = pd.read_csv(\n",
    "    \"ml-1m/users.dat\", \n",
    "    sep='::', \n",
    "    engine='python', \n",
    "    encoding='latin-1',\n",
    "    names=['userid', 'gender', 'age', 'occupation', 'zipcode']\n",
    ")\n",
    "user_data['age_desc'] = user_data['age'].apply(lambda x: age_desc[x])\n",
    "user_data['occ_desc'] = user_data['occupation'].apply(lambda x: occupation_desc[x])\n",
    "\n",
    "movie_data = pd.read_csv(\n",
    "    \"ml-1m/movies.dat\",\n",
    "    sep='::', \n",
    "    engine='python', \n",
    "    encoding='latin-1',\n",
    "    names=['movieid', 'title', 'genre']\n",
    ")\n",
    "\n",
    "dataset = pd.merge(pd.merge(rating_data, movie_data, how=\"left\", on=\"movieid\"), user_data, how=\"left\", on=\"userid\")"
   ]
  },
  {
   "cell_type": "markdown",
   "metadata": {},
   "source": [
    "Step 2: preprocess the movie id and user id"
   ]
  },
  {
   "cell_type": "code",
   "execution_count": 4,
   "metadata": {
    "collapsed": true
   },
   "outputs": [],
   "source": [
    "def check_cols(df, cols):\n",
    "    \"\"\"\n",
    "    check if there are gaps of index, and if the index starts from 0\n",
    "    \n",
    "    Arguments:\n",
    "    df -- dataframe of the dataset\n",
    "    cols -- dataframe columns that needs to be checked, in our case user id and movie id\n",
    "    \n",
    "    Returns:\n",
    "    a list of tuple [('COLUMN_NAME', boolean)], if True, the column needs to be fixed, if False, the column is ok.\n",
    "    \"\"\"\n",
    "    return [(col, False) if len(dataset[col].unique())-1 == dataset[col].max() else (col, True) for col in cols]\n",
    "\n",
    "def remove_gaps(df, col):\n",
    "    \"\"\"\n",
    "    preprocess the index of user id and movie id to start from 0 and eliminate gaps in the index\n",
    "    \n",
    "    Arguments:\n",
    "    df -- dataframe of the dataset\n",
    "    col -- dataframe columns that needs to be adjusted, in our case both user id and movie id\n",
    "    \n",
    "    Returns:\n",
    "    a dataframe with adjusted columns.\n",
    "    \"\"\"\n",
    "    adj_col_uni = df[col].sort_values().unique()\n",
    "    adj_df = pd.DataFrame(adj_col_uni).reset_index().rename(columns = {0: col, 'index': \"adj_%s\"%(col,)})\n",
    "    return pd.merge(adj_df, df, how=\"right\", on=col)"
   ]
  },
  {
   "cell_type": "code",
   "execution_count": 5,
   "metadata": {},
   "outputs": [
    {
     "name": "stdout",
     "output_type": "stream",
     "text": [
      "before fix:\n",
      "userid needs fix!\n",
      "movieid needs fix!\n",
      "\n",
      "after fix\n",
      "adj_userid ok.\n",
      "adj_movieid ok.\n"
     ]
    }
   ],
   "source": [
    "index_cols = [\"userid\", \"movieid\"]\n",
    "cols_check = check_cols(dataset, index_cols)\n",
    "print_check = lambda check: print(*[\"%s needs fix!\"%(c,) if f else \"%s ok.\"%(c,) for c, f in check], sep=\"\\n\")\n",
    "print(\"before fix:\")\n",
    "print_check(cols_check)\n",
    "for col, needs_fix in cols_check:\n",
    "    if needs_fix:\n",
    "        dataset = remove_gaps(dataset, col)\n",
    "\n",
    "print(\"\\nafter fix\")\n",
    "print_check(check_cols(dataset, [\"adj_userid\", \"adj_movieid\"]))"
   ]
  },
  {
   "cell_type": "markdown",
   "metadata": {},
   "source": [
    "step 3: shuffle data and split the data to train and validation set."
   ]
  },
  {
   "cell_type": "code",
   "execution_count": 6,
   "metadata": {
    "collapsed": true
   },
   "outputs": [],
   "source": [
    "dataset = dataset.sample(frac=1, replace=False)\n",
    "n_split = int(len(dataset)*.7)\n",
    "trainset = dataset[:n_split]\n",
    "validset = dataset[n_split:]"
   ]
  },
  {
   "cell_type": "markdown",
   "metadata": {},
   "source": [
    "### build the model"
   ]
  },
  {
   "cell_type": "markdown",
   "metadata": {},
   "source": [
    ">Recall that following is our model:\n",
    "<div class=\"alert alert-block alert-info\">\n",
    "- users $\\{1,...,N\\}$ with user embeddings $\\{\\theta_1,...,\\theta_N\\} =: \\theta$<br>\n",
    "- movies $\\{1,...,M\\}$ with movie embeddings $\\{\\phi_1,...,\\phi_M\\} =: \\phi$<br>\n",
    "- dataset $D = \\{r_{i,j}: user\\ i\\ has\\ rated\\ movie\\ j\\}$ of all ratings<br>\n",
    "- predicted rating of user $i$ of movie $j$: $\\hat{r}_{i,j} = \\theta_i^T \\cdot \\phi_j$<br>\n",
    "- cost function $J(\\theta, \\phi)  = \\sum_{r_{i,j} \\in D} (r_{i,j} - \\hat{r}_{i,j})^2$<br>\n",
    "- We will use ALS method for matrix factorization. This means we calculate two gradients of our cost function $\\nabla_\\theta J$ and $\\nabla_\\phi J$ independently in order to update our parameters $\\theta$ and $\\phi$ one after another.</div>"
   ]
  },
  {
   "cell_type": "code",
   "execution_count": 7,
   "metadata": {
    "collapsed": true
   },
   "outputs": [],
   "source": [
    "def initialize_embeddings(num_users, num_movies, dim):\n",
    "    \"\"\"\n",
    "    Initialize embeddings. User_embedding and movie_embedding are the user and movie embeddings \n",
    "    that need to be learned by the matrix factorization model.\n",
    "    \n",
    "    Arguments:\n",
    "    num_users -- number of users\n",
    "    num_movies -- number of movies\n",
    "    dim -- dimension of learned user and movie embeddings, it's a hyper-parameter\n",
    "    \n",
    "    Returns:\n",
    "    user_embeddings -- a matrix (variable) of shape [number of users, dim]\n",
    "    movie_embeddings -- a matrix (variable) of shape [number of movies, dim]\n",
    "    \"\"\" \n",
    "    user_embeddings = tf.get_variable(\n",
    "        \"theta\",\n",
    "        shape = [num_users, dim],\n",
    "        dtype = tf.float32,\n",
    "        initializer = tf.truncated_normal_initializer(mean=0, stddev=.05)\n",
    "    )\n",
    "    movie_embeddings = tf.get_variable(\n",
    "        \"phi\",\n",
    "        shape = [num_movies, dim],\n",
    "        dtype = tf.float32,\n",
    "        initializer = tf.truncated_normal_initializer(mean=0, stddev=.05)\n",
    "    )\n",
    "    return user_embeddings, movie_embeddings\n",
    "\n",
    "def create_dataset(user_ids, movie_ids, ratings):\n",
    "    \"\"\"\n",
    "    Load user id, movie id and rating values. Turn numpy array to tensors.\n",
    "    \n",
    "    Arguments:\n",
    "    user_ids -- user index\n",
    "    movie_ids -- movies index\n",
    "    ratings -- true rating value\n",
    "    \n",
    "    Returns:\n",
    "    user_id_var -- a tensor of shape [number of training examples, 1]\n",
    "    movie_id_var -- a tensor of shape [number of training examples, 1]\n",
    "    ratings_var -- a tensor of shape [number of training examples, 1]\n",
    "    \n",
    "    \"\"\" \n",
    "    user_id_var = tf.get_variable(\"userid\", initializer=user_ids, trainable=False)\n",
    "    movie_id_var = tf.get_variable(\"movieid\", initializer=movie_ids, trainable=False)\n",
    "    ratings_var = tf.get_variable(\"ratings\", initializer=np.asarray(ratings, dtype=np.float32), trainable=False)\n",
    "    return user_id_var, movie_id_var, ratings_var\n",
    "\n",
    "def create_dataset2(user_ids, movie_ids, ratings):\n",
    "    \"\"\"\n",
    "    Load user id, movie id and rating values. Turn numpy array to tensors.\n",
    "    \n",
    "    Arguments:\n",
    "    user_ids -- user index\n",
    "    movie_ids -- movies index\n",
    "    ratings -- true rating value\n",
    "    \n",
    "    Returns:\n",
    "    user_id_var -- a constant of shape [number of training examples, 1]\n",
    "    movie_id_var -- a constant of shape [number of training examples, 1]\n",
    "    ratings_var -- a constant of shape [number of training examples, 1]\n",
    "    \"\"\" \n",
    "    user_id_var = tf.constant(name=\"userid\", value=user_ids)\n",
    "    movie_id_var = tf.constant(name=\"movieid\", value=movie_ids)\n",
    "    ratings_var = tf.constant(name=\"ratings\", value=np.asarray(ratings, dtype=np.float32))\n",
    "    return user_id_var, movie_id_var, ratings_var\n",
    "\n",
    "def create_dataset3(user_ids, movie_ids, ratings):\n",
    "    \"\"\"\n",
    "    Load user id, movie id and rating values. Turn numpy array to tensors.\n",
    "    \n",
    "    Arguments:\n",
    "    user_ids -- user index\n",
    "    movie_ids -- movies index\n",
    "    ratings -- true rating value\n",
    "    \n",
    "    Returns:\n",
    "    user_id_var -- a non-trainable variable of shape [number of training examples, 1]\n",
    "    movie_id_var -- a non-trainable variable of shape [number of training examples, 1]\n",
    "    ratings_var -- a non-trainable variable of shape [number of training examples, 1]\n",
    "    \n",
    "    \"\"\" \n",
    "    user_id_var = tf.get_variable(\n",
    "        name=\"userid\",\n",
    "        initializer = tf.constant_initializer(user_ids),\n",
    "        shape = user_ids.shape,\n",
    "        dtype = tf.int32,\n",
    "        trainable=False,\n",
    "        collections = []\n",
    "    )#.initialized_value()\n",
    "    movie_id_var = tf.get_variable(\n",
    "        name=\"movieid\", \n",
    "        initializer = tf.constant_initializer(movie_ids),\n",
    "        shape = movie_ids.shape,\n",
    "        dtype = tf.int32,\n",
    "        trainable=False,\n",
    "        collections = []\n",
    "    )#.initialized_value()\n",
    "    ratings = np.asarray(ratings, dtype=np.float32)\n",
    "    ratings_var = tf.get_variable(\n",
    "        name=\"ratings\",\n",
    "        initializer = tf.constant_initializer(ratings),\n",
    "        shape = ratings.shape,\n",
    "        dtype = tf.float32,\n",
    "        trainable=False,\n",
    "        collections = []\n",
    "    )#.initialized_value()\n",
    "    return user_id_var, movie_id_var, ratings_var\n",
    "\n",
    "def lookup_embeddings(user_embeddings, movie_embeddings, user_ids, movie_ids): \n",
    "    \"\"\"\n",
    "    Retrieve embeddings based on user ids and movie ids respectively.\n",
    "    We use tf.gather function for this. tf.gather gathers slices from params according to indices.\n",
    "    \n",
    "    Arguments:\n",
    "    user_embeddings -- shape [number of user ids, dim]\n",
    "    movie_embeddings -- shape [number of movie ids, dim]\n",
    "    user_ids -- user id tensor (in our case loaded user ids from dataset)\n",
    "    movie_ids -- movie id tensor (in our case loaded movie ids from dataset)\n",
    "    \n",
    "    Returns:\n",
    "    selected_user_embeddings -- a tensor of shape [number of user ids, dim]\n",
    "    selected_movie_embeddings -- a tensor of shape [number of movie ids, dim]\n",
    "    \"\"\" \n",
    "    selected_user_embeddings = tf.gather(user_embeddings, user_ids)\n",
    "    selected_movie_embeddings = tf.gather(movie_embeddings, movie_ids)\n",
    "    return selected_user_embeddings, selected_movie_embeddings\n",
    "\n",
    "def predict(selected_user_embeddings, selected_movie_embeddings):\n",
    "    \"\"\"\n",
    "    Calculate predictions. This is the dot product of user embedding and movie embedding. \n",
    "    For each training example, this corresponds to a single number.\n",
    "    \n",
    "    Arguments:\n",
    "    selected_user_embeddings -- matrix of user embeddings for each example -- shape [number of examples, dim]\n",
    "    selected_movie_embeddings -- matrix of movies embedding value for each example -- shape [number of examples, dim]\n",
    "    \n",
    "    Returns:\n",
    "    selected_predictions -- a tensor of shape [number of examples, 1]\n",
    "    \"\"\" \n",
    "    selected_predictions = tf.reduce_sum(\n",
    "        selected_user_embeddings * selected_movie_embeddings,\n",
    "        axis = 1\n",
    "    )\n",
    "    return selected_predictions\n",
    "\n",
    "def mean_squared_difference(predictions, ratings):\n",
    "    \"\"\"\n",
    "    Calculate cost.\n",
    "    \n",
    "    Arguments:\n",
    "    predictions -- predicted ratings.\n",
    "    ratings -- true ratings.\n",
    "    \n",
    "    Returns:\n",
    "    difference -- mean squared error. It's a real number. \n",
    "    \"\"\" \n",
    "    difference = tf.reduce_mean(tf.squared_difference(predictions, ratings))\n",
    "    return difference"
   ]
  },
  {
   "cell_type": "markdown",
   "metadata": {},
   "source": [
    "### set hyper parameters"
   ]
  },
  {
   "cell_type": "code",
   "execution_count": 8,
   "metadata": {
    "collapsed": true
   },
   "outputs": [],
   "source": [
    "emb_dim = 8\n",
    "learning_rate = 50\n",
    "epochs = 1000"
   ]
  },
  {
   "cell_type": "markdown",
   "metadata": {},
   "source": [
    "### train model"
   ]
  },
  {
   "cell_type": "markdown",
   "metadata": {},
   "source": [
    "Here we define the tensorflow graph and create the session to compute the values.\n",
    "\n",
    "From the tensorflow documentation:\n",
    " - A graph defines the computation. It doesn’t compute anything, it doesn’t hold any values, it just defines the operations that you specified in your code.\n",
    " - A session allows to execute graphs or part of graphs. It allocates resources (on one or more machines) for that and holds the actual values of intermediate results and variables."
   ]
  },
  {
   "cell_type": "code",
   "execution_count": 9,
   "metadata": {
    "collapsed": true,
    "scrolled": false
   },
   "outputs": [],
   "source": [
    "with tf.Graph().as_default():\n",
    "    with tf.variable_scope(\"embeddings\"):\n",
    "        usr_embs, mov_embs = initialize_embeddings(len(dataset.adj_userid.unique()), len(dataset.adj_movieid.unique()), emb_dim)\n",
    "    with tf.variable_scope(\"train_set\"):\n",
    "        train_data = trainset[[\"adj_userid\", \"adj_movieid\", \"rating\"]].values.T\n",
    "        train_usr_ids, train_mov_ids, train_ratings = create_dataset(*train_data)\n",
    "    with tf.variable_scope(\"valid_set\"):\n",
    "        valid_data = validset[[\"adj_userid\", \"adj_movieid\", \"rating\"]].values.T\n",
    "        valid_usr_ids, valid_mov_ids, valid_ratings = create_dataset(*valid_data)\n",
    "    with tf.variable_scope(\"training\"):\n",
    "        train_sel_usr_emb, train_sel_mov_emb = lookup_embeddings(usr_embs, mov_embs, train_usr_ids, train_mov_ids)\n",
    "        train_preds = predict(train_sel_usr_emb, train_sel_mov_emb)\n",
    "        train_loss = mean_squared_difference(train_preds, train_ratings)\n",
    "        optimizer = tf.train.GradientDescentOptimizer(learning_rate=learning_rate)\n",
    "        train_usr_embs = optimizer.minimize(train_loss, var_list=[usr_embs])\n",
    "        train_mov_embs = optimizer.minimize(train_loss, var_list=[mov_embs])   \n",
    "    with tf.variable_scope(\"validation\"):\n",
    "        valid_sel_usr_emb, valid_sel_mov_emb = lookup_embeddings(usr_embs, mov_embs, valid_usr_ids, valid_mov_ids)\n",
    "        valid_preds = predict(valid_sel_usr_emb, valid_sel_mov_emb)\n",
    "        valid_loss = mean_squared_difference(valid_preds, valid_ratings)\n",
    "    with tf.Session() as sess:\n",
    "        writer = tf.summary.FileWriter('Graph/MF',sess.graph)\n",
    "        #sess.run([train_usr_ids.initializer, train_mov_ids.initializer, train_ratings.initializer])\n",
    "        #sess.run([valid_usr_ids.initializer, valid_mov_ids.initializer, valid_ratings.initializer])\n",
    "        sess.run(tf.global_variables_initializer())\n",
    "        train_loss_history = []\n",
    "        valid_loss_history = []\n",
    "        for i in range(epochs):\n",
    "            current_train_loss, _ = sess.run([train_loss, train_usr_embs])\n",
    "            #print(\"train loss after %ith user emb. opt. step: %f\"%(i+1, current_train_loss))\n",
    "            current_train_loss, _ = sess.run([train_loss, train_mov_embs])\n",
    "            #print(\"train loss after %ith movie emb. opt. step: %f\"%(i+1, current_train_loss))\n",
    "            current_valid_loss = sess.run(valid_loss)\n",
    "            #print(\"valid loss after %ith movie emb. opt. step: %f\"%(i+1, current_valid_loss))\n",
    "            train_loss_history.append(current_train_loss)\n",
    "            valid_loss_history.append(current_valid_loss)\n",
    "        final_user_embeddings, final_movie_embeddings = sess.run([usr_embs, mov_embs])\n",
    "        final_valid_predictions = sess.run(valid_preds) \n",
    "        writer.close()"
   ]
  },
  {
   "cell_type": "markdown",
   "metadata": {},
   "source": [
    "### plot losses"
   ]
  },
  {
   "cell_type": "markdown",
   "metadata": {},
   "source": [
    "plot the traing loss and valid loss"
   ]
  },
  {
   "cell_type": "code",
   "execution_count": 10,
   "metadata": {},
   "outputs": [
    {
     "data": {
      "image/png": "[encoded data removed]",
      "text/plain": [
       "<matplotlib.figure.Figure at 0x1153f2240>"
      ]
     },
     "metadata": {},
     "output_type": "display_data"
    }
   ],
   "source": [
    "plt.figure(figsize=(12,10))\n",
    "plt.plot(train_loss_history, color=\"red\", label=\"train loss\")\n",
    "plt.plot(valid_loss_history, color=\"blue\", label=\"valid loss\")\n",
    "plt.xlabel(\"epoch\")\n",
    "plt.ylabel(\"loss\")\n",
    "plt.legend()\n",
    "plt.show()"
   ]
  },
  {
   "cell_type": "markdown",
   "metadata": {},
   "source": [
    "### results on validation set"
   ]
  },
  {
   "cell_type": "code",
   "execution_count": 11,
   "metadata": {},
   "outputs": [
    {
     "data": {
      "text/html": [
       "<div>\n",
       "<style>\n",
       "    .dataframe thead tr:only-child th {\n",
       "        text-align: right;\n",
       "    }\n",
       "\n",
       "    .dataframe thead th {\n",
       "        text-align: left;\n",
       "    }\n",
       "\n",
       "    .dataframe tbody tr th {\n",
       "        vertical-align: top;\n",
       "    }\n",
       "</style>\n",
       "<table border=\"1\" class=\"dataframe\">\n",
       "  <thead>\n",
       "    <tr style=\"text-align: right;\">\n",
       "      <th></th>\n",
       "      <th>gender</th>\n",
       "      <th>userid</th>\n",
       "      <th>movieid</th>\n",
       "      <th>age_desc</th>\n",
       "      <th>occ_desc</th>\n",
       "      <th>title</th>\n",
       "      <th>genre</th>\n",
       "      <th>rating</th>\n",
       "      <th>prediction (rnd.)</th>\n",
       "      <th>prediction (prc.)</th>\n",
       "    </tr>\n",
       "  </thead>\n",
       "  <tbody>\n",
       "    <tr>\n",
       "      <th>49536</th>\n",
       "      <td>M</td>\n",
       "      <td>2507</td>\n",
       "      <td>171</td>\n",
       "      <td>25-34</td>\n",
       "      <td>college/grad student</td>\n",
       "      <td>Jeffrey (1995)</td>\n",
       "      <td>Comedy</td>\n",
       "      <td>4</td>\n",
       "      <td>4</td>\n",
       "      <td>3.923754</td>\n",
       "    </tr>\n",
       "    <tr>\n",
       "      <th>299582</th>\n",
       "      <td>M</td>\n",
       "      <td>984</td>\n",
       "      <td>1197</td>\n",
       "      <td>50-55</td>\n",
       "      <td>self-employed</td>\n",
       "      <td>Princess Bride, The (1987)</td>\n",
       "      <td>Action|Adventure|Comedy|Romance</td>\n",
       "      <td>4</td>\n",
       "      <td>4</td>\n",
       "      <td>3.519701</td>\n",
       "    </tr>\n",
       "    <tr>\n",
       "      <th>738324</th>\n",
       "      <td>F</td>\n",
       "      <td>3308</td>\n",
       "      <td>2724</td>\n",
       "      <td>18-24</td>\n",
       "      <td>writer</td>\n",
       "      <td>Runaway Bride (1999)</td>\n",
       "      <td>Comedy|Romance</td>\n",
       "      <td>4</td>\n",
       "      <td>3</td>\n",
       "      <td>2.556867</td>\n",
       "    </tr>\n",
       "    <tr>\n",
       "      <th>900461</th>\n",
       "      <td>M</td>\n",
       "      <td>5795</td>\n",
       "      <td>3432</td>\n",
       "      <td>25-34</td>\n",
       "      <td>academic/educator</td>\n",
       "      <td>Death Wish 3 (1985)</td>\n",
       "      <td>Action|Drama</td>\n",
       "      <td>1</td>\n",
       "      <td>1</td>\n",
       "      <td>1.461695</td>\n",
       "    </tr>\n",
       "    <tr>\n",
       "      <th>531555</th>\n",
       "      <td>M</td>\n",
       "      <td>5627</td>\n",
       "      <td>1967</td>\n",
       "      <td>25-34</td>\n",
       "      <td>other or not specified</td>\n",
       "      <td>Labyrinth (1986)</td>\n",
       "      <td>Adventure|Children's|Fantasy</td>\n",
       "      <td>2</td>\n",
       "      <td>3</td>\n",
       "      <td>2.547536</td>\n",
       "    </tr>\n",
       "  </tbody>\n",
       "</table>\n",
       "</div>"
      ],
      "text/plain": [
       "       gender  userid  movieid age_desc                occ_desc  \\\n",
       "49536       M    2507      171    25-34    college/grad student   \n",
       "299582      M     984     1197    50-55           self-employed   \n",
       "738324      F    3308     2724    18-24                  writer   \n",
       "900461      M    5795     3432    25-34       academic/educator   \n",
       "531555      M    5627     1967    25-34  other or not specified   \n",
       "\n",
       "                             title                            genre  rating  \\\n",
       "49536               Jeffrey (1995)                           Comedy       4   \n",
       "299582  Princess Bride, The (1987)  Action|Adventure|Comedy|Romance       4   \n",
       "738324        Runaway Bride (1999)                   Comedy|Romance       4   \n",
       "900461         Death Wish 3 (1985)                     Action|Drama       1   \n",
       "531555            Labyrinth (1986)     Adventure|Children's|Fantasy       2   \n",
       "\n",
       "        prediction (rnd.)  prediction (prc.)  \n",
       "49536                   4           3.923754  \n",
       "299582                  4           3.519701  \n",
       "738324                  3           2.556867  \n",
       "900461                  1           1.461695  \n",
       "531555                  3           2.547536  "
      ]
     },
     "execution_count": 11,
     "metadata": {},
     "output_type": "execute_result"
    }
   ],
   "source": [
    "results = validset[[\"gender\", \"userid\",\"movieid\",\"age_desc\",\"occ_desc\", \"title\", \"genre\", \"rating\"]].copy()\n",
    "results[\"prediction (rnd.)\"] = np.asarray(np.round(final_valid_predictions), dtype=np.int16)\n",
    "results[\"prediction (prc.)\"] = final_valid_predictions\n",
    "results.head(5)"
   ]
  },
  {
   "cell_type": "markdown",
   "metadata": {},
   "source": [
    "### Measures"
   ]
  },
  {
   "cell_type": "code",
   "execution_count": 12,
   "metadata": {
    "collapsed": true
   },
   "outputs": [],
   "source": [
    "### Precision, Recall, MAE, RMSE measures:\n",
    "\n",
    "def compute_recall(prediction_col, target_col):\n",
    "    recall=[]\n",
    "    for i in range(5):\n",
    "        rating_df = results[results[target_col]==i+1]\n",
    "        num_true_rating = len(rating_df)+0.0\n",
    "        current_recall = (len(rating_df[rating_df[prediction_col]==i+1]))/num_true_rating\n",
    "        recall.append(current_recall)\n",
    "    return recall\n",
    "\n",
    "def compute_precision(prediction_col, target_col): \n",
    "    precision=[]\n",
    "    for i in range(5):\n",
    "        pred_df = results[results[prediction_col]==i+1]\n",
    "        pred_rating = len(pred_df)+0.0\n",
    "        current_precision = (len(pred_df[pred_df[target_col]==i+1]))/pred_rating\n",
    "        precision.append(current_precision)\n",
    "    return precision    \n",
    "\n",
    "def compute_mae(prediction_col, target_col):\n",
    "    return np.mean(np.abs(results[prediction_col]-results[target_col]))\n",
    "\n",
    "def compute_rmse(prediction_col, target_col):\n",
    "    return np.sqrt(1/len(results)*np.sum((results[prediction_col]- results[target_col])**2))"
   ]
  },
  {
   "cell_type": "code",
   "execution_count": 13,
   "metadata": {},
   "outputs": [
    {
     "data": {
      "text/plain": [
       "[0.11906330478529077,\n",
       " 0.2633327182136926,\n",
       " 0.5024008151308668,\n",
       " 0.6371937532833468,\n",
       " 0.2764702403831939]"
      ]
     },
     "execution_count": 13,
     "metadata": {},
     "output_type": "execute_result"
    }
   ],
   "source": [
    "compute_recall('prediction (rnd.)', 'rating')"
   ]
  },
  {
   "cell_type": "code",
   "execution_count": 14,
   "metadata": {},
   "outputs": [
    {
     "data": {
      "text/plain": [
       "[0.6874135546334716,\n",
       " 0.3511894995898277,\n",
       " 0.40581052025143255,\n",
       " 0.45389043109079036,\n",
       " 0.6645936245069121]"
      ]
     },
     "execution_count": 14,
     "metadata": {},
     "output_type": "execute_result"
    }
   ],
   "source": [
    "compute_precision('prediction (rnd.)', 'rating')"
   ]
  },
  {
   "cell_type": "code",
   "execution_count": 15,
   "metadata": {},
   "outputs": [
    {
     "data": {
      "text/plain": [
       "0.6410353825696604"
      ]
     },
     "execution_count": 15,
     "metadata": {},
     "output_type": "execute_result"
    }
   ],
   "source": [
    "compute_mae('prediction (rnd.)', 'rating')"
   ]
  },
  {
   "cell_type": "code",
   "execution_count": 16,
   "metadata": {},
   "outputs": [
    {
     "data": {
      "text/plain": [
       "0.91924926577725041"
      ]
     },
     "execution_count": 16,
     "metadata": {},
     "output_type": "execute_result"
    }
   ],
   "source": [
    "compute_rmse('prediction (rnd.)', 'rating')"
   ]
  },
  {
   "cell_type": "code",
   "execution_count": null,
   "metadata": {
    "collapsed": true
   },
   "outputs": [],
   "source": []
  }
 ],
 "metadata": {
  "kernelspec": {
   "display_name": "Python 3",
   "language": "python",
   "name": "python3"
  },
  "language_info": {
   "codemirror_mode": {
    "name": "ipython",
    "version": 3
   },
   "file_extension": ".py",
   "mimetype": "text/x-python",
   "name": "python",
   "nbconvert_exporter": "python",
   "pygments_lexer": "ipython3",
   "version": "3.6.1"
  }
 },
 "nbformat": 4,
 "nbformat_minor": 2
}
